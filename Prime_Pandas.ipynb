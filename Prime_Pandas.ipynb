{
 "cells": [
  {
   "cell_type": "code",
   "execution_count": 1,
   "id": "f8fd048c",
   "metadata": {},
   "outputs": [],
   "source": [
    "import pandas as pd\n",
    "import numpy as np"
   ]
  },
  {
   "cell_type": "markdown",
   "id": "efd90a66",
   "metadata": {},
   "source": [
    "# 1. Data Structures"
   ]
  },
  {
   "cell_type": "markdown",
   "id": "4100dcce",
   "metadata": {},
   "source": [
    "## 1.1 Series "
   ]
  },
  {
   "cell_type": "markdown",
   "id": "4bf2edc1",
   "metadata": {},
   "source": [
    "pandas.Series is one-dimensional **ndarray** with **axis labels**. So it acts like an **ndarray** and a **dict**."
   ]
  },
  {
   "cell_type": "markdown",
   "id": "92787645",
   "metadata": {},
   "source": [
    "### 1.1.1 Create Series "
   ]
  },
  {
   "cell_type": "code",
   "execution_count": 2,
   "id": "71ba7bd5",
   "metadata": {},
   "outputs": [
    {
     "name": "stdout",
     "output_type": "stream",
     "text": [
      "0    0.764189\n",
      "1    0.500157\n",
      "2   -1.102028\n",
      "3    0.083789\n",
      "4   -0.059464\n",
      "dtype: float64\n",
      "a    2\n",
      "b    3\n",
      "c    1\n",
      "d    4\n",
      "e    5\n",
      "dtype: int64\n",
      "a    1.0\n",
      "b    2.0\n",
      "c    3.0\n",
      "dtype: float64\n",
      "x    NaN\n",
      "y    NaN\n",
      "a    1.0\n",
      "a    1.0\n",
      "dtype: float64\n",
      "a    5\n",
      "b    5\n",
      "c    5\n",
      "dtype: int64\n"
     ]
    }
   ],
   "source": [
    "# Construct function\n",
    "pd.Series(data=None, index=None, dtype=None, name=None, copy=False)\n",
    "# Parameter data: array-like, Iterable, dict, scalar\n",
    "# Parameter index: array-like or Index(1d)\n",
    "\n",
    "# create Series from ndarray\n",
    "s = pd.Series(np.random.randn(5))\n",
    "print(s)\n",
    "\n",
    "# create Series from array\n",
    "s = pd.Series([2, 3, 1, 4, 5], index = ['a', 'b', 'c', 'd', 'e'])\n",
    "print(s)\n",
    "\n",
    "# create Series from dict\n",
    "s = pd.Series({'a': 1.0, 'b': 2.0, 'c': 3.0}) # key as the index\n",
    "print(s)\n",
    "s = pd.Series({'a': 1.0, 'b': 2.0, 'c': 3.0}, index=['x', 'y', 'a', 'a']) # Non-unique index values are allowed.\n",
    "# If an index is passed, the values in data corresponding to the labels in the index will be pulled out.\n",
    "# Return NaN if no key corresponds to the index label.\n",
    "print(s)\n",
    "\n",
    "# create Series from scalar\n",
    "s = pd.Series(5, index=['a', 'b', 'c'])\n",
    "print(s)\n"
   ]
  },
  {
   "cell_type": "markdown",
   "id": "477b4855",
   "metadata": {},
   "source": [
    "### 1.1.2 Series is ndarray-like "
   ]
  },
  {
   "cell_type": "markdown",
   "id": "d9624271",
   "metadata": {},
   "source": [
    "Series acts very similarly to a ndarray and is a valid argument to most Numpy functions. And operations such as slicing will also slice the index."
   ]
  },
  {
   "cell_type": "code",
   "execution_count": 3,
   "id": "18aa622a",
   "metadata": {},
   "outputs": [
    {
     "name": "stdout",
     "output_type": "stream",
     "text": [
      "a    1.478949\n",
      "b   -2.369137\n",
      "c    0.344309\n",
      "Name: mySeries, dtype: float64\n",
      "b   -2.369137\n",
      "c    0.344309\n",
      "d    1.584611\n",
      "Name: mySeries, dtype: float64\n",
      "a    1.478949\n",
      "d    1.584611\n",
      "Name: mySeries, dtype: float64\n"
     ]
    }
   ],
   "source": [
    "s = pd.Series(np.random.randn(5), index=['a', 'b', 'c', 'd', 'e'], name='mySeries')\n",
    "print(s[:3])\n",
    "print(s['b':'d']) # different from number slicing, index slicing includes both start point and end point.\n",
    "print(s[s > s.median()])"
   ]
  },
  {
   "cell_type": "markdown",
   "id": "6ba17f88",
   "metadata": {},
   "source": [
    "Different from ndarray, operations between Series automatically align the data based on label. Thus, you can write computations without giving consideration to whether the Series involved have the same labels. If a label is not found in one Series or the other, the result will be marked as missing NaN."
   ]
  },
  {
   "cell_type": "code",
   "execution_count": 4,
   "id": "42b19ae8",
   "metadata": {},
   "outputs": [
    {
     "data": {
      "text/plain": [
       "a         NaN\n",
       "b   -4.738274\n",
       "c    0.688618\n",
       "d    3.169222\n",
       "e         NaN\n",
       "Name: mySeries, dtype: float64"
      ]
     },
     "execution_count": 4,
     "metadata": {},
     "output_type": "execute_result"
    }
   ],
   "source": [
    "s[1:] + s[:-1]"
   ]
  },
  {
   "cell_type": "markdown",
   "id": "2a470996",
   "metadata": {},
   "source": [
    "While Series is ndarray-like, if you need an actual ndarray, use Series.to_numpy()"
   ]
  },
  {
   "cell_type": "code",
   "execution_count": 5,
   "id": "cdcef178",
   "metadata": {},
   "outputs": [
    {
     "data": {
      "text/plain": [
       "array([ 1.47894855, -2.36913715,  0.3443091 ,  1.58461078, -0.73458289])"
      ]
     },
     "execution_count": 5,
     "metadata": {},
     "output_type": "execute_result"
    }
   ],
   "source": [
    "s.to_numpy()"
   ]
  },
  {
   "cell_type": "markdown",
   "id": "2d7cddba",
   "metadata": {},
   "source": [
    "### 1.1.3 Series is dict-like "
   ]
  },
  {
   "cell_type": "code",
   "execution_count": 6,
   "id": "c5fbe0e8",
   "metadata": {},
   "outputs": [
    {
     "name": "stdout",
     "output_type": "stream",
     "text": [
      "True\n",
      "1.4789485491624785\n",
      "1.4789485491624785\n",
      "False\n",
      "None\n",
      "nan\n"
     ]
    }
   ],
   "source": [
    "print('a' in s)\n",
    "print(s['a'])\n",
    "print(s.get('a'))\n",
    "print('f' in s)\n",
    "# print(s['f']) # error\n",
    "print(s.get('f'))\n",
    "print(s.get('f', np.nan))"
   ]
  },
  {
   "cell_type": "markdown",
   "id": "00fe35e5",
   "metadata": {},
   "source": [
    "## 1.2 DataFrame"
   ]
  },
  {
   "cell_type": "markdown",
   "id": "0bfffc39",
   "metadata": {},
   "source": [
    "pandas.DataFrame is a two-dimensional, size-multable, potentially heterogeneous tabular data. It contains labeled axes (rows and columns). Can be thought of as a dict-like container for Series objects. The primary pandas data structure."
   ]
  },
  {
   "cell_type": "markdown",
   "id": "2edaa6cf",
   "metadata": {},
   "source": [
    "### 1.2.1 Create DataFrame "
   ]
  },
  {
   "cell_type": "code",
   "execution_count": 7,
   "id": "8b4a4536",
   "metadata": {},
   "outputs": [
    {
     "name": "stdout",
     "output_type": "stream",
     "text": [
      "   col1  col2\n",
      "a   1.0   4.0\n",
      "b   2.0   5.0\n",
      "c   3.0   NaN\n",
      "d   NaN   6.0\n",
      "   col1  col2\n",
      "a     1     4\n",
      "b     2     5\n",
      "c     3     6\n",
      "   a  b    c\n",
      "0  1  2  NaN\n",
      "1  4  5  6.0\n",
      "   col1  col2\n",
      "0   NaN   NaN\n",
      "1   NaN   NaN\n"
     ]
    }
   ],
   "source": [
    "# Construct function\n",
    "pd.DataFrame(data=None, index=None, columns=None, dtype=None, copy=False)\n",
    "# Parameter data: ndarry(structured or homogeneous), Iterable, dict, or DataFrame\n",
    "\n",
    "# create DataFrame from dict of Series\n",
    "df = pd.DataFrame({'col1': pd.Series([1.0, 2.0, 3.0], index=['a', 'b', 'c']),\n",
    "                  'col2': pd.Series([4.0, 5.0, 6.0], index=['a', 'b', 'd'])})\n",
    "print(df)\n",
    "\n",
    "# create DataFrame from dict of ndarrays/lists\n",
    "df = pd.DataFrame({'col1':[1, 2, 3], 'col2':[4, 5, 6]}, index=['a', 'b', 'c'])\n",
    "print(df)\n",
    "\n",
    "# Optional\n",
    "# create DataFrame from a list of dicts.\n",
    "df = pd.DataFrame([{'a': 1, 'b': 2}, {'a': 4, 'b': 5, 'c': 6}])\n",
    "print(df)\n",
    "\n",
    "df = pd.DataFrame([{'a': 1, 'b': 2}, {'a': 4, 'b': 5, 'c': 6}], columns=['col1', 'col2'])\n",
    "print(df)\n",
    "\n",
    "# To summarize, keys in the dict data are for columns"
   ]
  },
  {
   "cell_type": "markdown",
   "id": "57295f88",
   "metadata": {},
   "source": [
    "### 1.2.2 Read and write DataFrame"
   ]
  },
  {
   "cell_type": "markdown",
   "id": "8f512e4a",
   "metadata": {},
   "source": [
    " ### 1. ***pd.read_csv()***, read csv file & text file, return DataFrame\n",
    "\n",
    "**Parameters:**  \n",
    "**filepath_or_buffer**: filepath, str, url, or any object with a read() method (such as an open file or StringIO)\n",
    "\n",
    "**sep / delimiter**: sep, default ','; delimiter, default None\n",
    "\n",
    "**header**: default 'infer'. header=0: infer from first line. header=None: column names are passed. header='infer': if column names are passed, like header=None, else like header = 0. Note that this parameter ignores commented lines and empty lines if skip_blank_lines=True(default), so header=0 denotes the first line of data rather than the first line of the file.\n",
    "**names**: array-like, default None. Column names.\n",
    "**index_col**: int, str, sequence of int/str. Column(s) to use as row labels.\n",
    "\n",
    "**usecols**: list-like or callable, default None. Return a subset of columns.\n",
    "**skip_rows**: list-like or integer, default None. Line numbers to skip(0-indexed) or number of lines to skip (int) at the start of the file.\n",
    "**nrows**: int, defatul None. Number of rows of file to read.\n",
    "\n",
    "**true_values**: list, default None. Values to consider as True.\n",
    "**false_values**: list, default None. Values to consider as False.\n",
    "**na_values**: list and others, defaule None. Additional strings to recognize as NA/NaN.\n",
    "**keep_default_na**: boolean, defatult True. Whether or not to include the default NaN values when parsing the data.\n",
    "\n",
    "**parse_dates**: boolean or list of ints or names or list of lists or dict, default False.  \n",
    "- If True: try parsing the index.  \n",
    "- If [1, 2, 3]:try parsing columns 1,2,3 each as a separate data column. \n",
    "- If [[1, 3]]: combine columns 1 and 3 and parse as a single data column.\n",
    "**date_format**: str or dict of column -> format, default None. If used in conjuction with parse_dates, will parse dates according to this format. For anything more complex, please read in as object and then apply to_datetime() as-needed.\n",
    "\n",
    "**dtype**: indicate the date type for the whole DataFrame or individual columns.\n",
    "**converters**: deal with columns with mixed types."
   ]
  },
  {
   "cell_type": "code",
   "execution_count": 8,
   "id": "49c62b2a",
   "metadata": {},
   "outputs": [
    {
     "data": {
      "text/html": [
       "<div>\n",
       "<style scoped>\n",
       "    .dataframe tbody tr th:only-of-type {\n",
       "        vertical-align: middle;\n",
       "    }\n",
       "\n",
       "    .dataframe tbody tr th {\n",
       "        vertical-align: top;\n",
       "    }\n",
       "\n",
       "    .dataframe thead th {\n",
       "        text-align: right;\n",
       "    }\n",
       "</style>\n",
       "<table border=\"1\" class=\"dataframe\">\n",
       "  <thead>\n",
       "    <tr style=\"text-align: right;\">\n",
       "      <th></th>\n",
       "      <th>word</th>\n",
       "      <th>length</th>\n",
       "    </tr>\n",
       "  </thead>\n",
       "  <tbody>\n",
       "    <tr>\n",
       "      <th>0</th>\n",
       "      <td>Träumen</td>\n",
       "      <td>7</td>\n",
       "    </tr>\n",
       "    <tr>\n",
       "      <th>1</th>\n",
       "      <td>Grüße</td>\n",
       "      <td>5</td>\n",
       "    </tr>\n",
       "  </tbody>\n",
       "</table>\n",
       "</div>"
      ],
      "text/plain": [
       "      word  length\n",
       "0  Träumen       7\n",
       "1    Grüße       5"
      ]
     },
     "execution_count": 8,
     "metadata": {},
     "output_type": "execute_result"
    }
   ],
   "source": [
    "from io import BytesIO\n",
    "data = b\"word,length\\n\" b\"Tr\\xc3\\xa4umen,7\\n\" b\"Gr\\xc3\\xbc\\xc3\\x9fe,5\"\n",
    "df = pd.read_csv(BytesIO(data), encoding='utf-8') # By test, adding encoding='utf-8' or not won't affect the result\n",
    "df"
   ]
  },
  {
   "cell_type": "markdown",
   "id": "9d0a557a",
   "metadata": {},
   "source": [
    "### 2. to_csv(), Series/DataFrame instance method, store objects to csv/text file\n",
    "**Parameters:**  \n",
    "**path_or_buf**: a string path to the file or a file object.  \n",
    "**sep**: Field delimiter, default ','."
   ]
  },
  {
   "cell_type": "code",
   "execution_count": 9,
   "id": "10cbcf8a",
   "metadata": {},
   "outputs": [
    {
     "name": "stdout",
     "output_type": "stream",
     "text": [
      ",word,length\r\n",
      "0,Träumen,7\r\n",
      "1,Grüße,5\r\n",
      "\n"
     ]
    }
   ],
   "source": [
    "from io import StringIO\n",
    "with StringIO() as f:\n",
    "    df.to_csv(f)\n",
    "    f.seek(0)\n",
    "    print(f.read())"
   ]
  },
  {
   "cell_type": "markdown",
   "id": "5abe51a9",
   "metadata": {},
   "source": [
    "### 1.2.3 Explore DataFrame data"
   ]
  },
  {
   "cell_type": "code",
   "execution_count": 10,
   "id": "f46d0c94",
   "metadata": {},
   "outputs": [],
   "source": [
    "s = pd.Series(np.random.randn(5), index=[\"a\", \"b\", \"c\", \"d\", \"e\"])\n",
    "df = pd.DataFrame(np.random.randn(8, 3), index=list('abcdefgh'), columns=[\"A\", \"B\", \"C\"])"
   ]
  },
  {
   "cell_type": "code",
   "execution_count": 11,
   "id": "65460d10",
   "metadata": {},
   "outputs": [
    {
     "data": {
      "text/html": [
       "<div>\n",
       "<style scoped>\n",
       "    .dataframe tbody tr th:only-of-type {\n",
       "        vertical-align: middle;\n",
       "    }\n",
       "\n",
       "    .dataframe tbody tr th {\n",
       "        vertical-align: top;\n",
       "    }\n",
       "\n",
       "    .dataframe thead th {\n",
       "        text-align: right;\n",
       "    }\n",
       "</style>\n",
       "<table border=\"1\" class=\"dataframe\">\n",
       "  <thead>\n",
       "    <tr style=\"text-align: right;\">\n",
       "      <th></th>\n",
       "      <th>A</th>\n",
       "      <th>B</th>\n",
       "      <th>C</th>\n",
       "    </tr>\n",
       "  </thead>\n",
       "  <tbody>\n",
       "    <tr>\n",
       "      <th>a</th>\n",
       "      <td>0.255054</td>\n",
       "      <td>-0.621269</td>\n",
       "      <td>0.237882</td>\n",
       "    </tr>\n",
       "    <tr>\n",
       "      <th>b</th>\n",
       "      <td>1.567858</td>\n",
       "      <td>1.111907</td>\n",
       "      <td>0.423992</td>\n",
       "    </tr>\n",
       "    <tr>\n",
       "      <th>c</th>\n",
       "      <td>0.518663</td>\n",
       "      <td>-1.032737</td>\n",
       "      <td>-0.425028</td>\n",
       "    </tr>\n",
       "    <tr>\n",
       "      <th>d</th>\n",
       "      <td>0.833223</td>\n",
       "      <td>0.224238</td>\n",
       "      <td>-0.598748</td>\n",
       "    </tr>\n",
       "    <tr>\n",
       "      <th>e</th>\n",
       "      <td>-1.453560</td>\n",
       "      <td>1.310514</td>\n",
       "      <td>-0.203731</td>\n",
       "    </tr>\n",
       "    <tr>\n",
       "      <th>f</th>\n",
       "      <td>-0.847722</td>\n",
       "      <td>-1.586865</td>\n",
       "      <td>-1.189951</td>\n",
       "    </tr>\n",
       "    <tr>\n",
       "      <th>g</th>\n",
       "      <td>0.003067</td>\n",
       "      <td>0.076233</td>\n",
       "      <td>-0.330683</td>\n",
       "    </tr>\n",
       "    <tr>\n",
       "      <th>h</th>\n",
       "      <td>-0.348789</td>\n",
       "      <td>0.132711</td>\n",
       "      <td>0.023626</td>\n",
       "    </tr>\n",
       "  </tbody>\n",
       "</table>\n",
       "</div>"
      ],
      "text/plain": [
       "          A         B         C\n",
       "a  0.255054 -0.621269  0.237882\n",
       "b  1.567858  1.111907  0.423992\n",
       "c  0.518663 -1.032737 -0.425028\n",
       "d  0.833223  0.224238 -0.598748\n",
       "e -1.453560  1.310514 -0.203731\n",
       "f -0.847722 -1.586865 -1.189951\n",
       "g  0.003067  0.076233 -0.330683\n",
       "h -0.348789  0.132711  0.023626"
      ]
     },
     "execution_count": 11,
     "metadata": {},
     "output_type": "execute_result"
    }
   ],
   "source": [
    "df.head() # display 5 head rows\n",
    "df.head(10) # display 10 head rows\n",
    "df.tail() # display 5 tail rows\n",
    "df.tail(10) # display 10 tail rows"
   ]
  },
  {
   "cell_type": "code",
   "execution_count": 12,
   "id": "d8b3d1eb",
   "metadata": {},
   "outputs": [
    {
     "data": {
      "text/plain": [
       "(8, 3)"
      ]
     },
     "execution_count": 12,
     "metadata": {},
     "output_type": "execute_result"
    }
   ],
   "source": [
    "df.shape"
   ]
  },
  {
   "cell_type": "code",
   "execution_count": 13,
   "id": "ad6c032b",
   "metadata": {},
   "outputs": [
    {
     "data": {
      "text/plain": [
       "Index(['A', 'B', 'C'], dtype='object')"
      ]
     },
     "execution_count": 13,
     "metadata": {},
     "output_type": "execute_result"
    }
   ],
   "source": [
    "df.index\n",
    "df.columns"
   ]
  },
  {
   "cell_type": "code",
   "execution_count": 14,
   "id": "ab803fa5",
   "metadata": {},
   "outputs": [
    {
     "data": {
      "text/html": [
       "<div>\n",
       "<style scoped>\n",
       "    .dataframe tbody tr th:only-of-type {\n",
       "        vertical-align: middle;\n",
       "    }\n",
       "\n",
       "    .dataframe tbody tr th {\n",
       "        vertical-align: top;\n",
       "    }\n",
       "\n",
       "    .dataframe thead th {\n",
       "        text-align: right;\n",
       "    }\n",
       "</style>\n",
       "<table border=\"1\" class=\"dataframe\">\n",
       "  <thead>\n",
       "    <tr style=\"text-align: right;\">\n",
       "      <th></th>\n",
       "      <th>A</th>\n",
       "      <th>B</th>\n",
       "      <th>C</th>\n",
       "    </tr>\n",
       "  </thead>\n",
       "  <tbody>\n",
       "    <tr>\n",
       "      <th>count</th>\n",
       "      <td>8.000000</td>\n",
       "      <td>8.000000</td>\n",
       "      <td>8.000000</td>\n",
       "    </tr>\n",
       "    <tr>\n",
       "      <th>mean</th>\n",
       "      <td>0.065974</td>\n",
       "      <td>-0.048158</td>\n",
       "      <td>-0.257830</td>\n",
       "    </tr>\n",
       "    <tr>\n",
       "      <th>std</th>\n",
       "      <td>0.956543</td>\n",
       "      <td>0.998542</td>\n",
       "      <td>0.508653</td>\n",
       "    </tr>\n",
       "    <tr>\n",
       "      <th>min</th>\n",
       "      <td>-1.453560</td>\n",
       "      <td>-1.586865</td>\n",
       "      <td>-1.189951</td>\n",
       "    </tr>\n",
       "    <tr>\n",
       "      <th>25%</th>\n",
       "      <td>-0.473522</td>\n",
       "      <td>-0.724136</td>\n",
       "      <td>-0.468458</td>\n",
       "    </tr>\n",
       "    <tr>\n",
       "      <th>50%</th>\n",
       "      <td>0.129061</td>\n",
       "      <td>0.104472</td>\n",
       "      <td>-0.267207</td>\n",
       "    </tr>\n",
       "    <tr>\n",
       "      <th>75%</th>\n",
       "      <td>0.597303</td>\n",
       "      <td>0.446155</td>\n",
       "      <td>0.077190</td>\n",
       "    </tr>\n",
       "    <tr>\n",
       "      <th>max</th>\n",
       "      <td>1.567858</td>\n",
       "      <td>1.310514</td>\n",
       "      <td>0.423992</td>\n",
       "    </tr>\n",
       "  </tbody>\n",
       "</table>\n",
       "</div>"
      ],
      "text/plain": [
       "              A         B         C\n",
       "count  8.000000  8.000000  8.000000\n",
       "mean   0.065974 -0.048158 -0.257830\n",
       "std    0.956543  0.998542  0.508653\n",
       "min   -1.453560 -1.586865 -1.189951\n",
       "25%   -0.473522 -0.724136 -0.468458\n",
       "50%    0.129061  0.104472 -0.267207\n",
       "75%    0.597303  0.446155  0.077190\n",
       "max    1.567858  1.310514  0.423992"
      ]
     },
     "execution_count": 14,
     "metadata": {},
     "output_type": "execute_result"
    }
   ],
   "source": [
    "s.describe()\n",
    "df.describe()"
   ]
  },
  {
   "cell_type": "markdown",
   "id": "07732881",
   "metadata": {},
   "source": [
    "# 2. Indexing and selecting data "
   ]
  },
  {
   "cell_type": "code",
   "execution_count": 15,
   "id": "d2440e52",
   "metadata": {},
   "outputs": [
    {
     "data": {
      "text/html": [
       "<div>\n",
       "<style scoped>\n",
       "    .dataframe tbody tr th:only-of-type {\n",
       "        vertical-align: middle;\n",
       "    }\n",
       "\n",
       "    .dataframe tbody tr th {\n",
       "        vertical-align: top;\n",
       "    }\n",
       "\n",
       "    .dataframe thead th {\n",
       "        text-align: right;\n",
       "    }\n",
       "</style>\n",
       "<table border=\"1\" class=\"dataframe\">\n",
       "  <thead>\n",
       "    <tr style=\"text-align: right;\">\n",
       "      <th></th>\n",
       "      <th>A</th>\n",
       "      <th>B</th>\n",
       "      <th>C</th>\n",
       "    </tr>\n",
       "  </thead>\n",
       "  <tbody>\n",
       "    <tr>\n",
       "      <th>a</th>\n",
       "      <td>0.255054</td>\n",
       "      <td>-0.621269</td>\n",
       "      <td>0.237882</td>\n",
       "    </tr>\n",
       "    <tr>\n",
       "      <th>b</th>\n",
       "      <td>1.567858</td>\n",
       "      <td>1.111907</td>\n",
       "      <td>0.423992</td>\n",
       "    </tr>\n",
       "    <tr>\n",
       "      <th>c</th>\n",
       "      <td>0.518663</td>\n",
       "      <td>-1.032737</td>\n",
       "      <td>-0.425028</td>\n",
       "    </tr>\n",
       "    <tr>\n",
       "      <th>d</th>\n",
       "      <td>0.833223</td>\n",
       "      <td>0.224238</td>\n",
       "      <td>-0.598748</td>\n",
       "    </tr>\n",
       "    <tr>\n",
       "      <th>e</th>\n",
       "      <td>-1.453560</td>\n",
       "      <td>1.310514</td>\n",
       "      <td>-0.203731</td>\n",
       "    </tr>\n",
       "    <tr>\n",
       "      <th>f</th>\n",
       "      <td>-0.847722</td>\n",
       "      <td>-1.586865</td>\n",
       "      <td>-1.189951</td>\n",
       "    </tr>\n",
       "    <tr>\n",
       "      <th>g</th>\n",
       "      <td>0.003067</td>\n",
       "      <td>0.076233</td>\n",
       "      <td>-0.330683</td>\n",
       "    </tr>\n",
       "    <tr>\n",
       "      <th>h</th>\n",
       "      <td>-0.348789</td>\n",
       "      <td>0.132711</td>\n",
       "      <td>0.023626</td>\n",
       "    </tr>\n",
       "  </tbody>\n",
       "</table>\n",
       "</div>"
      ],
      "text/plain": [
       "          A         B         C\n",
       "a  0.255054 -0.621269  0.237882\n",
       "b  1.567858  1.111907  0.423992\n",
       "c  0.518663 -1.032737 -0.425028\n",
       "d  0.833223  0.224238 -0.598748\n",
       "e -1.453560  1.310514 -0.203731\n",
       "f -0.847722 -1.586865 -1.189951\n",
       "g  0.003067  0.076233 -0.330683\n",
       "h -0.348789  0.132711  0.023626"
      ]
     },
     "execution_count": 15,
     "metadata": {},
     "output_type": "execute_result"
    }
   ],
   "source": [
    "df"
   ]
  },
  {
   "cell_type": "markdown",
   "id": "482d775e",
   "metadata": {},
   "source": [
    "## 2.1 []"
   ]
  },
  {
   "cell_type": "code",
   "execution_count": 16,
   "id": "18898071",
   "metadata": {},
   "outputs": [
    {
     "data": {
      "text/plain": [
       "a    0.255054\n",
       "b    1.567858\n",
       "c    0.518663\n",
       "d    0.833223\n",
       "e   -1.453560\n",
       "f   -0.847722\n",
       "g    0.003067\n",
       "h   -0.348789\n",
       "Name: A, dtype: float64"
      ]
     },
     "execution_count": 16,
     "metadata": {},
     "output_type": "execute_result"
    }
   ],
   "source": [
    "df['A']"
   ]
  },
  {
   "cell_type": "code",
   "execution_count": 17,
   "id": "1b5d9ab6",
   "metadata": {},
   "outputs": [],
   "source": [
    "# df['a'] # KeyError"
   ]
  },
  {
   "cell_type": "code",
   "execution_count": 18,
   "id": "1ed41e6c",
   "metadata": {},
   "outputs": [
    {
     "data": {
      "text/plain": [
       "a    0.255054\n",
       "b    1.567858\n",
       "c    0.518663\n",
       "d    0.833223\n",
       "e   -1.453560\n",
       "f   -0.847722\n",
       "g    0.003067\n",
       "h   -0.348789\n",
       "Name: A, dtype: float64"
      ]
     },
     "execution_count": 18,
     "metadata": {},
     "output_type": "execute_result"
    }
   ],
   "source": [
    "df.A"
   ]
  },
  {
   "cell_type": "code",
   "execution_count": 19,
   "id": "4bc3a9ee",
   "metadata": {},
   "outputs": [
    {
     "data": {
      "text/plain": [
       "0.25505444403606237"
      ]
     },
     "execution_count": 19,
     "metadata": {},
     "output_type": "execute_result"
    }
   ],
   "source": [
    "df['A']['a']"
   ]
  },
  {
   "cell_type": "code",
   "execution_count": 37,
   "id": "8ac0c6bc",
   "metadata": {},
   "outputs": [
    {
     "data": {
      "text/plain": [
       "0.25505444403606237"
      ]
     },
     "execution_count": 37,
     "metadata": {},
     "output_type": "execute_result"
    }
   ],
   "source": [
    "df['A'][0]"
   ]
  },
  {
   "cell_type": "markdown",
   "id": "f48345f6",
   "metadata": {},
   "source": [
    "## 2.2 .loc "
   ]
  },
  {
   "cell_type": "markdown",
   "id": "e8b22ee8",
   "metadata": {},
   "source": [
    "**Label based**, but may laso be used with a boolean array. ***.loc*** will raise KeyError when the items are not found. Allowed inputs are:  \n",
    "- A single label, e.g. 5 or 'a' (Note that 5 is interpreted as a label of the index. This use is not an integer position along the index).  \n",
    "- A list or array of labels ['a', 'b', 'c'].  \n",
    "- A slice object with labels ['a':'f'] (Note that contrary to usual Python slices, both the start and the stop are included, when present in the index.)   \n",
    "- A boolean array (any NA values will be treated as False).  \n",
    "- A callable function with one argument (the calling Series or DataFrame) and that returns valid output for indexing (one of the above).  \n",
    "- For multi-axes selection, axes left out of the specification are assumed to be **:**, e.g. p.loc['a'] is equivalent to p.loc['a', :]."
   ]
  },
  {
   "cell_type": "code",
   "execution_count": 20,
   "id": "261fe783",
   "metadata": {},
   "outputs": [
    {
     "data": {
      "text/plain": [
       "A    0.255054\n",
       "B   -0.621269\n",
       "C    0.237882\n",
       "Name: a, dtype: float64"
      ]
     },
     "execution_count": 20,
     "metadata": {},
     "output_type": "execute_result"
    }
   ],
   "source": [
    "# df.loc[3] # KeyError\n",
    "df.loc['a']"
   ]
  },
  {
   "cell_type": "code",
   "execution_count": 21,
   "id": "9c74ac4f",
   "metadata": {},
   "outputs": [
    {
     "data": {
      "text/plain": [
       "a    0.255054\n",
       "b    1.567858\n",
       "c    0.518663\n",
       "d    0.833223\n",
       "e   -1.453560\n",
       "f   -0.847722\n",
       "g    0.003067\n",
       "h   -0.348789\n",
       "Name: A, dtype: float64"
      ]
     },
     "execution_count": 21,
     "metadata": {},
     "output_type": "execute_result"
    }
   ],
   "source": [
    "# df.loc['A'] # KeyError\n",
    "df.loc[:, 'A'] # same with df['A']"
   ]
  },
  {
   "cell_type": "code",
   "execution_count": 22,
   "id": "db4c1a85",
   "metadata": {},
   "outputs": [
    {
     "data": {
      "text/plain": [
       "B   -0.621269\n",
       "C    0.237882\n",
       "Name: a, dtype: float64"
      ]
     },
     "execution_count": 22,
     "metadata": {},
     "output_type": "execute_result"
    }
   ],
   "source": [
    "df.loc['a', 'B':'C']"
   ]
  },
  {
   "cell_type": "code",
   "execution_count": 23,
   "id": "b5b707cc",
   "metadata": {},
   "outputs": [
    {
     "data": {
      "text/html": [
       "<div>\n",
       "<style scoped>\n",
       "    .dataframe tbody tr th:only-of-type {\n",
       "        vertical-align: middle;\n",
       "    }\n",
       "\n",
       "    .dataframe tbody tr th {\n",
       "        vertical-align: top;\n",
       "    }\n",
       "\n",
       "    .dataframe thead th {\n",
       "        text-align: right;\n",
       "    }\n",
       "</style>\n",
       "<table border=\"1\" class=\"dataframe\">\n",
       "  <thead>\n",
       "    <tr style=\"text-align: right;\">\n",
       "      <th></th>\n",
       "      <th>A</th>\n",
       "      <th>B</th>\n",
       "      <th>C</th>\n",
       "    </tr>\n",
       "  </thead>\n",
       "  <tbody>\n",
       "    <tr>\n",
       "      <th>a</th>\n",
       "      <td>0.255054</td>\n",
       "      <td>-0.621269</td>\n",
       "      <td>0.237882</td>\n",
       "    </tr>\n",
       "    <tr>\n",
       "      <th>b</th>\n",
       "      <td>1.567858</td>\n",
       "      <td>1.111907</td>\n",
       "      <td>0.423992</td>\n",
       "    </tr>\n",
       "  </tbody>\n",
       "</table>\n",
       "</div>"
      ],
      "text/plain": [
       "          A         B         C\n",
       "a  0.255054 -0.621269  0.237882\n",
       "b  1.567858  1.111907  0.423992"
      ]
     },
     "execution_count": 23,
     "metadata": {},
     "output_type": "execute_result"
    }
   ],
   "source": [
    "df.loc['a':'b'] # same with df.loc['a':'b', :]"
   ]
  },
  {
   "cell_type": "code",
   "execution_count": 24,
   "id": "334a31a4",
   "metadata": {},
   "outputs": [
    {
     "data": {
      "text/html": [
       "<div>\n",
       "<style scoped>\n",
       "    .dataframe tbody tr th:only-of-type {\n",
       "        vertical-align: middle;\n",
       "    }\n",
       "\n",
       "    .dataframe tbody tr th {\n",
       "        vertical-align: top;\n",
       "    }\n",
       "\n",
       "    .dataframe thead th {\n",
       "        text-align: right;\n",
       "    }\n",
       "</style>\n",
       "<table border=\"1\" class=\"dataframe\">\n",
       "  <thead>\n",
       "    <tr style=\"text-align: right;\">\n",
       "      <th></th>\n",
       "      <th>A</th>\n",
       "      <th>B</th>\n",
       "      <th>C</th>\n",
       "    </tr>\n",
       "  </thead>\n",
       "  <tbody>\n",
       "    <tr>\n",
       "      <th>a</th>\n",
       "      <td>0.255054</td>\n",
       "      <td>-0.621269</td>\n",
       "      <td>0.237882</td>\n",
       "    </tr>\n",
       "    <tr>\n",
       "      <th>b</th>\n",
       "      <td>1.567858</td>\n",
       "      <td>1.111907</td>\n",
       "      <td>0.423992</td>\n",
       "    </tr>\n",
       "    <tr>\n",
       "      <th>c</th>\n",
       "      <td>0.518663</td>\n",
       "      <td>-1.032737</td>\n",
       "      <td>-0.425028</td>\n",
       "    </tr>\n",
       "    <tr>\n",
       "      <th>d</th>\n",
       "      <td>0.833223</td>\n",
       "      <td>0.224238</td>\n",
       "      <td>-0.598748</td>\n",
       "    </tr>\n",
       "    <tr>\n",
       "      <th>e</th>\n",
       "      <td>-1.453560</td>\n",
       "      <td>1.310514</td>\n",
       "      <td>-0.203731</td>\n",
       "    </tr>\n",
       "    <tr>\n",
       "      <th>f</th>\n",
       "      <td>-0.847722</td>\n",
       "      <td>-1.586865</td>\n",
       "      <td>-1.189951</td>\n",
       "    </tr>\n",
       "    <tr>\n",
       "      <th>g</th>\n",
       "      <td>0.003067</td>\n",
       "      <td>0.076233</td>\n",
       "      <td>-0.330683</td>\n",
       "    </tr>\n",
       "    <tr>\n",
       "      <th>h</th>\n",
       "      <td>-0.348789</td>\n",
       "      <td>0.132711</td>\n",
       "      <td>0.023626</td>\n",
       "    </tr>\n",
       "  </tbody>\n",
       "</table>\n",
       "</div>"
      ],
      "text/plain": [
       "          A         B         C\n",
       "a  0.255054 -0.621269  0.237882\n",
       "b  1.567858  1.111907  0.423992\n",
       "c  0.518663 -1.032737 -0.425028\n",
       "d  0.833223  0.224238 -0.598748\n",
       "e -1.453560  1.310514 -0.203731\n",
       "f -0.847722 -1.586865 -1.189951\n",
       "g  0.003067  0.076233 -0.330683\n",
       "h -0.348789  0.132711  0.023626"
      ]
     },
     "execution_count": 24,
     "metadata": {},
     "output_type": "execute_result"
    }
   ],
   "source": [
    "df.loc['a':'z']"
   ]
  },
  {
   "cell_type": "code",
   "execution_count": 25,
   "id": "4cbee22c",
   "metadata": {},
   "outputs": [
    {
     "name": "stdout",
     "output_type": "stream",
     "text": [
      "a    False\n",
      "b    False\n",
      "c    False\n",
      "d    False\n",
      "e     True\n",
      "f     True\n",
      "g    False\n",
      "h     True\n",
      "Name: A, dtype: bool\n"
     ]
    },
    {
     "data": {
      "text/html": [
       "<div>\n",
       "<style scoped>\n",
       "    .dataframe tbody tr th:only-of-type {\n",
       "        vertical-align: middle;\n",
       "    }\n",
       "\n",
       "    .dataframe tbody tr th {\n",
       "        vertical-align: top;\n",
       "    }\n",
       "\n",
       "    .dataframe thead th {\n",
       "        text-align: right;\n",
       "    }\n",
       "</style>\n",
       "<table border=\"1\" class=\"dataframe\">\n",
       "  <thead>\n",
       "    <tr style=\"text-align: right;\">\n",
       "      <th></th>\n",
       "      <th>A</th>\n",
       "      <th>B</th>\n",
       "      <th>C</th>\n",
       "    </tr>\n",
       "  </thead>\n",
       "  <tbody>\n",
       "    <tr>\n",
       "      <th>e</th>\n",
       "      <td>-1.453560</td>\n",
       "      <td>1.310514</td>\n",
       "      <td>-0.203731</td>\n",
       "    </tr>\n",
       "    <tr>\n",
       "      <th>f</th>\n",
       "      <td>-0.847722</td>\n",
       "      <td>-1.586865</td>\n",
       "      <td>-1.189951</td>\n",
       "    </tr>\n",
       "    <tr>\n",
       "      <th>h</th>\n",
       "      <td>-0.348789</td>\n",
       "      <td>0.132711</td>\n",
       "      <td>0.023626</td>\n",
       "    </tr>\n",
       "  </tbody>\n",
       "</table>\n",
       "</div>"
      ],
      "text/plain": [
       "          A         B         C\n",
       "e -1.453560  1.310514 -0.203731\n",
       "f -0.847722 -1.586865 -1.189951\n",
       "h -0.348789  0.132711  0.023626"
      ]
     },
     "execution_count": 25,
     "metadata": {},
     "output_type": "execute_result"
    }
   ],
   "source": [
    "# Selection by boolean array\n",
    "print(df.loc[:, 'A'] < 0)\n",
    "df.loc[df.loc[:, 'A'] < 0] # same with df.log[df.loc[:, 'A'] < 0, :]"
   ]
  },
  {
   "cell_type": "code",
   "execution_count": 26,
   "id": "9be0c89e",
   "metadata": {},
   "outputs": [
    {
     "name": "stdout",
     "output_type": "stream",
     "text": [
      "<BooleanArray>\n",
      "[True, False, True, False, True, False, True, <NA>]\n",
      "Length: 8, dtype: boolean\n"
     ]
    },
    {
     "data": {
      "text/html": [
       "<div>\n",
       "<style scoped>\n",
       "    .dataframe tbody tr th:only-of-type {\n",
       "        vertical-align: middle;\n",
       "    }\n",
       "\n",
       "    .dataframe tbody tr th {\n",
       "        vertical-align: top;\n",
       "    }\n",
       "\n",
       "    .dataframe thead th {\n",
       "        text-align: right;\n",
       "    }\n",
       "</style>\n",
       "<table border=\"1\" class=\"dataframe\">\n",
       "  <thead>\n",
       "    <tr style=\"text-align: right;\">\n",
       "      <th></th>\n",
       "      <th>A</th>\n",
       "      <th>B</th>\n",
       "      <th>C</th>\n",
       "    </tr>\n",
       "  </thead>\n",
       "  <tbody>\n",
       "    <tr>\n",
       "      <th>a</th>\n",
       "      <td>0.255054</td>\n",
       "      <td>-0.621269</td>\n",
       "      <td>0.237882</td>\n",
       "    </tr>\n",
       "    <tr>\n",
       "      <th>c</th>\n",
       "      <td>0.518663</td>\n",
       "      <td>-1.032737</td>\n",
       "      <td>-0.425028</td>\n",
       "    </tr>\n",
       "    <tr>\n",
       "      <th>e</th>\n",
       "      <td>-1.453560</td>\n",
       "      <td>1.310514</td>\n",
       "      <td>-0.203731</td>\n",
       "    </tr>\n",
       "    <tr>\n",
       "      <th>g</th>\n",
       "      <td>0.003067</td>\n",
       "      <td>0.076233</td>\n",
       "      <td>-0.330683</td>\n",
       "    </tr>\n",
       "  </tbody>\n",
       "</table>\n",
       "</div>"
      ],
      "text/plain": [
       "          A         B         C\n",
       "a  0.255054 -0.621269  0.237882\n",
       "c  0.518663 -1.032737 -0.425028\n",
       "e -1.453560  1.310514 -0.203731\n",
       "g  0.003067  0.076233 -0.330683"
      ]
     },
     "execution_count": 26,
     "metadata": {},
     "output_type": "execute_result"
    }
   ],
   "source": [
    "mask = pd.array([True, False, True, False, True, False, True, pd.NA])\n",
    "print(mask)\n",
    "df.loc[pd.array(mask)]"
   ]
  },
  {
   "cell_type": "code",
   "execution_count": 27,
   "id": "094094f2",
   "metadata": {},
   "outputs": [
    {
     "data": {
      "text/html": [
       "<div>\n",
       "<style scoped>\n",
       "    .dataframe tbody tr th:only-of-type {\n",
       "        vertical-align: middle;\n",
       "    }\n",
       "\n",
       "    .dataframe tbody tr th {\n",
       "        vertical-align: top;\n",
       "    }\n",
       "\n",
       "    .dataframe thead th {\n",
       "        text-align: right;\n",
       "    }\n",
       "</style>\n",
       "<table border=\"1\" class=\"dataframe\">\n",
       "  <thead>\n",
       "    <tr style=\"text-align: right;\">\n",
       "      <th></th>\n",
       "      <th>A</th>\n",
       "      <th>B</th>\n",
       "      <th>C</th>\n",
       "    </tr>\n",
       "  </thead>\n",
       "  <tbody>\n",
       "    <tr>\n",
       "      <th>e</th>\n",
       "      <td>-1.453560</td>\n",
       "      <td>1.310514</td>\n",
       "      <td>-0.203731</td>\n",
       "    </tr>\n",
       "    <tr>\n",
       "      <th>f</th>\n",
       "      <td>-0.847722</td>\n",
       "      <td>-1.586865</td>\n",
       "      <td>-1.189951</td>\n",
       "    </tr>\n",
       "    <tr>\n",
       "      <th>h</th>\n",
       "      <td>-0.348789</td>\n",
       "      <td>0.132711</td>\n",
       "      <td>0.023626</td>\n",
       "    </tr>\n",
       "  </tbody>\n",
       "</table>\n",
       "</div>"
      ],
      "text/plain": [
       "          A         B         C\n",
       "e -1.453560  1.310514 -0.203731\n",
       "f -0.847722 -1.586865 -1.189951\n",
       "h -0.348789  0.132711  0.023626"
      ]
     },
     "execution_count": 27,
     "metadata": {},
     "output_type": "execute_result"
    }
   ],
   "source": [
    "# Selection by callable\n",
    "df.loc[lambda df: df['A'] < 0] # callable returns a boolean array"
   ]
  },
  {
   "cell_type": "code",
   "execution_count": 30,
   "id": "c9b94b54",
   "metadata": {},
   "outputs": [
    {
     "data": {
      "text/html": [
       "<div>\n",
       "<style scoped>\n",
       "    .dataframe tbody tr th:only-of-type {\n",
       "        vertical-align: middle;\n",
       "    }\n",
       "\n",
       "    .dataframe tbody tr th {\n",
       "        vertical-align: top;\n",
       "    }\n",
       "\n",
       "    .dataframe thead th {\n",
       "        text-align: right;\n",
       "    }\n",
       "</style>\n",
       "<table border=\"1\" class=\"dataframe\">\n",
       "  <thead>\n",
       "    <tr style=\"text-align: right;\">\n",
       "      <th></th>\n",
       "      <th>A</th>\n",
       "      <th>C</th>\n",
       "    </tr>\n",
       "  </thead>\n",
       "  <tbody>\n",
       "    <tr>\n",
       "      <th>a</th>\n",
       "      <td>0.255054</td>\n",
       "      <td>0.237882</td>\n",
       "    </tr>\n",
       "    <tr>\n",
       "      <th>b</th>\n",
       "      <td>1.567858</td>\n",
       "      <td>0.423992</td>\n",
       "    </tr>\n",
       "    <tr>\n",
       "      <th>c</th>\n",
       "      <td>0.518663</td>\n",
       "      <td>-0.425028</td>\n",
       "    </tr>\n",
       "    <tr>\n",
       "      <th>d</th>\n",
       "      <td>0.833223</td>\n",
       "      <td>-0.598748</td>\n",
       "    </tr>\n",
       "    <tr>\n",
       "      <th>e</th>\n",
       "      <td>-1.453560</td>\n",
       "      <td>-0.203731</td>\n",
       "    </tr>\n",
       "    <tr>\n",
       "      <th>f</th>\n",
       "      <td>-0.847722</td>\n",
       "      <td>-1.189951</td>\n",
       "    </tr>\n",
       "    <tr>\n",
       "      <th>g</th>\n",
       "      <td>0.003067</td>\n",
       "      <td>-0.330683</td>\n",
       "    </tr>\n",
       "    <tr>\n",
       "      <th>h</th>\n",
       "      <td>-0.348789</td>\n",
       "      <td>0.023626</td>\n",
       "    </tr>\n",
       "  </tbody>\n",
       "</table>\n",
       "</div>"
      ],
      "text/plain": [
       "          A         C\n",
       "a  0.255054  0.237882\n",
       "b  1.567858  0.423992\n",
       "c  0.518663 -0.425028\n",
       "d  0.833223 -0.598748\n",
       "e -1.453560 -0.203731\n",
       "f -0.847722 -1.189951\n",
       "g  0.003067 -0.330683\n",
       "h -0.348789  0.023626"
      ]
     },
     "execution_count": 30,
     "metadata": {},
     "output_type": "execute_result"
    }
   ],
   "source": [
    "df.loc[:, lambda df: ['A', 'C']] # callable returns a list of labels"
   ]
  },
  {
   "cell_type": "code",
   "execution_count": 34,
   "id": "077dae1c",
   "metadata": {},
   "outputs": [
    {
     "data": {
      "text/html": [
       "<div>\n",
       "<style scoped>\n",
       "    .dataframe tbody tr th:only-of-type {\n",
       "        vertical-align: middle;\n",
       "    }\n",
       "\n",
       "    .dataframe tbody tr th {\n",
       "        vertical-align: top;\n",
       "    }\n",
       "\n",
       "    .dataframe thead th {\n",
       "        text-align: right;\n",
       "    }\n",
       "</style>\n",
       "<table border=\"1\" class=\"dataframe\">\n",
       "  <thead>\n",
       "    <tr style=\"text-align: right;\">\n",
       "      <th></th>\n",
       "      <th>A</th>\n",
       "      <th>B</th>\n",
       "      <th>C</th>\n",
       "    </tr>\n",
       "  </thead>\n",
       "  <tbody>\n",
       "    <tr>\n",
       "      <th>a</th>\n",
       "      <td>0.255054</td>\n",
       "      <td>-0.621269</td>\n",
       "      <td>0.237882</td>\n",
       "    </tr>\n",
       "    <tr>\n",
       "      <th>b</th>\n",
       "      <td>1.567858</td>\n",
       "      <td>1.111907</td>\n",
       "      <td>0.423992</td>\n",
       "    </tr>\n",
       "    <tr>\n",
       "      <th>c</th>\n",
       "      <td>0.518663</td>\n",
       "      <td>-1.032737</td>\n",
       "      <td>-0.425028</td>\n",
       "    </tr>\n",
       "    <tr>\n",
       "      <th>d</th>\n",
       "      <td>0.833223</td>\n",
       "      <td>0.224238</td>\n",
       "      <td>-0.598748</td>\n",
       "    </tr>\n",
       "    <tr>\n",
       "      <th>e</th>\n",
       "      <td>-1.453560</td>\n",
       "      <td>1.310514</td>\n",
       "      <td>-0.203731</td>\n",
       "    </tr>\n",
       "  </tbody>\n",
       "</table>\n",
       "</div>"
      ],
      "text/plain": [
       "          A         B         C\n",
       "a  0.255054 -0.621269  0.237882\n",
       "b  1.567858  1.111907  0.423992\n",
       "c  0.518663 -1.032737 -0.425028\n",
       "d  0.833223  0.224238 -0.598748\n",
       "e -1.453560  1.310514 -0.203731"
      ]
     },
     "execution_count": 34,
     "metadata": {},
     "output_type": "execute_result"
    }
   ],
   "source": [
    "df.loc[lambda df:list('abcde'), :] # callable returns a list of labels"
   ]
  },
  {
   "cell_type": "code",
   "execution_count": 36,
   "id": "f0bd15c6",
   "metadata": {},
   "outputs": [
    {
     "data": {
      "text/plain": [
       "0.23788194779252822"
      ]
     },
     "execution_count": 36,
     "metadata": {},
     "output_type": "execute_result"
    }
   ],
   "source": [
    "# return an element\n",
    "df.loc['a']['C']"
   ]
  },
  {
   "cell_type": "markdown",
   "id": "cfd95e07",
   "metadata": {},
   "source": [
    "## 2.3 .iloc "
   ]
  },
  {
   "cell_type": "markdown",
   "id": "e5018c4b",
   "metadata": {},
   "source": [
    "**Integer position based** (from 0 to length-1 of the axis), but may also be used with a boolean array. ***.iloc*** will raise IndexError if a requested indexer is out-of-bounds, except slice indexers which allow out-of-bounds indexing (this conforms with Python/NumPy slice semantics). Allowed inputs are (similar to ***.loc***):  \n",
    "- An integer e.g. 5.\n",
    "- A list or array of integers [4, 3, 0]\n",
    "- A slice object with ints 1:7.\n",
    "- A boolean array (any NA values will be treated as False).\n",
    "- A callable function with one argument (the calling Series or DataFrame) and that returns valid output for indexing (one of the above).\n",
    "- For multi-axes selection, axes left out of the specification are assumed to be :, e.g. p.loc['a'] is equivalent to p.loc['a', :]."
   ]
  },
  {
   "cell_type": "code",
   "execution_count": 39,
   "id": "be12c528",
   "metadata": {},
   "outputs": [
    {
     "data": {
      "text/html": [
       "<div>\n",
       "<style scoped>\n",
       "    .dataframe tbody tr th:only-of-type {\n",
       "        vertical-align: middle;\n",
       "    }\n",
       "\n",
       "    .dataframe tbody tr th {\n",
       "        vertical-align: top;\n",
       "    }\n",
       "\n",
       "    .dataframe thead th {\n",
       "        text-align: right;\n",
       "    }\n",
       "</style>\n",
       "<table border=\"1\" class=\"dataframe\">\n",
       "  <thead>\n",
       "    <tr style=\"text-align: right;\">\n",
       "      <th></th>\n",
       "      <th>A</th>\n",
       "      <th>B</th>\n",
       "      <th>C</th>\n",
       "    </tr>\n",
       "  </thead>\n",
       "  <tbody>\n",
       "    <tr>\n",
       "      <th>a</th>\n",
       "      <td>0.255054</td>\n",
       "      <td>-0.621269</td>\n",
       "      <td>0.237882</td>\n",
       "    </tr>\n",
       "    <tr>\n",
       "      <th>b</th>\n",
       "      <td>1.567858</td>\n",
       "      <td>1.111907</td>\n",
       "      <td>0.423992</td>\n",
       "    </tr>\n",
       "    <tr>\n",
       "      <th>c</th>\n",
       "      <td>0.518663</td>\n",
       "      <td>-1.032737</td>\n",
       "      <td>-0.425028</td>\n",
       "    </tr>\n",
       "    <tr>\n",
       "      <th>d</th>\n",
       "      <td>0.833223</td>\n",
       "      <td>0.224238</td>\n",
       "      <td>-0.598748</td>\n",
       "    </tr>\n",
       "    <tr>\n",
       "      <th>e</th>\n",
       "      <td>-1.453560</td>\n",
       "      <td>1.310514</td>\n",
       "      <td>-0.203731</td>\n",
       "    </tr>\n",
       "    <tr>\n",
       "      <th>f</th>\n",
       "      <td>-0.847722</td>\n",
       "      <td>-1.586865</td>\n",
       "      <td>-1.189951</td>\n",
       "    </tr>\n",
       "    <tr>\n",
       "      <th>g</th>\n",
       "      <td>0.003067</td>\n",
       "      <td>0.076233</td>\n",
       "      <td>-0.330683</td>\n",
       "    </tr>\n",
       "    <tr>\n",
       "      <th>h</th>\n",
       "      <td>-0.348789</td>\n",
       "      <td>0.132711</td>\n",
       "      <td>0.023626</td>\n",
       "    </tr>\n",
       "  </tbody>\n",
       "</table>\n",
       "</div>"
      ],
      "text/plain": [
       "          A         B         C\n",
       "a  0.255054 -0.621269  0.237882\n",
       "b  1.567858  1.111907  0.423992\n",
       "c  0.518663 -1.032737 -0.425028\n",
       "d  0.833223  0.224238 -0.598748\n",
       "e -1.453560  1.310514 -0.203731\n",
       "f -0.847722 -1.586865 -1.189951\n",
       "g  0.003067  0.076233 -0.330683\n",
       "h -0.348789  0.132711  0.023626"
      ]
     },
     "execution_count": 39,
     "metadata": {},
     "output_type": "execute_result"
    }
   ],
   "source": [
    "df"
   ]
  },
  {
   "cell_type": "code",
   "execution_count": 38,
   "id": "b963fb77",
   "metadata": {},
   "outputs": [
    {
     "data": {
      "text/plain": [
       "A    0.518663\n",
       "B   -1.032737\n",
       "C   -0.425028\n",
       "Name: c, dtype: float64"
      ]
     },
     "execution_count": 38,
     "metadata": {},
     "output_type": "execute_result"
    }
   ],
   "source": [
    "df.iloc[2]"
   ]
  },
  {
   "cell_type": "code",
   "execution_count": 42,
   "id": "c0675193",
   "metadata": {},
   "outputs": [
    {
     "data": {
      "text/html": [
       "<div>\n",
       "<style scoped>\n",
       "    .dataframe tbody tr th:only-of-type {\n",
       "        vertical-align: middle;\n",
       "    }\n",
       "\n",
       "    .dataframe tbody tr th {\n",
       "        vertical-align: top;\n",
       "    }\n",
       "\n",
       "    .dataframe thead th {\n",
       "        text-align: right;\n",
       "    }\n",
       "</style>\n",
       "<table border=\"1\" class=\"dataframe\">\n",
       "  <thead>\n",
       "    <tr style=\"text-align: right;\">\n",
       "      <th></th>\n",
       "      <th>A</th>\n",
       "      <th>B</th>\n",
       "      <th>C</th>\n",
       "    </tr>\n",
       "  </thead>\n",
       "  <tbody>\n",
       "    <tr>\n",
       "      <th>f</th>\n",
       "      <td>-0.847722</td>\n",
       "      <td>-1.586865</td>\n",
       "      <td>-1.189951</td>\n",
       "    </tr>\n",
       "    <tr>\n",
       "      <th>d</th>\n",
       "      <td>0.833223</td>\n",
       "      <td>0.224238</td>\n",
       "      <td>-0.598748</td>\n",
       "    </tr>\n",
       "    <tr>\n",
       "      <th>b</th>\n",
       "      <td>1.567858</td>\n",
       "      <td>1.111907</td>\n",
       "      <td>0.423992</td>\n",
       "    </tr>\n",
       "  </tbody>\n",
       "</table>\n",
       "</div>"
      ],
      "text/plain": [
       "          A         B         C\n",
       "f -0.847722 -1.586865 -1.189951\n",
       "d  0.833223  0.224238 -0.598748\n",
       "b  1.567858  1.111907  0.423992"
      ]
     },
     "execution_count": 42,
     "metadata": {},
     "output_type": "execute_result"
    }
   ],
   "source": [
    "df.iloc[[5, 3, 1]]"
   ]
  },
  {
   "cell_type": "code",
   "execution_count": 45,
   "id": "998d1f8e",
   "metadata": {},
   "outputs": [
    {
     "data": {
      "text/html": [
       "<div>\n",
       "<style scoped>\n",
       "    .dataframe tbody tr th:only-of-type {\n",
       "        vertical-align: middle;\n",
       "    }\n",
       "\n",
       "    .dataframe tbody tr th {\n",
       "        vertical-align: top;\n",
       "    }\n",
       "\n",
       "    .dataframe thead th {\n",
       "        text-align: right;\n",
       "    }\n",
       "</style>\n",
       "<table border=\"1\" class=\"dataframe\">\n",
       "  <thead>\n",
       "    <tr style=\"text-align: right;\">\n",
       "      <th></th>\n",
       "      <th>B</th>\n",
       "      <th>C</th>\n",
       "    </tr>\n",
       "  </thead>\n",
       "  <tbody>\n",
       "    <tr>\n",
       "      <th>d</th>\n",
       "      <td>0.224238</td>\n",
       "      <td>-0.598748</td>\n",
       "    </tr>\n",
       "    <tr>\n",
       "      <th>e</th>\n",
       "      <td>1.310514</td>\n",
       "      <td>-0.203731</td>\n",
       "    </tr>\n",
       "  </tbody>\n",
       "</table>\n",
       "</div>"
      ],
      "text/plain": [
       "          B         C\n",
       "d  0.224238 -0.598748\n",
       "e  1.310514 -0.203731"
      ]
     },
     "execution_count": 45,
     "metadata": {},
     "output_type": "execute_result"
    }
   ],
   "source": [
    "df.iloc[3:5, 1:]"
   ]
  },
  {
   "cell_type": "code",
   "execution_count": 50,
   "id": "741480d6",
   "metadata": {},
   "outputs": [
    {
     "data": {
      "text/html": [
       "<div>\n",
       "<style scoped>\n",
       "    .dataframe tbody tr th:only-of-type {\n",
       "        vertical-align: middle;\n",
       "    }\n",
       "\n",
       "    .dataframe tbody tr th {\n",
       "        vertical-align: top;\n",
       "    }\n",
       "\n",
       "    .dataframe thead th {\n",
       "        text-align: right;\n",
       "    }\n",
       "</style>\n",
       "<table border=\"1\" class=\"dataframe\">\n",
       "  <thead>\n",
       "    <tr style=\"text-align: right;\">\n",
       "      <th></th>\n",
       "      <th>A</th>\n",
       "      <th>C</th>\n",
       "    </tr>\n",
       "  </thead>\n",
       "  <tbody>\n",
       "    <tr>\n",
       "      <th>a</th>\n",
       "      <td>0.255054</td>\n",
       "      <td>0.237882</td>\n",
       "    </tr>\n",
       "    <tr>\n",
       "      <th>b</th>\n",
       "      <td>1.567858</td>\n",
       "      <td>0.423992</td>\n",
       "    </tr>\n",
       "    <tr>\n",
       "      <th>c</th>\n",
       "      <td>0.518663</td>\n",
       "      <td>-0.425028</td>\n",
       "    </tr>\n",
       "    <tr>\n",
       "      <th>d</th>\n",
       "      <td>0.833223</td>\n",
       "      <td>-0.598748</td>\n",
       "    </tr>\n",
       "    <tr>\n",
       "      <th>e</th>\n",
       "      <td>-1.453560</td>\n",
       "      <td>-0.203731</td>\n",
       "    </tr>\n",
       "    <tr>\n",
       "      <th>f</th>\n",
       "      <td>-0.847722</td>\n",
       "      <td>-1.189951</td>\n",
       "    </tr>\n",
       "    <tr>\n",
       "      <th>g</th>\n",
       "      <td>0.003067</td>\n",
       "      <td>-0.330683</td>\n",
       "    </tr>\n",
       "    <tr>\n",
       "      <th>h</th>\n",
       "      <td>-0.348789</td>\n",
       "      <td>0.023626</td>\n",
       "    </tr>\n",
       "  </tbody>\n",
       "</table>\n",
       "</div>"
      ],
      "text/plain": [
       "          A         C\n",
       "a  0.255054  0.237882\n",
       "b  1.567858  0.423992\n",
       "c  0.518663 -0.425028\n",
       "d  0.833223 -0.598748\n",
       "e -1.453560 -0.203731\n",
       "f -0.847722 -1.189951\n",
       "g  0.003067 -0.330683\n",
       "h -0.348789  0.023626"
      ]
     },
     "execution_count": 50,
     "metadata": {},
     "output_type": "execute_result"
    }
   ],
   "source": [
    "df.iloc[:, [True, False, True]]"
   ]
  },
  {
   "cell_type": "code",
   "execution_count": 58,
   "id": "f6c10d91",
   "metadata": {},
   "outputs": [
    {
     "name": "stdout",
     "output_type": "stream",
     "text": [
      "a    False\n",
      "b     True\n",
      "c    False\n",
      "d     True\n",
      "e     True\n",
      "f    False\n",
      "g     True\n",
      "h     True\n",
      "Name: B, dtype: bool\n",
      "<BooleanArray>\n",
      "[True, False, True, False, True, False, <NA>, <NA>]\n",
      "Length: 8, dtype: boolean\n"
     ]
    },
    {
     "data": {
      "text/html": [
       "<div>\n",
       "<style scoped>\n",
       "    .dataframe tbody tr th:only-of-type {\n",
       "        vertical-align: middle;\n",
       "    }\n",
       "\n",
       "    .dataframe tbody tr th {\n",
       "        vertical-align: top;\n",
       "    }\n",
       "\n",
       "    .dataframe thead th {\n",
       "        text-align: right;\n",
       "    }\n",
       "</style>\n",
       "<table border=\"1\" class=\"dataframe\">\n",
       "  <thead>\n",
       "    <tr style=\"text-align: right;\">\n",
       "      <th></th>\n",
       "      <th>A</th>\n",
       "      <th>B</th>\n",
       "      <th>C</th>\n",
       "    </tr>\n",
       "  </thead>\n",
       "  <tbody>\n",
       "    <tr>\n",
       "      <th>a</th>\n",
       "      <td>0.255054</td>\n",
       "      <td>-0.621269</td>\n",
       "      <td>0.237882</td>\n",
       "    </tr>\n",
       "    <tr>\n",
       "      <th>c</th>\n",
       "      <td>0.518663</td>\n",
       "      <td>-1.032737</td>\n",
       "      <td>-0.425028</td>\n",
       "    </tr>\n",
       "    <tr>\n",
       "      <th>e</th>\n",
       "      <td>-1.453560</td>\n",
       "      <td>1.310514</td>\n",
       "      <td>-0.203731</td>\n",
       "    </tr>\n",
       "  </tbody>\n",
       "</table>\n",
       "</div>"
      ],
      "text/plain": [
       "          A         B         C\n",
       "a  0.255054 -0.621269  0.237882\n",
       "c  0.518663 -1.032737 -0.425028\n",
       "e -1.453560  1.310514 -0.203731"
      ]
     },
     "execution_count": 58,
     "metadata": {},
     "output_type": "execute_result"
    }
   ],
   "source": [
    "print(df.B > 0)\n",
    "# df.iloc[df.B > 0] #ValueError: iLocation based boolean indexing cannot use an indexable as a mask\n",
    "mask = pd.array([True, False, True, False, True, False, pd.NA, pd.NA])\n",
    "print(mask)\n",
    "df.iloc[mask]"
   ]
  },
  {
   "cell_type": "code",
   "execution_count": 59,
   "id": "0b18c2cd",
   "metadata": {},
   "outputs": [
    {
     "data": {
      "text/html": [
       "<div>\n",
       "<style scoped>\n",
       "    .dataframe tbody tr th:only-of-type {\n",
       "        vertical-align: middle;\n",
       "    }\n",
       "\n",
       "    .dataframe tbody tr th {\n",
       "        vertical-align: top;\n",
       "    }\n",
       "\n",
       "    .dataframe thead th {\n",
       "        text-align: right;\n",
       "    }\n",
       "</style>\n",
       "<table border=\"1\" class=\"dataframe\">\n",
       "  <thead>\n",
       "    <tr style=\"text-align: right;\">\n",
       "      <th></th>\n",
       "      <th>A</th>\n",
       "      <th>B</th>\n",
       "      <th>C</th>\n",
       "    </tr>\n",
       "  </thead>\n",
       "  <tbody>\n",
       "    <tr>\n",
       "      <th>e</th>\n",
       "      <td>-1.453560</td>\n",
       "      <td>1.310514</td>\n",
       "      <td>-0.203731</td>\n",
       "    </tr>\n",
       "    <tr>\n",
       "      <th>f</th>\n",
       "      <td>-0.847722</td>\n",
       "      <td>-1.586865</td>\n",
       "      <td>-1.189951</td>\n",
       "    </tr>\n",
       "    <tr>\n",
       "      <th>g</th>\n",
       "      <td>0.003067</td>\n",
       "      <td>0.076233</td>\n",
       "      <td>-0.330683</td>\n",
       "    </tr>\n",
       "  </tbody>\n",
       "</table>\n",
       "</div>"
      ],
      "text/plain": [
       "          A         B         C\n",
       "e -1.453560  1.310514 -0.203731\n",
       "f -0.847722 -1.586865 -1.189951\n",
       "g  0.003067  0.076233 -0.330683"
      ]
     },
     "execution_count": 59,
     "metadata": {},
     "output_type": "execute_result"
    }
   ],
   "source": [
    "# Selection by callable\n",
    "df.iloc[lambda df: [4, 5, 6]]"
   ]
  },
  {
   "cell_type": "code",
   "execution_count": 60,
   "id": "5219d0dc",
   "metadata": {},
   "outputs": [
    {
     "data": {
      "text/html": [
       "<div>\n",
       "<style scoped>\n",
       "    .dataframe tbody tr th:only-of-type {\n",
       "        vertical-align: middle;\n",
       "    }\n",
       "\n",
       "    .dataframe tbody tr th {\n",
       "        vertical-align: top;\n",
       "    }\n",
       "\n",
       "    .dataframe thead th {\n",
       "        text-align: right;\n",
       "    }\n",
       "</style>\n",
       "<table border=\"1\" class=\"dataframe\">\n",
       "  <thead>\n",
       "    <tr style=\"text-align: right;\">\n",
       "      <th></th>\n",
       "      <th>C</th>\n",
       "      <th>B</th>\n",
       "    </tr>\n",
       "  </thead>\n",
       "  <tbody>\n",
       "    <tr>\n",
       "      <th>e</th>\n",
       "      <td>-0.203731</td>\n",
       "      <td>1.310514</td>\n",
       "    </tr>\n",
       "    <tr>\n",
       "      <th>f</th>\n",
       "      <td>-1.189951</td>\n",
       "      <td>-1.586865</td>\n",
       "    </tr>\n",
       "    <tr>\n",
       "      <th>g</th>\n",
       "      <td>-0.330683</td>\n",
       "      <td>0.076233</td>\n",
       "    </tr>\n",
       "  </tbody>\n",
       "</table>\n",
       "</div>"
      ],
      "text/plain": [
       "          C         B\n",
       "e -0.203731  1.310514\n",
       "f -1.189951 -1.586865\n",
       "g -0.330683  0.076233"
      ]
     },
     "execution_count": 60,
     "metadata": {},
     "output_type": "execute_result"
    }
   ],
   "source": [
    "df.iloc[lambda df: [4, 5, 6], lambda df: [2, 1]]"
   ]
  },
  {
   "cell_type": "markdown",
   "id": "4f22fa41",
   "metadata": {},
   "source": [
    "## 2.4 Selecting random samples "
   ]
  },
  {
   "cell_type": "markdown",
   "id": "f640e658",
   "metadata": {},
   "source": [
    "Use ***sample()*** method to select random rows or columns from a Series or DataFrame. \n",
    "  \n",
    "***DataFrame.sample(n=1, frac=None, replace=False, weights=None, random_state=None, axis=None, ignore_index=False)***    \n",
    "**Parameters:**\n",
    "- **n**: int, optional. Number of items from axis to return. Default = 1.\n",
    "- **frac**: float, optional. Fraction of axis items to return.\n",
    "- **replace**: bool, default False. With or without replacement. Allow or disallow sampling of the same row more than once.\n",
    "- **weights**: str or ndarray-like, optional. Default 'None' results in equal probability weighting. If called on DataFrame and axis=0, can accept the name of a column as the weights array. Otherwise, accept ndarray-like. If passed a Series as weights, will align with target object on index. Index values in weights not found in sampled object will be ignored and index values in sampled object not in weights will be assigned weights of zero. Unless weights are a Series, weights must be same length as axis being sampled. If weights do not sum to 1, they will be normalized to sum to 1. \n",
    "- **random_state**: int (as a seed) or a Numpy RandomState object. Random number generator.\n",
    "- **axis**: 0 or 'index', 1 or 'columns'. Axis to sample. Default is index for DataFrame."
   ]
  },
  {
   "cell_type": "code",
   "execution_count": 61,
   "id": "9f7f199a",
   "metadata": {},
   "outputs": [
    {
     "data": {
      "text/html": [
       "<div>\n",
       "<style scoped>\n",
       "    .dataframe tbody tr th:only-of-type {\n",
       "        vertical-align: middle;\n",
       "    }\n",
       "\n",
       "    .dataframe tbody tr th {\n",
       "        vertical-align: top;\n",
       "    }\n",
       "\n",
       "    .dataframe thead th {\n",
       "        text-align: right;\n",
       "    }\n",
       "</style>\n",
       "<table border=\"1\" class=\"dataframe\">\n",
       "  <thead>\n",
       "    <tr style=\"text-align: right;\">\n",
       "      <th></th>\n",
       "      <th>A</th>\n",
       "      <th>B</th>\n",
       "      <th>C</th>\n",
       "    </tr>\n",
       "  </thead>\n",
       "  <tbody>\n",
       "    <tr>\n",
       "      <th>a</th>\n",
       "      <td>0.255054</td>\n",
       "      <td>-0.621269</td>\n",
       "      <td>0.237882</td>\n",
       "    </tr>\n",
       "    <tr>\n",
       "      <th>b</th>\n",
       "      <td>1.567858</td>\n",
       "      <td>1.111907</td>\n",
       "      <td>0.423992</td>\n",
       "    </tr>\n",
       "    <tr>\n",
       "      <th>c</th>\n",
       "      <td>0.518663</td>\n",
       "      <td>-1.032737</td>\n",
       "      <td>-0.425028</td>\n",
       "    </tr>\n",
       "    <tr>\n",
       "      <th>d</th>\n",
       "      <td>0.833223</td>\n",
       "      <td>0.224238</td>\n",
       "      <td>-0.598748</td>\n",
       "    </tr>\n",
       "    <tr>\n",
       "      <th>e</th>\n",
       "      <td>-1.453560</td>\n",
       "      <td>1.310514</td>\n",
       "      <td>-0.203731</td>\n",
       "    </tr>\n",
       "    <tr>\n",
       "      <th>f</th>\n",
       "      <td>-0.847722</td>\n",
       "      <td>-1.586865</td>\n",
       "      <td>-1.189951</td>\n",
       "    </tr>\n",
       "    <tr>\n",
       "      <th>g</th>\n",
       "      <td>0.003067</td>\n",
       "      <td>0.076233</td>\n",
       "      <td>-0.330683</td>\n",
       "    </tr>\n",
       "    <tr>\n",
       "      <th>h</th>\n",
       "      <td>-0.348789</td>\n",
       "      <td>0.132711</td>\n",
       "      <td>0.023626</td>\n",
       "    </tr>\n",
       "  </tbody>\n",
       "</table>\n",
       "</div>"
      ],
      "text/plain": [
       "          A         B         C\n",
       "a  0.255054 -0.621269  0.237882\n",
       "b  1.567858  1.111907  0.423992\n",
       "c  0.518663 -1.032737 -0.425028\n",
       "d  0.833223  0.224238 -0.598748\n",
       "e -1.453560  1.310514 -0.203731\n",
       "f -0.847722 -1.586865 -1.189951\n",
       "g  0.003067  0.076233 -0.330683\n",
       "h -0.348789  0.132711  0.023626"
      ]
     },
     "execution_count": 61,
     "metadata": {},
     "output_type": "execute_result"
    }
   ],
   "source": [
    "df"
   ]
  },
  {
   "cell_type": "code",
   "execution_count": 63,
   "id": "334d8f20",
   "metadata": {},
   "outputs": [
    {
     "data": {
      "text/html": [
       "<div>\n",
       "<style scoped>\n",
       "    .dataframe tbody tr th:only-of-type {\n",
       "        vertical-align: middle;\n",
       "    }\n",
       "\n",
       "    .dataframe tbody tr th {\n",
       "        vertical-align: top;\n",
       "    }\n",
       "\n",
       "    .dataframe thead th {\n",
       "        text-align: right;\n",
       "    }\n",
       "</style>\n",
       "<table border=\"1\" class=\"dataframe\">\n",
       "  <thead>\n",
       "    <tr style=\"text-align: right;\">\n",
       "      <th></th>\n",
       "      <th>A</th>\n",
       "      <th>B</th>\n",
       "      <th>C</th>\n",
       "    </tr>\n",
       "  </thead>\n",
       "  <tbody>\n",
       "    <tr>\n",
       "      <th>g</th>\n",
       "      <td>0.003067</td>\n",
       "      <td>0.076233</td>\n",
       "      <td>-0.330683</td>\n",
       "    </tr>\n",
       "  </tbody>\n",
       "</table>\n",
       "</div>"
      ],
      "text/plain": [
       "          A         B         C\n",
       "g  0.003067  0.076233 -0.330683"
      ]
     },
     "execution_count": 63,
     "metadata": {},
     "output_type": "execute_result"
    }
   ],
   "source": [
    "df.sample()"
   ]
  },
  {
   "cell_type": "code",
   "execution_count": 64,
   "id": "5d5667de",
   "metadata": {},
   "outputs": [
    {
     "data": {
      "text/html": [
       "<div>\n",
       "<style scoped>\n",
       "    .dataframe tbody tr th:only-of-type {\n",
       "        vertical-align: middle;\n",
       "    }\n",
       "\n",
       "    .dataframe tbody tr th {\n",
       "        vertical-align: top;\n",
       "    }\n",
       "\n",
       "    .dataframe thead th {\n",
       "        text-align: right;\n",
       "    }\n",
       "</style>\n",
       "<table border=\"1\" class=\"dataframe\">\n",
       "  <thead>\n",
       "    <tr style=\"text-align: right;\">\n",
       "      <th></th>\n",
       "      <th>A</th>\n",
       "      <th>B</th>\n",
       "      <th>C</th>\n",
       "    </tr>\n",
       "  </thead>\n",
       "  <tbody>\n",
       "    <tr>\n",
       "      <th>e</th>\n",
       "      <td>-1.453560</td>\n",
       "      <td>1.310514</td>\n",
       "      <td>-0.203731</td>\n",
       "    </tr>\n",
       "    <tr>\n",
       "      <th>h</th>\n",
       "      <td>-0.348789</td>\n",
       "      <td>0.132711</td>\n",
       "      <td>0.023626</td>\n",
       "    </tr>\n",
       "    <tr>\n",
       "      <th>d</th>\n",
       "      <td>0.833223</td>\n",
       "      <td>0.224238</td>\n",
       "      <td>-0.598748</td>\n",
       "    </tr>\n",
       "  </tbody>\n",
       "</table>\n",
       "</div>"
      ],
      "text/plain": [
       "          A         B         C\n",
       "e -1.453560  1.310514 -0.203731\n",
       "h -0.348789  0.132711  0.023626\n",
       "d  0.833223  0.224238 -0.598748"
      ]
     },
     "execution_count": 64,
     "metadata": {},
     "output_type": "execute_result"
    }
   ],
   "source": [
    "df.sample(3, random_state=4)"
   ]
  },
  {
   "cell_type": "code",
   "execution_count": 66,
   "id": "f5bfa9b5",
   "metadata": {},
   "outputs": [
    {
     "data": {
      "text/html": [
       "<div>\n",
       "<style scoped>\n",
       "    .dataframe tbody tr th:only-of-type {\n",
       "        vertical-align: middle;\n",
       "    }\n",
       "\n",
       "    .dataframe tbody tr th {\n",
       "        vertical-align: top;\n",
       "    }\n",
       "\n",
       "    .dataframe thead th {\n",
       "        text-align: right;\n",
       "    }\n",
       "</style>\n",
       "<table border=\"1\" class=\"dataframe\">\n",
       "  <thead>\n",
       "    <tr style=\"text-align: right;\">\n",
       "      <th></th>\n",
       "      <th>A</th>\n",
       "      <th>B</th>\n",
       "      <th>C</th>\n",
       "    </tr>\n",
       "  </thead>\n",
       "  <tbody>\n",
       "    <tr>\n",
       "      <th>e</th>\n",
       "      <td>-1.453560</td>\n",
       "      <td>1.310514</td>\n",
       "      <td>-0.203731</td>\n",
       "    </tr>\n",
       "    <tr>\n",
       "      <th>h</th>\n",
       "      <td>-0.348789</td>\n",
       "      <td>0.132711</td>\n",
       "      <td>0.023626</td>\n",
       "    </tr>\n",
       "    <tr>\n",
       "      <th>d</th>\n",
       "      <td>0.833223</td>\n",
       "      <td>0.224238</td>\n",
       "      <td>-0.598748</td>\n",
       "    </tr>\n",
       "  </tbody>\n",
       "</table>\n",
       "</div>"
      ],
      "text/plain": [
       "          A         B         C\n",
       "e -1.453560  1.310514 -0.203731\n",
       "h -0.348789  0.132711  0.023626\n",
       "d  0.833223  0.224238 -0.598748"
      ]
     },
     "execution_count": 66,
     "metadata": {},
     "output_type": "execute_result"
    }
   ],
   "source": [
    "df.sample(3, random_state=4)"
   ]
  },
  {
   "cell_type": "code",
   "execution_count": 67,
   "id": "acc8bb11",
   "metadata": {},
   "outputs": [
    {
     "data": {
      "text/html": [
       "<div>\n",
       "<style scoped>\n",
       "    .dataframe tbody tr th:only-of-type {\n",
       "        vertical-align: middle;\n",
       "    }\n",
       "\n",
       "    .dataframe tbody tr th {\n",
       "        vertical-align: top;\n",
       "    }\n",
       "\n",
       "    .dataframe thead th {\n",
       "        text-align: right;\n",
       "    }\n",
       "</style>\n",
       "<table border=\"1\" class=\"dataframe\">\n",
       "  <thead>\n",
       "    <tr style=\"text-align: right;\">\n",
       "      <th></th>\n",
       "      <th>A</th>\n",
       "      <th>B</th>\n",
       "      <th>C</th>\n",
       "    </tr>\n",
       "  </thead>\n",
       "  <tbody>\n",
       "    <tr>\n",
       "      <th>d</th>\n",
       "      <td>0.833223</td>\n",
       "      <td>0.224238</td>\n",
       "      <td>-0.598748</td>\n",
       "    </tr>\n",
       "    <tr>\n",
       "      <th>h</th>\n",
       "      <td>-0.348789</td>\n",
       "      <td>0.132711</td>\n",
       "      <td>0.023626</td>\n",
       "    </tr>\n",
       "    <tr>\n",
       "      <th>b</th>\n",
       "      <td>1.567858</td>\n",
       "      <td>1.111907</td>\n",
       "      <td>0.423992</td>\n",
       "    </tr>\n",
       "    <tr>\n",
       "      <th>c</th>\n",
       "      <td>0.518663</td>\n",
       "      <td>-1.032737</td>\n",
       "      <td>-0.425028</td>\n",
       "    </tr>\n",
       "  </tbody>\n",
       "</table>\n",
       "</div>"
      ],
      "text/plain": [
       "          A         B         C\n",
       "d  0.833223  0.224238 -0.598748\n",
       "h -0.348789  0.132711  0.023626\n",
       "b  1.567858  1.111907  0.423992\n",
       "c  0.518663 -1.032737 -0.425028"
      ]
     },
     "execution_count": 67,
     "metadata": {},
     "output_type": "execute_result"
    }
   ],
   "source": [
    "df.sample(frac=0.5)"
   ]
  },
  {
   "cell_type": "code",
   "execution_count": 73,
   "id": "766342f1",
   "metadata": {},
   "outputs": [
    {
     "data": {
      "text/html": [
       "<div>\n",
       "<style scoped>\n",
       "    .dataframe tbody tr th:only-of-type {\n",
       "        vertical-align: middle;\n",
       "    }\n",
       "\n",
       "    .dataframe tbody tr th {\n",
       "        vertical-align: top;\n",
       "    }\n",
       "\n",
       "    .dataframe thead th {\n",
       "        text-align: right;\n",
       "    }\n",
       "</style>\n",
       "<table border=\"1\" class=\"dataframe\">\n",
       "  <thead>\n",
       "    <tr style=\"text-align: right;\">\n",
       "      <th></th>\n",
       "      <th>A</th>\n",
       "      <th>A</th>\n",
       "      <th>A</th>\n",
       "    </tr>\n",
       "  </thead>\n",
       "  <tbody>\n",
       "    <tr>\n",
       "      <th>a</th>\n",
       "      <td>0.255054</td>\n",
       "      <td>0.255054</td>\n",
       "      <td>0.255054</td>\n",
       "    </tr>\n",
       "    <tr>\n",
       "      <th>b</th>\n",
       "      <td>1.567858</td>\n",
       "      <td>1.567858</td>\n",
       "      <td>1.567858</td>\n",
       "    </tr>\n",
       "    <tr>\n",
       "      <th>c</th>\n",
       "      <td>0.518663</td>\n",
       "      <td>0.518663</td>\n",
       "      <td>0.518663</td>\n",
       "    </tr>\n",
       "    <tr>\n",
       "      <th>d</th>\n",
       "      <td>0.833223</td>\n",
       "      <td>0.833223</td>\n",
       "      <td>0.833223</td>\n",
       "    </tr>\n",
       "    <tr>\n",
       "      <th>e</th>\n",
       "      <td>-1.453560</td>\n",
       "      <td>-1.453560</td>\n",
       "      <td>-1.453560</td>\n",
       "    </tr>\n",
       "    <tr>\n",
       "      <th>f</th>\n",
       "      <td>-0.847722</td>\n",
       "      <td>-0.847722</td>\n",
       "      <td>-0.847722</td>\n",
       "    </tr>\n",
       "    <tr>\n",
       "      <th>g</th>\n",
       "      <td>0.003067</td>\n",
       "      <td>0.003067</td>\n",
       "      <td>0.003067</td>\n",
       "    </tr>\n",
       "    <tr>\n",
       "      <th>h</th>\n",
       "      <td>-0.348789</td>\n",
       "      <td>-0.348789</td>\n",
       "      <td>-0.348789</td>\n",
       "    </tr>\n",
       "  </tbody>\n",
       "</table>\n",
       "</div>"
      ],
      "text/plain": [
       "          A         A         A\n",
       "a  0.255054  0.255054  0.255054\n",
       "b  1.567858  1.567858  1.567858\n",
       "c  0.518663  0.518663  0.518663\n",
       "d  0.833223  0.833223  0.833223\n",
       "e -1.453560 -1.453560 -1.453560\n",
       "f -0.847722 -0.847722 -0.847722\n",
       "g  0.003067  0.003067  0.003067\n",
       "h -0.348789 -0.348789 -0.348789"
      ]
     },
     "execution_count": 73,
     "metadata": {},
     "output_type": "execute_result"
    }
   ],
   "source": [
    "df.sample(n=3, axis=1, replace=True, weights=[1,0,0])"
   ]
  },
  {
   "cell_type": "markdown",
   "id": "a3021cc1",
   "metadata": {},
   "source": [
    "# 3. Merge, join, concatenate"
   ]
  },
  {
   "cell_type": "markdown",
   "id": "be0780d6",
   "metadata": {},
   "source": [
    "We use ***pandas.concat*** to concatenate pandas objects along a paticular axis and allow optional set logic along the other axes. Can also add a layer of hierarchical indexing on the concatenation axis, which may be useful if the labels are the same (or overlapping) on the passed axis number.  \n",
    "***pandas.concat(objs, *, axis=0, join='outer', ignore_index=False, keys=None, levels=None, names=None, verify_integrity=False, sort=False, copy=None)***  \n",
    "**Parameters:**\n",
    "- **objs**: a sequence or mapping of Series or DataFrame objects.\n",
    "- **axis**: {0/'index', 1/'columns'}, default 0\n",
    "- **join**: {'inner', 'outer'}, default 'outer'\n",
    "- **ignore_index**: bool, default False. If True, do not use the index values along the concatenation axis. The resulting axis will be labeled 0,...,n-1.\n",
    "- **keys**: sequence, default None. Construct hierarchical index using the passed keys as the outermost level.  \n",
    "  \n",
    "**Returns:**  \n",
    "When concatenating all Series along the index (axis=0), a Series is returned. When objs contains at least one DataFrame, a DataFrame is returned. When concatenating along the columns (axis=1), a DataFrame is returned."
   ]
  },
  {
   "cell_type": "code",
   "execution_count": 78,
   "id": "0cc8dfad",
   "metadata": {},
   "outputs": [],
   "source": [
    "df1 = pd.DataFrame({\n",
    "    'A': ['A0', 'A1', 'A2', 'A3'],\n",
    "    'B': ['B0', 'B1', 'B2', 'B3'],\n",
    "    'C': ['C0', 'C1', 'C2', 'C3']}, index=[0, 1, 2, 3])\n",
    "df2 = pd.DataFrame({\n",
    "    'A': ['A4', 'A5', 'A6'],\n",
    "    'B': ['B4', 'B5', 'B6'],\n",
    "    'C': ['C4', 'C5', 'C6']}, index=[4, 5, 6])\n",
    "df3 = pd.DataFrame({\n",
    "    'B': ['B2', 'B3', 'B6'],\n",
    "    'D': ['D2', 'D3', 'D6'],\n",
    "    'F': ['F2', 'F3', 'F6']}, index=[2, 3, 6])"
   ]
  },
  {
   "cell_type": "code",
   "execution_count": 79,
   "id": "ebe87572",
   "metadata": {},
   "outputs": [
    {
     "data": {
      "text/html": [
       "<div>\n",
       "<style scoped>\n",
       "    .dataframe tbody tr th:only-of-type {\n",
       "        vertical-align: middle;\n",
       "    }\n",
       "\n",
       "    .dataframe tbody tr th {\n",
       "        vertical-align: top;\n",
       "    }\n",
       "\n",
       "    .dataframe thead th {\n",
       "        text-align: right;\n",
       "    }\n",
       "</style>\n",
       "<table border=\"1\" class=\"dataframe\">\n",
       "  <thead>\n",
       "    <tr style=\"text-align: right;\">\n",
       "      <th></th>\n",
       "      <th>A</th>\n",
       "      <th>B</th>\n",
       "      <th>C</th>\n",
       "    </tr>\n",
       "  </thead>\n",
       "  <tbody>\n",
       "    <tr>\n",
       "      <th>0</th>\n",
       "      <td>A0</td>\n",
       "      <td>B0</td>\n",
       "      <td>C0</td>\n",
       "    </tr>\n",
       "    <tr>\n",
       "      <th>1</th>\n",
       "      <td>A1</td>\n",
       "      <td>B1</td>\n",
       "      <td>C1</td>\n",
       "    </tr>\n",
       "    <tr>\n",
       "      <th>2</th>\n",
       "      <td>A2</td>\n",
       "      <td>B2</td>\n",
       "      <td>C2</td>\n",
       "    </tr>\n",
       "    <tr>\n",
       "      <th>3</th>\n",
       "      <td>A3</td>\n",
       "      <td>B3</td>\n",
       "      <td>C3</td>\n",
       "    </tr>\n",
       "  </tbody>\n",
       "</table>\n",
       "</div>"
      ],
      "text/plain": [
       "    A   B   C\n",
       "0  A0  B0  C0\n",
       "1  A1  B1  C1\n",
       "2  A2  B2  C2\n",
       "3  A3  B3  C3"
      ]
     },
     "execution_count": 79,
     "metadata": {},
     "output_type": "execute_result"
    }
   ],
   "source": [
    "df1"
   ]
  },
  {
   "cell_type": "code",
   "execution_count": 80,
   "id": "6a354061",
   "metadata": {},
   "outputs": [
    {
     "data": {
      "text/html": [
       "<div>\n",
       "<style scoped>\n",
       "    .dataframe tbody tr th:only-of-type {\n",
       "        vertical-align: middle;\n",
       "    }\n",
       "\n",
       "    .dataframe tbody tr th {\n",
       "        vertical-align: top;\n",
       "    }\n",
       "\n",
       "    .dataframe thead th {\n",
       "        text-align: right;\n",
       "    }\n",
       "</style>\n",
       "<table border=\"1\" class=\"dataframe\">\n",
       "  <thead>\n",
       "    <tr style=\"text-align: right;\">\n",
       "      <th></th>\n",
       "      <th>A</th>\n",
       "      <th>B</th>\n",
       "      <th>C</th>\n",
       "    </tr>\n",
       "  </thead>\n",
       "  <tbody>\n",
       "    <tr>\n",
       "      <th>4</th>\n",
       "      <td>A4</td>\n",
       "      <td>B4</td>\n",
       "      <td>C4</td>\n",
       "    </tr>\n",
       "    <tr>\n",
       "      <th>5</th>\n",
       "      <td>A5</td>\n",
       "      <td>B5</td>\n",
       "      <td>C5</td>\n",
       "    </tr>\n",
       "    <tr>\n",
       "      <th>6</th>\n",
       "      <td>A6</td>\n",
       "      <td>B6</td>\n",
       "      <td>C6</td>\n",
       "    </tr>\n",
       "  </tbody>\n",
       "</table>\n",
       "</div>"
      ],
      "text/plain": [
       "    A   B   C\n",
       "4  A4  B4  C4\n",
       "5  A5  B5  C5\n",
       "6  A6  B6  C6"
      ]
     },
     "execution_count": 80,
     "metadata": {},
     "output_type": "execute_result"
    }
   ],
   "source": [
    "df2"
   ]
  },
  {
   "cell_type": "code",
   "execution_count": 83,
   "id": "14e521e2",
   "metadata": {},
   "outputs": [
    {
     "data": {
      "text/html": [
       "<div>\n",
       "<style scoped>\n",
       "    .dataframe tbody tr th:only-of-type {\n",
       "        vertical-align: middle;\n",
       "    }\n",
       "\n",
       "    .dataframe tbody tr th {\n",
       "        vertical-align: top;\n",
       "    }\n",
       "\n",
       "    .dataframe thead th {\n",
       "        text-align: right;\n",
       "    }\n",
       "</style>\n",
       "<table border=\"1\" class=\"dataframe\">\n",
       "  <thead>\n",
       "    <tr style=\"text-align: right;\">\n",
       "      <th></th>\n",
       "      <th>A</th>\n",
       "      <th>B</th>\n",
       "      <th>C</th>\n",
       "    </tr>\n",
       "  </thead>\n",
       "  <tbody>\n",
       "    <tr>\n",
       "      <th>0</th>\n",
       "      <td>A0</td>\n",
       "      <td>B0</td>\n",
       "      <td>C0</td>\n",
       "    </tr>\n",
       "    <tr>\n",
       "      <th>1</th>\n",
       "      <td>A1</td>\n",
       "      <td>B1</td>\n",
       "      <td>C1</td>\n",
       "    </tr>\n",
       "    <tr>\n",
       "      <th>2</th>\n",
       "      <td>A2</td>\n",
       "      <td>B2</td>\n",
       "      <td>C2</td>\n",
       "    </tr>\n",
       "    <tr>\n",
       "      <th>3</th>\n",
       "      <td>A3</td>\n",
       "      <td>B3</td>\n",
       "      <td>C3</td>\n",
       "    </tr>\n",
       "    <tr>\n",
       "      <th>4</th>\n",
       "      <td>A4</td>\n",
       "      <td>B4</td>\n",
       "      <td>C4</td>\n",
       "    </tr>\n",
       "    <tr>\n",
       "      <th>5</th>\n",
       "      <td>A5</td>\n",
       "      <td>B5</td>\n",
       "      <td>C5</td>\n",
       "    </tr>\n",
       "    <tr>\n",
       "      <th>6</th>\n",
       "      <td>A6</td>\n",
       "      <td>B6</td>\n",
       "      <td>C6</td>\n",
       "    </tr>\n",
       "  </tbody>\n",
       "</table>\n",
       "</div>"
      ],
      "text/plain": [
       "    A   B   C\n",
       "0  A0  B0  C0\n",
       "1  A1  B1  C1\n",
       "2  A2  B2  C2\n",
       "3  A3  B3  C3\n",
       "4  A4  B4  C4\n",
       "5  A5  B5  C5\n",
       "6  A6  B6  C6"
      ]
     },
     "execution_count": 83,
     "metadata": {},
     "output_type": "execute_result"
    }
   ],
   "source": [
    "pd.concat([df1, df2])"
   ]
  },
  {
   "cell_type": "code",
   "execution_count": 84,
   "id": "59da17c5",
   "metadata": {},
   "outputs": [
    {
     "data": {
      "text/html": [
       "<div>\n",
       "<style scoped>\n",
       "    .dataframe tbody tr th:only-of-type {\n",
       "        vertical-align: middle;\n",
       "    }\n",
       "\n",
       "    .dataframe tbody tr th {\n",
       "        vertical-align: top;\n",
       "    }\n",
       "\n",
       "    .dataframe thead th {\n",
       "        text-align: right;\n",
       "    }\n",
       "</style>\n",
       "<table border=\"1\" class=\"dataframe\">\n",
       "  <thead>\n",
       "    <tr style=\"text-align: right;\">\n",
       "      <th></th>\n",
       "      <th>A</th>\n",
       "      <th>B</th>\n",
       "      <th>C</th>\n",
       "      <th>A</th>\n",
       "      <th>B</th>\n",
       "      <th>C</th>\n",
       "    </tr>\n",
       "  </thead>\n",
       "  <tbody>\n",
       "    <tr>\n",
       "      <th>0</th>\n",
       "      <td>A0</td>\n",
       "      <td>B0</td>\n",
       "      <td>C0</td>\n",
       "      <td>NaN</td>\n",
       "      <td>NaN</td>\n",
       "      <td>NaN</td>\n",
       "    </tr>\n",
       "    <tr>\n",
       "      <th>1</th>\n",
       "      <td>A1</td>\n",
       "      <td>B1</td>\n",
       "      <td>C1</td>\n",
       "      <td>NaN</td>\n",
       "      <td>NaN</td>\n",
       "      <td>NaN</td>\n",
       "    </tr>\n",
       "    <tr>\n",
       "      <th>2</th>\n",
       "      <td>A2</td>\n",
       "      <td>B2</td>\n",
       "      <td>C2</td>\n",
       "      <td>NaN</td>\n",
       "      <td>NaN</td>\n",
       "      <td>NaN</td>\n",
       "    </tr>\n",
       "    <tr>\n",
       "      <th>3</th>\n",
       "      <td>A3</td>\n",
       "      <td>B3</td>\n",
       "      <td>C3</td>\n",
       "      <td>NaN</td>\n",
       "      <td>NaN</td>\n",
       "      <td>NaN</td>\n",
       "    </tr>\n",
       "    <tr>\n",
       "      <th>4</th>\n",
       "      <td>NaN</td>\n",
       "      <td>NaN</td>\n",
       "      <td>NaN</td>\n",
       "      <td>A4</td>\n",
       "      <td>B4</td>\n",
       "      <td>C4</td>\n",
       "    </tr>\n",
       "    <tr>\n",
       "      <th>5</th>\n",
       "      <td>NaN</td>\n",
       "      <td>NaN</td>\n",
       "      <td>NaN</td>\n",
       "      <td>A5</td>\n",
       "      <td>B5</td>\n",
       "      <td>C5</td>\n",
       "    </tr>\n",
       "    <tr>\n",
       "      <th>6</th>\n",
       "      <td>NaN</td>\n",
       "      <td>NaN</td>\n",
       "      <td>NaN</td>\n",
       "      <td>A6</td>\n",
       "      <td>B6</td>\n",
       "      <td>C6</td>\n",
       "    </tr>\n",
       "  </tbody>\n",
       "</table>\n",
       "</div>"
      ],
      "text/plain": [
       "     A    B    C    A    B    C\n",
       "0   A0   B0   C0  NaN  NaN  NaN\n",
       "1   A1   B1   C1  NaN  NaN  NaN\n",
       "2   A2   B2   C2  NaN  NaN  NaN\n",
       "3   A3   B3   C3  NaN  NaN  NaN\n",
       "4  NaN  NaN  NaN   A4   B4   C4\n",
       "5  NaN  NaN  NaN   A5   B5   C5\n",
       "6  NaN  NaN  NaN   A6   B6   C6"
      ]
     },
     "execution_count": 84,
     "metadata": {},
     "output_type": "execute_result"
    }
   ],
   "source": [
    "pd.concat([df1, df2], axis=1)"
   ]
  },
  {
   "cell_type": "code",
   "execution_count": 85,
   "id": "ca3c8bec",
   "metadata": {},
   "outputs": [
    {
     "data": {
      "text/html": [
       "<div>\n",
       "<style scoped>\n",
       "    .dataframe tbody tr th:only-of-type {\n",
       "        vertical-align: middle;\n",
       "    }\n",
       "\n",
       "    .dataframe tbody tr th {\n",
       "        vertical-align: top;\n",
       "    }\n",
       "\n",
       "    .dataframe thead th {\n",
       "        text-align: right;\n",
       "    }\n",
       "</style>\n",
       "<table border=\"1\" class=\"dataframe\">\n",
       "  <thead>\n",
       "    <tr style=\"text-align: right;\">\n",
       "      <th></th>\n",
       "      <th>B</th>\n",
       "      <th>D</th>\n",
       "      <th>F</th>\n",
       "    </tr>\n",
       "  </thead>\n",
       "  <tbody>\n",
       "    <tr>\n",
       "      <th>2</th>\n",
       "      <td>B2</td>\n",
       "      <td>D2</td>\n",
       "      <td>F2</td>\n",
       "    </tr>\n",
       "    <tr>\n",
       "      <th>3</th>\n",
       "      <td>B3</td>\n",
       "      <td>D3</td>\n",
       "      <td>F3</td>\n",
       "    </tr>\n",
       "    <tr>\n",
       "      <th>6</th>\n",
       "      <td>B6</td>\n",
       "      <td>D6</td>\n",
       "      <td>F6</td>\n",
       "    </tr>\n",
       "  </tbody>\n",
       "</table>\n",
       "</div>"
      ],
      "text/plain": [
       "    B   D   F\n",
       "2  B2  D2  F2\n",
       "3  B3  D3  F3\n",
       "6  B6  D6  F6"
      ]
     },
     "execution_count": 85,
     "metadata": {},
     "output_type": "execute_result"
    }
   ],
   "source": [
    "df3"
   ]
  },
  {
   "cell_type": "code",
   "execution_count": 89,
   "id": "cb6b21e1",
   "metadata": {},
   "outputs": [
    {
     "data": {
      "text/html": [
       "<div>\n",
       "<style scoped>\n",
       "    .dataframe tbody tr th:only-of-type {\n",
       "        vertical-align: middle;\n",
       "    }\n",
       "\n",
       "    .dataframe tbody tr th {\n",
       "        vertical-align: top;\n",
       "    }\n",
       "\n",
       "    .dataframe thead th {\n",
       "        text-align: right;\n",
       "    }\n",
       "</style>\n",
       "<table border=\"1\" class=\"dataframe\">\n",
       "  <thead>\n",
       "    <tr style=\"text-align: right;\">\n",
       "      <th></th>\n",
       "      <th>A</th>\n",
       "      <th>B</th>\n",
       "      <th>C</th>\n",
       "      <th>B</th>\n",
       "      <th>D</th>\n",
       "      <th>F</th>\n",
       "    </tr>\n",
       "  </thead>\n",
       "  <tbody>\n",
       "    <tr>\n",
       "      <th>2</th>\n",
       "      <td>A2</td>\n",
       "      <td>B2</td>\n",
       "      <td>C2</td>\n",
       "      <td>B2</td>\n",
       "      <td>D2</td>\n",
       "      <td>F2</td>\n",
       "    </tr>\n",
       "    <tr>\n",
       "      <th>3</th>\n",
       "      <td>A3</td>\n",
       "      <td>B3</td>\n",
       "      <td>C3</td>\n",
       "      <td>B3</td>\n",
       "      <td>D3</td>\n",
       "      <td>F3</td>\n",
       "    </tr>\n",
       "  </tbody>\n",
       "</table>\n",
       "</div>"
      ],
      "text/plain": [
       "    A   B   C   B   D   F\n",
       "2  A2  B2  C2  B2  D2  F2\n",
       "3  A3  B3  C3  B3  D3  F3"
      ]
     },
     "execution_count": 89,
     "metadata": {},
     "output_type": "execute_result"
    }
   ],
   "source": [
    "pd.concat([df1, df3], join='inner', axis=1)"
   ]
  },
  {
   "cell_type": "code",
   "execution_count": 101,
   "id": "84573766",
   "metadata": {},
   "outputs": [
    {
     "data": {
      "text/html": [
       "<div>\n",
       "<style scoped>\n",
       "    .dataframe tbody tr th:only-of-type {\n",
       "        vertical-align: middle;\n",
       "    }\n",
       "\n",
       "    .dataframe tbody tr th {\n",
       "        vertical-align: top;\n",
       "    }\n",
       "\n",
       "    .dataframe thead tr th {\n",
       "        text-align: left;\n",
       "    }\n",
       "</style>\n",
       "<table border=\"1\" class=\"dataframe\">\n",
       "  <thead>\n",
       "    <tr>\n",
       "      <th></th>\n",
       "      <th colspan=\"3\" halign=\"left\">x</th>\n",
       "      <th colspan=\"3\" halign=\"left\">y</th>\n",
       "    </tr>\n",
       "    <tr>\n",
       "      <th></th>\n",
       "      <th>A</th>\n",
       "      <th>B</th>\n",
       "      <th>C</th>\n",
       "      <th>B</th>\n",
       "      <th>D</th>\n",
       "      <th>F</th>\n",
       "    </tr>\n",
       "  </thead>\n",
       "  <tbody>\n",
       "    <tr>\n",
       "      <th>2</th>\n",
       "      <td>A2</td>\n",
       "      <td>B2</td>\n",
       "      <td>C2</td>\n",
       "      <td>B2</td>\n",
       "      <td>D2</td>\n",
       "      <td>F2</td>\n",
       "    </tr>\n",
       "    <tr>\n",
       "      <th>3</th>\n",
       "      <td>A3</td>\n",
       "      <td>B3</td>\n",
       "      <td>C3</td>\n",
       "      <td>B3</td>\n",
       "      <td>D3</td>\n",
       "      <td>F3</td>\n",
       "    </tr>\n",
       "  </tbody>\n",
       "</table>\n",
       "</div>"
      ],
      "text/plain": [
       "    x           y        \n",
       "    A   B   C   B   D   F\n",
       "2  A2  B2  C2  B2  D2  F2\n",
       "3  A3  B3  C3  B3  D3  F3"
      ]
     },
     "execution_count": 101,
     "metadata": {},
     "output_type": "execute_result"
    }
   ],
   "source": [
    "result = pd.concat([df1, df3], axis=1, join='inner', keys=['x', 'y'])\n",
    "result"
   ]
  },
  {
   "cell_type": "code",
   "execution_count": 102,
   "id": "4335c4f8",
   "metadata": {},
   "outputs": [
    {
     "data": {
      "text/html": [
       "<div>\n",
       "<style scoped>\n",
       "    .dataframe tbody tr th:only-of-type {\n",
       "        vertical-align: middle;\n",
       "    }\n",
       "\n",
       "    .dataframe tbody tr th {\n",
       "        vertical-align: top;\n",
       "    }\n",
       "\n",
       "    .dataframe thead tr th {\n",
       "        text-align: left;\n",
       "    }\n",
       "</style>\n",
       "<table border=\"1\" class=\"dataframe\">\n",
       "  <thead>\n",
       "    <tr>\n",
       "      <th></th>\n",
       "      <th colspan=\"3\" halign=\"left\">x</th>\n",
       "      <th colspan=\"3\" halign=\"left\">y</th>\n",
       "    </tr>\n",
       "    <tr>\n",
       "      <th></th>\n",
       "      <th>A</th>\n",
       "      <th>B</th>\n",
       "      <th>C</th>\n",
       "      <th>B</th>\n",
       "      <th>D</th>\n",
       "      <th>F</th>\n",
       "    </tr>\n",
       "  </thead>\n",
       "  <tbody>\n",
       "    <tr>\n",
       "      <th>2</th>\n",
       "      <td>A2</td>\n",
       "      <td>B2</td>\n",
       "      <td>C2</td>\n",
       "      <td>B2</td>\n",
       "      <td>D2</td>\n",
       "      <td>F2</td>\n",
       "    </tr>\n",
       "    <tr>\n",
       "      <th>3</th>\n",
       "      <td>A3</td>\n",
       "      <td>B3</td>\n",
       "      <td>C3</td>\n",
       "      <td>B3</td>\n",
       "      <td>D3</td>\n",
       "      <td>F3</td>\n",
       "    </tr>\n",
       "  </tbody>\n",
       "</table>\n",
       "</div>"
      ],
      "text/plain": [
       "    x           y        \n",
       "    A   B   C   B   D   F\n",
       "2  A2  B2  C2  B2  D2  F2\n",
       "3  A3  B3  C3  B3  D3  F3"
      ]
     },
     "execution_count": 102,
     "metadata": {},
     "output_type": "execute_result"
    }
   ],
   "source": [
    "result = pd.concat({'x': df1, 'y': df3}, axis=1, join='inner') # the same with above cell\n",
    "result"
   ]
  },
  {
   "cell_type": "code",
   "execution_count": 94,
   "id": "243f0e7a",
   "metadata": {},
   "outputs": [
    {
     "data": {
      "text/plain": [
       "'B2'"
      ]
     },
     "execution_count": 94,
     "metadata": {},
     "output_type": "execute_result"
    }
   ],
   "source": [
    "result.x.loc[2, 'B']"
   ]
  },
  {
   "cell_type": "code",
   "execution_count": 104,
   "id": "f459a57a",
   "metadata": {},
   "outputs": [
    {
     "data": {
      "text/html": [
       "<div>\n",
       "<style scoped>\n",
       "    .dataframe tbody tr th:only-of-type {\n",
       "        vertical-align: middle;\n",
       "    }\n",
       "\n",
       "    .dataframe tbody tr th {\n",
       "        vertical-align: top;\n",
       "    }\n",
       "\n",
       "    .dataframe thead th {\n",
       "        text-align: right;\n",
       "    }\n",
       "</style>\n",
       "<table border=\"1\" class=\"dataframe\">\n",
       "  <thead>\n",
       "    <tr style=\"text-align: right;\">\n",
       "      <th></th>\n",
       "      <th>A</th>\n",
       "      <th>B</th>\n",
       "      <th>C</th>\n",
       "    </tr>\n",
       "  </thead>\n",
       "  <tbody>\n",
       "    <tr>\n",
       "      <th>0</th>\n",
       "      <td>A0</td>\n",
       "      <td>B0</td>\n",
       "      <td>C0</td>\n",
       "    </tr>\n",
       "    <tr>\n",
       "      <th>1</th>\n",
       "      <td>A1</td>\n",
       "      <td>B1</td>\n",
       "      <td>C1</td>\n",
       "    </tr>\n",
       "    <tr>\n",
       "      <th>2</th>\n",
       "      <td>A2</td>\n",
       "      <td>B2</td>\n",
       "      <td>C2</td>\n",
       "    </tr>\n",
       "    <tr>\n",
       "      <th>3</th>\n",
       "      <td>A3</td>\n",
       "      <td>B3</td>\n",
       "      <td>C3</td>\n",
       "    </tr>\n",
       "  </tbody>\n",
       "</table>\n",
       "</div>"
      ],
      "text/plain": [
       "    A   B   C\n",
       "0  A0  B0  C0\n",
       "1  A1  B1  C1\n",
       "2  A2  B2  C2\n",
       "3  A3  B3  C3"
      ]
     },
     "execution_count": 104,
     "metadata": {},
     "output_type": "execute_result"
    }
   ],
   "source": [
    "df1"
   ]
  },
  {
   "cell_type": "code",
   "execution_count": 108,
   "id": "6e68b800",
   "metadata": {},
   "outputs": [
    {
     "data": {
      "text/html": [
       "<div>\n",
       "<style scoped>\n",
       "    .dataframe tbody tr th:only-of-type {\n",
       "        vertical-align: middle;\n",
       "    }\n",
       "\n",
       "    .dataframe tbody tr th {\n",
       "        vertical-align: top;\n",
       "    }\n",
       "\n",
       "    .dataframe thead th {\n",
       "        text-align: right;\n",
       "    }\n",
       "</style>\n",
       "<table border=\"1\" class=\"dataframe\">\n",
       "  <thead>\n",
       "    <tr style=\"text-align: right;\">\n",
       "      <th></th>\n",
       "      <th>A</th>\n",
       "      <th>B</th>\n",
       "      <th>C</th>\n",
       "    </tr>\n",
       "  </thead>\n",
       "  <tbody>\n",
       "    <tr>\n",
       "      <th>0</th>\n",
       "      <td>A0</td>\n",
       "      <td>B0</td>\n",
       "      <td>C0</td>\n",
       "    </tr>\n",
       "    <tr>\n",
       "      <th>1</th>\n",
       "      <td>A1</td>\n",
       "      <td>B1</td>\n",
       "      <td>C1</td>\n",
       "    </tr>\n",
       "    <tr>\n",
       "      <th>2</th>\n",
       "      <td>A2</td>\n",
       "      <td>B2</td>\n",
       "      <td>C2</td>\n",
       "    </tr>\n",
       "    <tr>\n",
       "      <th>3</th>\n",
       "      <td>A3</td>\n",
       "      <td>B3</td>\n",
       "      <td>C3</td>\n",
       "    </tr>\n",
       "    <tr>\n",
       "      <th>4</th>\n",
       "      <td>A4</td>\n",
       "      <td>B4</td>\n",
       "      <td>C4</td>\n",
       "    </tr>\n",
       "  </tbody>\n",
       "</table>\n",
       "</div>"
      ],
      "text/plain": [
       "    A   B   C\n",
       "0  A0  B0  C0\n",
       "1  A1  B1  C1\n",
       "2  A2  B2  C2\n",
       "3  A3  B3  C3\n",
       "4  A4  B4  C4"
      ]
     },
     "execution_count": 108,
     "metadata": {},
     "output_type": "execute_result"
    }
   ],
   "source": [
    "# Append rows to a DataFrame\n",
    "s2 = pd.Series(['A4', 'B4', 'C4'], index=['A', 'B', 'C'])\n",
    "pd.concat([df1, s2.to_frame().T], ignore_index=True)"
   ]
  },
  {
   "cell_type": "markdown",
   "id": "cd24a55c",
   "metadata": {},
   "source": [
    "# 4. Group by: split-apply-combine"
   ]
  },
  {
   "cell_type": "code",
   "execution_count": null,
   "id": "772a226c",
   "metadata": {},
   "outputs": [],
   "source": []
  }
 ],
 "metadata": {
  "kernelspec": {
   "display_name": "Python 3 (ipykernel)",
   "language": "python",
   "name": "python3"
  },
  "language_info": {
   "codemirror_mode": {
    "name": "ipython",
    "version": 3
   },
   "file_extension": ".py",
   "mimetype": "text/x-python",
   "name": "python",
   "nbconvert_exporter": "python",
   "pygments_lexer": "ipython3",
   "version": "3.11.2"
  }
 },
 "nbformat": 4,
 "nbformat_minor": 5
}
