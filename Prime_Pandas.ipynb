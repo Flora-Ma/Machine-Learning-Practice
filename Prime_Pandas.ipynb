{
 "cells": [
  {
   "cell_type": "code",
   "execution_count": 1,
   "id": "47648635",
   "metadata": {},
   "outputs": [],
   "source": [
    "import pandas as pd\n",
    "import numpy as np"
   ]
  },
  {
   "cell_type": "markdown",
   "id": "1209ebfc",
   "metadata": {},
   "source": [
    "# 1. Data Structures"
   ]
  },
  {
   "cell_type": "markdown",
   "id": "8e66cb30",
   "metadata": {},
   "source": [
    "## 1.1 Series "
   ]
  },
  {
   "cell_type": "markdown",
   "id": "6d2fd9b3",
   "metadata": {},
   "source": [
    "pandas.Series is one-dimensional **ndarray** with **axis labels**. So it acts like an **ndarray** and a **dict**."
   ]
  },
  {
   "cell_type": "markdown",
   "id": "99c449ae",
   "metadata": {},
   "source": [
    "### 1.1.1 Create Series "
   ]
  },
  {
   "cell_type": "code",
   "execution_count": 9,
   "id": "30f1a7f2",
   "metadata": {},
   "outputs": [
    {
     "name": "stdout",
     "output_type": "stream",
     "text": [
      "0   -2.233972\n",
      "1   -0.538305\n",
      "2   -1.506726\n",
      "3    0.279767\n",
      "4    1.504825\n",
      "dtype: float64\n",
      "a    2\n",
      "b    3\n",
      "c    1\n",
      "d    4\n",
      "e    5\n",
      "dtype: int64\n",
      "a    1.0\n",
      "b    2.0\n",
      "c    3.0\n",
      "dtype: float64\n",
      "x    NaN\n",
      "y    NaN\n",
      "a    1.0\n",
      "a    1.0\n",
      "dtype: float64\n",
      "a    5\n",
      "b    5\n",
      "c    5\n",
      "dtype: int64\n"
     ]
    }
   ],
   "source": [
    "# Construct function\n",
    "pd.Series(data=None, index=None, dtype=None, name=None, copy=False)\n",
    "# Parameter data: array-like, Iterable, dict, scalar\n",
    "# Parameter index: array-like or Index(1d)\n",
    "\n",
    "# create Series from ndarray\n",
    "s = pd.Series(np.random.randn(5))\n",
    "print(s)\n",
    "\n",
    "# create Series from array\n",
    "s = pd.Series([2, 3, 1, 4, 5], index = ['a', 'b', 'c', 'd', 'e'])\n",
    "print(s)\n",
    "\n",
    "# create Series from dict\n",
    "s = pd.Series({'a': 1.0, 'b': 2.0, 'c': 3.0}) # key as the index\n",
    "print(s)\n",
    "s = pd.Series({'a': 1.0, 'b': 2.0, 'c': 3.0}, index=['x', 'y', 'a', 'a']) # Non-unique index values are allowed.\n",
    "# If an index is passed, the values in data corresponding to the labels in the index will be pulled out.\n",
    "# Return NaN if no key corresponds to the index label.\n",
    "print(s)\n",
    "\n",
    "# create Series from scalar\n",
    "s = pd.Series(5, index=['a', 'b', 'c'])\n",
    "print(s)\n"
   ]
  },
  {
   "cell_type": "markdown",
   "id": "cd17078b",
   "metadata": {},
   "source": [
    "### 1.1.2 Series is ndarray-like "
   ]
  },
  {
   "cell_type": "markdown",
   "id": "61f88154",
   "metadata": {},
   "source": [
    "Series acts very similarly to a ndarray and is a valid argument to most Numpy functions. And operations such as slicing will also slice the index."
   ]
  },
  {
   "cell_type": "code",
   "execution_count": 19,
   "id": "bdf5dfe3",
   "metadata": {},
   "outputs": [
    {
     "name": "stdout",
     "output_type": "stream",
     "text": [
      "a    0.767637\n",
      "b    0.008467\n",
      "c   -0.536705\n",
      "Name: mySeries, dtype: float64\n",
      "b    0.008467\n",
      "c   -0.536705\n",
      "d    0.617515\n",
      "Name: mySeries, dtype: float64\n",
      "a    0.767637\n",
      "d    0.617515\n",
      "Name: mySeries, dtype: float64\n"
     ]
    }
   ],
   "source": [
    "s = pd.Series(np.random.randn(5), index=['a', 'b', 'c', 'd', 'e'], name='mySeries')\n",
    "print(s[:3])\n",
    "print(s['b':'d']) # different from number slicing, index slicing includes both start point and end point.\n",
    "print(s[s > s.median()])"
   ]
  },
  {
   "cell_type": "markdown",
   "id": "4923c58e",
   "metadata": {},
   "source": [
    "Different from ndarray, operations between Series automatically align the data based on label. Thus, you can write computations without giving consideration to whether the Series involved have the same labels. If a label is not found in one Series or the other, the result will be marked as missing NaN."
   ]
  },
  {
   "cell_type": "code",
   "execution_count": 23,
   "id": "3e305ac7",
   "metadata": {},
   "outputs": [
    {
     "data": {
      "text/plain": [
       "a         NaN\n",
       "b    0.016933\n",
       "c   -1.073411\n",
       "d    1.235030\n",
       "e         NaN\n",
       "Name: mySeries, dtype: float64"
      ]
     },
     "execution_count": 23,
     "metadata": {},
     "output_type": "execute_result"
    }
   ],
   "source": [
    "s[1:] + s[:-1]"
   ]
  },
  {
   "cell_type": "markdown",
   "id": "5f3152b5",
   "metadata": {},
   "source": [
    "While Series is ndarray-like, if you need an actual ndarray, use Series.to_numpy()"
   ]
  },
  {
   "cell_type": "code",
   "execution_count": 24,
   "id": "e72e5f71",
   "metadata": {},
   "outputs": [
    {
     "data": {
      "text/plain": [
       "array([ 0.76763684,  0.00846657, -0.53670536,  0.61751515, -0.41131902])"
      ]
     },
     "execution_count": 24,
     "metadata": {},
     "output_type": "execute_result"
    }
   ],
   "source": [
    "s.to_numpy()"
   ]
  },
  {
   "cell_type": "markdown",
   "id": "01a3931c",
   "metadata": {},
   "source": [
    "### 1.1.3 Series is dict-like "
   ]
  },
  {
   "cell_type": "code",
   "execution_count": 25,
   "id": "4372e222",
   "metadata": {},
   "outputs": [
    {
     "name": "stdout",
     "output_type": "stream",
     "text": [
      "True\n",
      "0.7676368427776733\n",
      "0.7676368427776733\n",
      "False\n",
      "None\n",
      "nan\n"
     ]
    }
   ],
   "source": [
    "print('a' in s)\n",
    "print(s['a'])\n",
    "print(s.get('a'))\n",
    "print('f' in s)\n",
    "# print(s['f']) # error\n",
    "print(s.get('f'))\n",
    "print(s.get('f', np.nan))"
   ]
  },
  {
   "cell_type": "markdown",
   "id": "d26ea9de",
   "metadata": {},
   "source": [
    "## 1.2 DataFrame"
   ]
  },
  {
   "cell_type": "markdown",
   "id": "7b6e58ce",
   "metadata": {},
   "source": [
    "pandas.DataFrame is a two-dimensional, size-multable, potentially heterogeneous tabular data. It contains labeled axes (rows and columns). Can be thought of as a dict-like container for Series objects. The primary pandas data structure."
   ]
  },
  {
   "cell_type": "markdown",
   "id": "89ffeb51",
   "metadata": {},
   "source": [
    "### 1.2.1 Create DataFrame "
   ]
  },
  {
   "cell_type": "code",
   "execution_count": 35,
   "id": "59dc5c2b",
   "metadata": {},
   "outputs": [
    {
     "name": "stdout",
     "output_type": "stream",
     "text": [
      "   col1  col2\n",
      "a   1.0   4.0\n",
      "b   2.0   5.0\n",
      "c   3.0   NaN\n",
      "d   NaN   6.0\n",
      "   col1  col2\n",
      "a     1     4\n",
      "b     2     5\n",
      "c     3     6\n",
      "   a  b    c\n",
      "0  1  2  NaN\n",
      "1  4  5  6.0\n",
      "   col1  col2\n",
      "0   NaN   NaN\n",
      "1   NaN   NaN\n"
     ]
    }
   ],
   "source": [
    "# Construct function\n",
    "pd.DataFrame(data=None, index=None, columns=None, dtype=None, copy=False)\n",
    "# Parameter data: ndarry(structured or homogeneous), Iterable, dict, or DataFrame\n",
    "\n",
    "# create DataFrame from dict of Series\n",
    "df = pd.DataFrame({'col1': pd.Series([1.0, 2.0, 3.0], index=['a', 'b', 'c']),\n",
    "                  'col2': pd.Series([4.0, 5.0, 6.0], index=['a', 'b', 'd'])})\n",
    "print(df)\n",
    "\n",
    "# create DataFrame from dict of ndarrays/lists\n",
    "df = pd.DataFrame({'col1':[1, 2, 3], 'col2':[4, 5, 6]}, index=['a', 'b', 'c'])\n",
    "print(df)\n",
    "\n",
    "# Optional\n",
    "# create DataFrame from a list of dicts.\n",
    "df = pd.DataFrame([{'a': 1, 'b': 2}, {'a': 4, 'b': 5, 'c': 6}])\n",
    "print(df)\n",
    "\n",
    "df = pd.DataFrame([{'a': 1, 'b': 2}, {'a': 4, 'b': 5, 'c': 6}], columns=['col1', 'col2'])\n",
    "print(df)\n",
    "\n",
    "# To summarize, keys in the dict data are for columns"
   ]
  },
  {
   "cell_type": "markdown",
   "id": "b832a35c",
   "metadata": {},
   "source": [
    "### 1.2.2 Read and write DataFrame"
   ]
  },
  {
   "cell_type": "markdown",
   "id": "d7e0e4f4",
   "metadata": {},
   "source": [
    " ### 1. ***pd.read_csv()***, read csv file & text file, return DataFrame\n",
    "\n",
    "**Parameters:**  \n",
    "**filepath_or_buffer**: filepath, str, url, or any object with a read() method (such as an open file or StringIO)\n",
    "\n",
    "**sep / delimiter**: sep, default ','; delimiter, default None\n",
    "\n",
    "**header**: default 'infer'. header=0: infer from first line. header=None: column names are passed. header='infer': if column names are passed, like header=None, else like header = 0. Note that this parameter ignores commented lines and empty lines if skip_blank_lines=True(default), so header=0 denotes the first line of data rather than the first line of the file.\n",
    "**names**: array-like, default None. Column names.\n",
    "**index_col**: int, str, sequence of int/str. Column(s) to use as row labels.\n",
    "\n",
    "**usecols**: list-like or callable, default None. Return a subset of columns.\n",
    "**skip_rows**: list-like or integer, default None. Line numbers to skip(0-indexed) or number of lines to skip (int) at the start of the file.\n",
    "**nrows**: int, defatul None. Number of rows of file to read.\n",
    "\n",
    "**true_values**: list, default None. Values to consider as True.\n",
    "**false_values**: list, default None. Values to consider as False.\n",
    "**na_values**: list and others, defaule None. Additional strings to recognize as NA/NaN.\n",
    "**keep_default_na**: boolean, defatult True. Whether or not to include the default NaN values when parsing the data.\n",
    "\n",
    "**parse_dates**: boolean or list of ints or names or list of lists or dict, default False.  \n",
    "- If True: try parsing the index.  \n",
    "- If [1, 2, 3]:try parsing columns 1,2,3 each as a separate data column. \n",
    "- If [[1, 3]]: combine columns 1 and 3 and parse as a single data column.\n",
    "**date_format**: str or dict of column -> format, default None. If used in conjuction with parse_dates, will parse dates according to this format. For anything more complex, please read in as object and then apply to_datetime() as-needed.\n",
    "\n",
    "**dtype**: indicate the date type for the whole DataFrame or individual columns.\n",
    "**converters**: deal with columns with mixed types."
   ]
  },
  {
   "cell_type": "code",
   "execution_count": 52,
   "id": "3cf46efc",
   "metadata": {},
   "outputs": [
    {
     "data": {
      "text/html": [
       "<div>\n",
       "<style scoped>\n",
       "    .dataframe tbody tr th:only-of-type {\n",
       "        vertical-align: middle;\n",
       "    }\n",
       "\n",
       "    .dataframe tbody tr th {\n",
       "        vertical-align: top;\n",
       "    }\n",
       "\n",
       "    .dataframe thead th {\n",
       "        text-align: right;\n",
       "    }\n",
       "</style>\n",
       "<table border=\"1\" class=\"dataframe\">\n",
       "  <thead>\n",
       "    <tr style=\"text-align: right;\">\n",
       "      <th></th>\n",
       "      <th>word</th>\n",
       "      <th>length</th>\n",
       "    </tr>\n",
       "  </thead>\n",
       "  <tbody>\n",
       "    <tr>\n",
       "      <th>0</th>\n",
       "      <td>Träumen</td>\n",
       "      <td>7</td>\n",
       "    </tr>\n",
       "    <tr>\n",
       "      <th>1</th>\n",
       "      <td>Grüße</td>\n",
       "      <td>5</td>\n",
       "    </tr>\n",
       "  </tbody>\n",
       "</table>\n",
       "</div>"
      ],
      "text/plain": [
       "      word  length\n",
       "0  Träumen       7\n",
       "1    Grüße       5"
      ]
     },
     "execution_count": 52,
     "metadata": {},
     "output_type": "execute_result"
    }
   ],
   "source": [
    "from io import BytesIO\n",
    "data = b\"word,length\\n\" b\"Tr\\xc3\\xa4umen,7\\n\" b\"Gr\\xc3\\xbc\\xc3\\x9fe,5\"\n",
    "df = pd.read_csv(BytesIO(data), encoding='utf-8') # By test, adding encoding='utf-8' or not won't affect the result\n",
    "df"
   ]
  },
  {
   "cell_type": "markdown",
   "id": "28cb6325",
   "metadata": {},
   "source": [
    "### 2. to_csv(), Series/DataFrame instance method, store objects to csv/text file\n",
    "**Parameters:**  \n",
    "**path_or_buf**: a string path to the file or a file object.  \n",
    "**sep**: Field delimiter, default ','."
   ]
  },
  {
   "cell_type": "code",
   "execution_count": 53,
   "id": "e1a9de02",
   "metadata": {},
   "outputs": [
    {
     "name": "stdout",
     "output_type": "stream",
     "text": [
      ",word,length\r\n",
      "0,Träumen,7\r\n",
      "1,Grüße,5\r\n",
      "\n"
     ]
    }
   ],
   "source": [
    "from io import StringIO\n",
    "with StringIO() as f:\n",
    "    df.to_csv(f)\n",
    "    f.seek(0)\n",
    "    print(f.read())"
   ]
  },
  {
   "cell_type": "markdown",
   "id": "59999368",
   "metadata": {},
   "source": [
    "### 1.2.3 DataFrame basic functionality"
   ]
  },
  {
   "cell_type": "code",
   "execution_count": 59,
   "id": "54fbb98b",
   "metadata": {},
   "outputs": [],
   "source": [
    "s = pd.Series(np.random.randn(5), index=[\"a\", \"b\", \"c\", \"d\", \"e\"])\n",
    "df = pd.DataFrame(np.random.randn(8, 3), index=list('abcdefgh'), columns=[\"A\", \"B\", \"C\"])"
   ]
  },
  {
   "cell_type": "code",
   "execution_count": 62,
   "id": "6892b29c",
   "metadata": {},
   "outputs": [
    {
     "data": {
      "text/html": [
       "<div>\n",
       "<style scoped>\n",
       "    .dataframe tbody tr th:only-of-type {\n",
       "        vertical-align: middle;\n",
       "    }\n",
       "\n",
       "    .dataframe tbody tr th {\n",
       "        vertical-align: top;\n",
       "    }\n",
       "\n",
       "    .dataframe thead th {\n",
       "        text-align: right;\n",
       "    }\n",
       "</style>\n",
       "<table border=\"1\" class=\"dataframe\">\n",
       "  <thead>\n",
       "    <tr style=\"text-align: right;\">\n",
       "      <th></th>\n",
       "      <th>A</th>\n",
       "      <th>B</th>\n",
       "      <th>C</th>\n",
       "    </tr>\n",
       "  </thead>\n",
       "  <tbody>\n",
       "    <tr>\n",
       "      <th>a</th>\n",
       "      <td>0.306569</td>\n",
       "      <td>-0.709717</td>\n",
       "      <td>1.250645</td>\n",
       "    </tr>\n",
       "    <tr>\n",
       "      <th>b</th>\n",
       "      <td>1.363502</td>\n",
       "      <td>0.291905</td>\n",
       "      <td>1.128842</td>\n",
       "    </tr>\n",
       "    <tr>\n",
       "      <th>c</th>\n",
       "      <td>-0.845022</td>\n",
       "      <td>-1.460300</td>\n",
       "      <td>-1.807778</td>\n",
       "    </tr>\n",
       "    <tr>\n",
       "      <th>d</th>\n",
       "      <td>-0.035620</td>\n",
       "      <td>-0.916040</td>\n",
       "      <td>-1.883363</td>\n",
       "    </tr>\n",
       "    <tr>\n",
       "      <th>e</th>\n",
       "      <td>-1.623131</td>\n",
       "      <td>0.178064</td>\n",
       "      <td>1.719109</td>\n",
       "    </tr>\n",
       "    <tr>\n",
       "      <th>f</th>\n",
       "      <td>0.212458</td>\n",
       "      <td>0.586647</td>\n",
       "      <td>-1.203165</td>\n",
       "    </tr>\n",
       "    <tr>\n",
       "      <th>g</th>\n",
       "      <td>0.566506</td>\n",
       "      <td>0.656788</td>\n",
       "      <td>-0.768851</td>\n",
       "    </tr>\n",
       "    <tr>\n",
       "      <th>h</th>\n",
       "      <td>0.663305</td>\n",
       "      <td>-1.227375</td>\n",
       "      <td>-0.660401</td>\n",
       "    </tr>\n",
       "  </tbody>\n",
       "</table>\n",
       "</div>"
      ],
      "text/plain": [
       "          A         B         C\n",
       "a  0.306569 -0.709717  1.250645\n",
       "b  1.363502  0.291905  1.128842\n",
       "c -0.845022 -1.460300 -1.807778\n",
       "d -0.035620 -0.916040 -1.883363\n",
       "e -1.623131  0.178064  1.719109\n",
       "f  0.212458  0.586647 -1.203165\n",
       "g  0.566506  0.656788 -0.768851\n",
       "h  0.663305 -1.227375 -0.660401"
      ]
     },
     "execution_count": 62,
     "metadata": {},
     "output_type": "execute_result"
    }
   ],
   "source": [
    "df.head() # display 5 head rows\n",
    "df.head(10) # display 10 head rows\n",
    "df.tail() # display 5 tail rows\n",
    "df.tail(10) # display 10 tail rows"
   ]
  },
  {
   "cell_type": "code",
   "execution_count": 63,
   "id": "9d25ab97",
   "metadata": {},
   "outputs": [
    {
     "data": {
      "text/plain": [
       "(8, 3)"
      ]
     },
     "execution_count": 63,
     "metadata": {},
     "output_type": "execute_result"
    }
   ],
   "source": [
    "df.shape"
   ]
  },
  {
   "cell_type": "code",
   "execution_count": 65,
   "id": "cd8a0971",
   "metadata": {},
   "outputs": [
    {
     "data": {
      "text/plain": [
       "Index(['A', 'B', 'C'], dtype='object')"
      ]
     },
     "execution_count": 65,
     "metadata": {},
     "output_type": "execute_result"
    }
   ],
   "source": [
    "df.index\n",
    "df.columns"
   ]
  },
  {
   "cell_type": "code",
   "execution_count": 69,
   "id": "b110c72c",
   "metadata": {},
   "outputs": [
    {
     "data": {
      "text/html": [
       "<div>\n",
       "<style scoped>\n",
       "    .dataframe tbody tr th:only-of-type {\n",
       "        vertical-align: middle;\n",
       "    }\n",
       "\n",
       "    .dataframe tbody tr th {\n",
       "        vertical-align: top;\n",
       "    }\n",
       "\n",
       "    .dataframe thead th {\n",
       "        text-align: right;\n",
       "    }\n",
       "</style>\n",
       "<table border=\"1\" class=\"dataframe\">\n",
       "  <thead>\n",
       "    <tr style=\"text-align: right;\">\n",
       "      <th></th>\n",
       "      <th>A</th>\n",
       "      <th>B</th>\n",
       "      <th>C</th>\n",
       "    </tr>\n",
       "  </thead>\n",
       "  <tbody>\n",
       "    <tr>\n",
       "      <th>count</th>\n",
       "      <td>8.000000</td>\n",
       "      <td>8.000000</td>\n",
       "      <td>8.000000</td>\n",
       "    </tr>\n",
       "    <tr>\n",
       "      <th>mean</th>\n",
       "      <td>0.076071</td>\n",
       "      <td>-0.325003</td>\n",
       "      <td>-0.278120</td>\n",
       "    </tr>\n",
       "    <tr>\n",
       "      <th>std</th>\n",
       "      <td>0.930649</td>\n",
       "      <td>0.847617</td>\n",
       "      <td>1.437503</td>\n",
       "    </tr>\n",
       "    <tr>\n",
       "      <th>min</th>\n",
       "      <td>-1.623131</td>\n",
       "      <td>-1.460300</td>\n",
       "      <td>-1.883363</td>\n",
       "    </tr>\n",
       "    <tr>\n",
       "      <th>25%</th>\n",
       "      <td>-0.237971</td>\n",
       "      <td>-0.993874</td>\n",
       "      <td>-1.354318</td>\n",
       "    </tr>\n",
       "    <tr>\n",
       "      <th>50%</th>\n",
       "      <td>0.259514</td>\n",
       "      <td>-0.265826</td>\n",
       "      <td>-0.714626</td>\n",
       "    </tr>\n",
       "    <tr>\n",
       "      <th>75%</th>\n",
       "      <td>0.590705</td>\n",
       "      <td>0.365591</td>\n",
       "      <td>1.159293</td>\n",
       "    </tr>\n",
       "    <tr>\n",
       "      <th>max</th>\n",
       "      <td>1.363502</td>\n",
       "      <td>0.656788</td>\n",
       "      <td>1.719109</td>\n",
       "    </tr>\n",
       "  </tbody>\n",
       "</table>\n",
       "</div>"
      ],
      "text/plain": [
       "              A         B         C\n",
       "count  8.000000  8.000000  8.000000\n",
       "mean   0.076071 -0.325003 -0.278120\n",
       "std    0.930649  0.847617  1.437503\n",
       "min   -1.623131 -1.460300 -1.883363\n",
       "25%   -0.237971 -0.993874 -1.354318\n",
       "50%    0.259514 -0.265826 -0.714626\n",
       "75%    0.590705  0.365591  1.159293\n",
       "max    1.363502  0.656788  1.719109"
      ]
     },
     "execution_count": 69,
     "metadata": {},
     "output_type": "execute_result"
    }
   ],
   "source": [
    "s.describe()\n",
    "df.describe()"
   ]
  },
  {
   "cell_type": "code",
   "execution_count": null,
   "id": "0115ebb3",
   "metadata": {},
   "outputs": [],
   "source": []
  }
 ],
 "metadata": {
  "kernelspec": {
   "display_name": "Python 3 (ipykernel)",
   "language": "python",
   "name": "python3"
  },
  "language_info": {
   "codemirror_mode": {
    "name": "ipython",
    "version": 3
   },
   "file_extension": ".py",
   "mimetype": "text/x-python",
   "name": "python",
   "nbconvert_exporter": "python",
   "pygments_lexer": "ipython3",
   "version": "3.11.2"
  }
 },
 "nbformat": 4,
 "nbformat_minor": 5
}
