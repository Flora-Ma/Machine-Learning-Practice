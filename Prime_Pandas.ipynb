{
 "cells": [
  {
   "cell_type": "code",
   "execution_count": 1,
   "id": "f8fd048c",
   "metadata": {},
   "outputs": [],
   "source": [
    "import pandas as pd\n",
    "import numpy as np"
   ]
  },
  {
   "cell_type": "markdown",
   "id": "d8a5e5aa",
   "metadata": {},
   "source": [
    "[Pandas cookbook](https://pandas.pydata.org/docs/user_guide/cookbook.html): a repository for short and sweet examples and links for useful pandas recipes."
   ]
  },
  {
   "cell_type": "markdown",
   "id": "efd90a66",
   "metadata": {},
   "source": [
    "# 1. Data Structures"
   ]
  },
  {
   "cell_type": "markdown",
   "id": "4100dcce",
   "metadata": {},
   "source": [
    "## 1.1 Series "
   ]
  },
  {
   "cell_type": "markdown",
   "id": "4bf2edc1",
   "metadata": {},
   "source": [
    "pandas.Series is one-dimensional **ndarray** with **axis labels**. So it acts like an **ndarray** and a **dict**."
   ]
  },
  {
   "cell_type": "markdown",
   "id": "92787645",
   "metadata": {},
   "source": [
    "### 1.1.1 Create Series "
   ]
  },
  {
   "cell_type": "code",
   "execution_count": 2,
   "id": "71ba7bd5",
   "metadata": {},
   "outputs": [
    {
     "name": "stdout",
     "output_type": "stream",
     "text": [
      "0    1.988128\n",
      "1    0.073344\n",
      "2   -1.240947\n",
      "3   -0.883062\n",
      "4   -0.188685\n",
      "dtype: float64\n",
      "a    2\n",
      "b    3\n",
      "c    1\n",
      "d    4\n",
      "e    5\n",
      "dtype: int64\n",
      "a    1.0\n",
      "b    2.0\n",
      "c    3.0\n",
      "dtype: float64\n",
      "x    NaN\n",
      "y    NaN\n",
      "a    1.0\n",
      "a    1.0\n",
      "dtype: float64\n",
      "a    5\n",
      "b    5\n",
      "c    5\n",
      "dtype: int64\n"
     ]
    }
   ],
   "source": [
    "# Construct function\n",
    "pd.Series(data=None, index=None, dtype=None, name=None, copy=False)\n",
    "# Parameter data: array-like, Iterable, dict, scalar\n",
    "# Parameter index: array-like or Index(1d)\n",
    "\n",
    "# create Series from ndarray\n",
    "s = pd.Series(np.random.randn(5))\n",
    "print(s)\n",
    "\n",
    "# create Series from array\n",
    "s = pd.Series([2, 3, 1, 4, 5], index = ['a', 'b', 'c', 'd', 'e'])\n",
    "print(s)\n",
    "\n",
    "# create Series from dict\n",
    "s = pd.Series({'a': 1.0, 'b': 2.0, 'c': 3.0}) # key as the index\n",
    "print(s)\n",
    "s = pd.Series({'a': 1.0, 'b': 2.0, 'c': 3.0}, index=['x', 'y', 'a', 'a']) # Non-unique index values are allowed.\n",
    "# If an index is passed, the values in data corresponding to the labels in the index will be pulled out.\n",
    "# Return NaN if no key corresponds to the index label.\n",
    "print(s)\n",
    "\n",
    "# create Series from scalar\n",
    "s = pd.Series(5, index=['a', 'b', 'c'])\n",
    "print(s)\n"
   ]
  },
  {
   "cell_type": "markdown",
   "id": "477b4855",
   "metadata": {},
   "source": [
    "### 1.1.2 Series is ndarray-like "
   ]
  },
  {
   "cell_type": "markdown",
   "id": "d9624271",
   "metadata": {},
   "source": [
    "Series acts very similarly to a ndarray and is a valid argument to most Numpy functions. And operations such as slicing will also slice the index."
   ]
  },
  {
   "cell_type": "code",
   "execution_count": 3,
   "id": "18aa622a",
   "metadata": {},
   "outputs": [
    {
     "name": "stdout",
     "output_type": "stream",
     "text": [
      "a   -0.716633\n",
      "b    1.793208\n",
      "c    0.945213\n",
      "Name: mySeries, dtype: float64\n",
      "b    1.793208\n",
      "c    0.945213\n",
      "d   -0.904667\n",
      "Name: mySeries, dtype: float64\n",
      "b    1.793208\n",
      "c    0.945213\n",
      "Name: mySeries, dtype: float64\n"
     ]
    }
   ],
   "source": [
    "s = pd.Series(np.random.randn(5), index=['a', 'b', 'c', 'd', 'e'], name='mySeries')\n",
    "print(s[:3])\n",
    "print(s['b':'d']) # different from number slicing, index slicing includes both start point and end point.\n",
    "print(s[s > s.median()])"
   ]
  },
  {
   "cell_type": "markdown",
   "id": "6ba17f88",
   "metadata": {},
   "source": [
    "Different from ndarray, operations between Series automatically align the data based on label. Thus, you can write computations without giving consideration to whether the Series involved have the same labels. If a label is not found in one Series or the other, the result will be marked as missing NaN."
   ]
  },
  {
   "cell_type": "code",
   "execution_count": 4,
   "id": "42b19ae8",
   "metadata": {},
   "outputs": [
    {
     "data": {
      "text/plain": [
       "a         NaN\n",
       "b    3.586415\n",
       "c    1.890425\n",
       "d   -1.809334\n",
       "e         NaN\n",
       "Name: mySeries, dtype: float64"
      ]
     },
     "execution_count": 4,
     "metadata": {},
     "output_type": "execute_result"
    }
   ],
   "source": [
    "s[1:] + s[:-1]"
   ]
  },
  {
   "cell_type": "markdown",
   "id": "2a470996",
   "metadata": {},
   "source": [
    "While Series is ndarray-like, if you need an actual ndarray, use Series.to_numpy()"
   ]
  },
  {
   "cell_type": "code",
   "execution_count": 5,
   "id": "cdcef178",
   "metadata": {},
   "outputs": [
    {
     "data": {
      "text/plain": [
       "array([-0.71663258,  1.79320767,  0.94521269, -0.9046672 , -0.58324401])"
      ]
     },
     "execution_count": 5,
     "metadata": {},
     "output_type": "execute_result"
    }
   ],
   "source": [
    "s.to_numpy()"
   ]
  },
  {
   "cell_type": "markdown",
   "id": "2d7cddba",
   "metadata": {},
   "source": [
    "### 1.1.3 Series is dict-like "
   ]
  },
  {
   "cell_type": "code",
   "execution_count": 6,
   "id": "c5fbe0e8",
   "metadata": {},
   "outputs": [
    {
     "name": "stdout",
     "output_type": "stream",
     "text": [
      "True\n",
      "-0.7166325776763249\n",
      "-0.7166325776763249\n",
      "False\n",
      "None\n",
      "nan\n"
     ]
    }
   ],
   "source": [
    "print('a' in s)\n",
    "print(s['a'])\n",
    "print(s.get('a'))\n",
    "print('f' in s)\n",
    "# print(s['f']) # error\n",
    "print(s.get('f'))\n",
    "print(s.get('f', np.nan))"
   ]
  },
  {
   "cell_type": "markdown",
   "id": "00fe35e5",
   "metadata": {},
   "source": [
    "## 1.2 DataFrame"
   ]
  },
  {
   "cell_type": "markdown",
   "id": "0bfffc39",
   "metadata": {},
   "source": [
    "pandas.DataFrame is a two-dimensional, size-multable, potentially heterogeneous tabular data. It contains labeled axes (rows and columns). Can be thought of as a dict-like container for Series objects. The primary pandas data structure."
   ]
  },
  {
   "cell_type": "markdown",
   "id": "2edaa6cf",
   "metadata": {},
   "source": [
    "### 1.2.1 Create DataFrame "
   ]
  },
  {
   "cell_type": "code",
   "execution_count": 7,
   "id": "8b4a4536",
   "metadata": {},
   "outputs": [
    {
     "name": "stdout",
     "output_type": "stream",
     "text": [
      "   col1  col2\n",
      "a   1.0   4.0\n",
      "b   2.0   5.0\n",
      "c   3.0   NaN\n",
      "d   NaN   6.0\n",
      "   col1  col2\n",
      "a     1     4\n",
      "b     2     5\n",
      "c     3     6\n",
      "   a  b    c\n",
      "0  1  2  NaN\n",
      "1  4  5  6.0\n",
      "   col1  col2\n",
      "0   NaN   NaN\n",
      "1   NaN   NaN\n"
     ]
    }
   ],
   "source": [
    "# Construct function\n",
    "pd.DataFrame(data=None, index=None, columns=None, dtype=None, copy=False)\n",
    "# Parameter data: ndarry(structured or homogeneous), Iterable, dict, or DataFrame\n",
    "\n",
    "# create DataFrame from dict of Series\n",
    "df = pd.DataFrame({'col1': pd.Series([1.0, 2.0, 3.0], index=['a', 'b', 'c']),\n",
    "                  'col2': pd.Series([4.0, 5.0, 6.0], index=['a', 'b', 'd'])})\n",
    "print(df)\n",
    "\n",
    "# create DataFrame from dict of ndarrays/lists\n",
    "df = pd.DataFrame({'col1':[1, 2, 3], 'col2':[4, 5, 6]}, index=['a', 'b', 'c'])\n",
    "print(df)\n",
    "\n",
    "# Optional\n",
    "# create DataFrame from a list of dicts.\n",
    "df = pd.DataFrame([{'a': 1, 'b': 2}, {'a': 4, 'b': 5, 'c': 6}])\n",
    "print(df)\n",
    "\n",
    "df = pd.DataFrame([{'a': 1, 'b': 2}, {'a': 4, 'b': 5, 'c': 6}], columns=['col1', 'col2'])\n",
    "print(df)\n",
    "\n",
    "# To summarize, keys in the dict data are for columns"
   ]
  },
  {
   "cell_type": "markdown",
   "id": "57295f88",
   "metadata": {},
   "source": [
    "### 1.2.2 Read and write DataFrame"
   ]
  },
  {
   "cell_type": "markdown",
   "id": "8f512e4a",
   "metadata": {},
   "source": [
    " ### 1. ***pd.read_csv()***, read csv file & text file, return DataFrame\n",
    "\n",
    "**Parameters:**  \n",
    "**filepath_or_buffer**: filepath, str, url, or any object with a read() method (such as an open file or StringIO)\n",
    "\n",
    "**sep / delimiter**: sep, default ','; delimiter, default None\n",
    "\n",
    "**header**: default 'infer'. header=0: infer from first line. header=None: column names are passed. header='infer': if column names are passed, like header=None, else like header = 0. Note that this parameter ignores commented lines and empty lines if skip_blank_lines=True(default), so header=0 denotes the first line of data rather than the first line of the file.\n",
    "**names**: array-like, default None. Column names.\n",
    "**index_col**: int, str, sequence of int/str. Column(s) to use as row labels.\n",
    "\n",
    "**usecols**: list-like or callable, default None. Return a subset of columns.\n",
    "**skip_rows**: list-like or integer, default None. Line numbers to skip(0-indexed) or number of lines to skip (int) at the start of the file.\n",
    "**nrows**: int, defatul None. Number of rows of file to read.\n",
    "\n",
    "**true_values**: list, default None. Values to consider as True.\n",
    "**false_values**: list, default None. Values to consider as False.\n",
    "**na_values**: list and others, defaule None. Additional strings to recognize as NA/NaN.\n",
    "**keep_default_na**: boolean, defatult True. Whether or not to include the default NaN values when parsing the data.\n",
    "\n",
    "**parse_dates**: boolean or list of ints or names or list of lists or dict, default False.  \n",
    "- If True: try parsing the index.  \n",
    "- If [1, 2, 3]:try parsing columns 1,2,3 each as a separate data column. \n",
    "- If [[1, 3]]: combine columns 1 and 3 and parse as a single data column.\n",
    "**date_format**: str or dict of column -> format, default None. If used in conjuction with parse_dates, will parse dates according to this format. For anything more complex, please read in as object and then apply to_datetime() as-needed.\n",
    "\n",
    "**dtype**: indicate the date type for the whole DataFrame or individual columns.\n",
    "**converters**: deal with columns with mixed types."
   ]
  },
  {
   "cell_type": "code",
   "execution_count": 8,
   "id": "49c62b2a",
   "metadata": {},
   "outputs": [
    {
     "data": {
      "text/html": [
       "<div>\n",
       "<style scoped>\n",
       "    .dataframe tbody tr th:only-of-type {\n",
       "        vertical-align: middle;\n",
       "    }\n",
       "\n",
       "    .dataframe tbody tr th {\n",
       "        vertical-align: top;\n",
       "    }\n",
       "\n",
       "    .dataframe thead th {\n",
       "        text-align: right;\n",
       "    }\n",
       "</style>\n",
       "<table border=\"1\" class=\"dataframe\">\n",
       "  <thead>\n",
       "    <tr style=\"text-align: right;\">\n",
       "      <th></th>\n",
       "      <th>word</th>\n",
       "      <th>length</th>\n",
       "    </tr>\n",
       "  </thead>\n",
       "  <tbody>\n",
       "    <tr>\n",
       "      <th>0</th>\n",
       "      <td>Träumen</td>\n",
       "      <td>7</td>\n",
       "    </tr>\n",
       "    <tr>\n",
       "      <th>1</th>\n",
       "      <td>Grüße</td>\n",
       "      <td>5</td>\n",
       "    </tr>\n",
       "  </tbody>\n",
       "</table>\n",
       "</div>"
      ],
      "text/plain": [
       "      word  length\n",
       "0  Träumen       7\n",
       "1    Grüße       5"
      ]
     },
     "execution_count": 8,
     "metadata": {},
     "output_type": "execute_result"
    }
   ],
   "source": [
    "from io import BytesIO\n",
    "data = b\"word,length\\n\" b\"Tr\\xc3\\xa4umen,7\\n\" b\"Gr\\xc3\\xbc\\xc3\\x9fe,5\"\n",
    "df = pd.read_csv(BytesIO(data), encoding='utf-8') # By test, adding encoding='utf-8' or not won't affect the result\n",
    "df"
   ]
  },
  {
   "cell_type": "markdown",
   "id": "9d0a557a",
   "metadata": {},
   "source": [
    "### 2. to_csv(), Series/DataFrame instance method, store objects to csv/text file\n",
    "**Parameters:**  \n",
    "**path_or_buf**: a string path to the file or a file object.  \n",
    "**sep**: Field delimiter, default ','."
   ]
  },
  {
   "cell_type": "code",
   "execution_count": 9,
   "id": "10cbcf8a",
   "metadata": {},
   "outputs": [
    {
     "name": "stdout",
     "output_type": "stream",
     "text": [
      ",word,length\r\n",
      "0,Träumen,7\r\n",
      "1,Grüße,5\r\n",
      "\n"
     ]
    }
   ],
   "source": [
    "from io import StringIO\n",
    "with StringIO() as f:\n",
    "    df.to_csv(f)\n",
    "    f.seek(0)\n",
    "    print(f.read())"
   ]
  },
  {
   "cell_type": "markdown",
   "id": "5abe51a9",
   "metadata": {},
   "source": [
    "### 1.2.3 Explore DataFrame data"
   ]
  },
  {
   "cell_type": "code",
   "execution_count": 10,
   "id": "f46d0c94",
   "metadata": {},
   "outputs": [],
   "source": [
    "s = pd.Series(np.random.randn(5), index=[\"a\", \"b\", \"c\", \"d\", \"e\"])\n",
    "df = pd.DataFrame(np.random.randn(8, 3), index=list('abcdefgh'), columns=[\"A\", \"B\", \"C\"])"
   ]
  },
  {
   "cell_type": "code",
   "execution_count": 11,
   "id": "65460d10",
   "metadata": {},
   "outputs": [
    {
     "data": {
      "text/html": [
       "<div>\n",
       "<style scoped>\n",
       "    .dataframe tbody tr th:only-of-type {\n",
       "        vertical-align: middle;\n",
       "    }\n",
       "\n",
       "    .dataframe tbody tr th {\n",
       "        vertical-align: top;\n",
       "    }\n",
       "\n",
       "    .dataframe thead th {\n",
       "        text-align: right;\n",
       "    }\n",
       "</style>\n",
       "<table border=\"1\" class=\"dataframe\">\n",
       "  <thead>\n",
       "    <tr style=\"text-align: right;\">\n",
       "      <th></th>\n",
       "      <th>A</th>\n",
       "      <th>B</th>\n",
       "      <th>C</th>\n",
       "    </tr>\n",
       "  </thead>\n",
       "  <tbody>\n",
       "    <tr>\n",
       "      <th>a</th>\n",
       "      <td>-0.595104</td>\n",
       "      <td>-0.735907</td>\n",
       "      <td>2.045119</td>\n",
       "    </tr>\n",
       "    <tr>\n",
       "      <th>b</th>\n",
       "      <td>0.269366</td>\n",
       "      <td>1.692751</td>\n",
       "      <td>1.544135</td>\n",
       "    </tr>\n",
       "    <tr>\n",
       "      <th>c</th>\n",
       "      <td>1.956259</td>\n",
       "      <td>-1.152488</td>\n",
       "      <td>-1.047629</td>\n",
       "    </tr>\n",
       "    <tr>\n",
       "      <th>d</th>\n",
       "      <td>0.264113</td>\n",
       "      <td>-1.467085</td>\n",
       "      <td>-0.320092</td>\n",
       "    </tr>\n",
       "    <tr>\n",
       "      <th>e</th>\n",
       "      <td>-1.379760</td>\n",
       "      <td>-0.335331</td>\n",
       "      <td>-0.970484</td>\n",
       "    </tr>\n",
       "    <tr>\n",
       "      <th>f</th>\n",
       "      <td>-0.708503</td>\n",
       "      <td>0.993003</td>\n",
       "      <td>0.663502</td>\n",
       "    </tr>\n",
       "    <tr>\n",
       "      <th>g</th>\n",
       "      <td>0.064109</td>\n",
       "      <td>-0.740489</td>\n",
       "      <td>-0.740096</td>\n",
       "    </tr>\n",
       "    <tr>\n",
       "      <th>h</th>\n",
       "      <td>-1.480373</td>\n",
       "      <td>-0.840697</td>\n",
       "      <td>0.237957</td>\n",
       "    </tr>\n",
       "  </tbody>\n",
       "</table>\n",
       "</div>"
      ],
      "text/plain": [
       "          A         B         C\n",
       "a -0.595104 -0.735907  2.045119\n",
       "b  0.269366  1.692751  1.544135\n",
       "c  1.956259 -1.152488 -1.047629\n",
       "d  0.264113 -1.467085 -0.320092\n",
       "e -1.379760 -0.335331 -0.970484\n",
       "f -0.708503  0.993003  0.663502\n",
       "g  0.064109 -0.740489 -0.740096\n",
       "h -1.480373 -0.840697  0.237957"
      ]
     },
     "execution_count": 11,
     "metadata": {},
     "output_type": "execute_result"
    }
   ],
   "source": [
    "df.head() # display 5 head rows\n",
    "df.head(10) # display 10 head rows\n",
    "df.tail() # display 5 tail rows\n",
    "df.tail(10) # display 10 tail rows"
   ]
  },
  {
   "cell_type": "code",
   "execution_count": 12,
   "id": "d8b3d1eb",
   "metadata": {},
   "outputs": [
    {
     "data": {
      "text/plain": [
       "(8, 3)"
      ]
     },
     "execution_count": 12,
     "metadata": {},
     "output_type": "execute_result"
    }
   ],
   "source": [
    "df.shape"
   ]
  },
  {
   "cell_type": "code",
   "execution_count": 13,
   "id": "ad6c032b",
   "metadata": {},
   "outputs": [
    {
     "data": {
      "text/plain": [
       "Index(['A', 'B', 'C'], dtype='object')"
      ]
     },
     "execution_count": 13,
     "metadata": {},
     "output_type": "execute_result"
    }
   ],
   "source": [
    "df.index\n",
    "df.columns"
   ]
  },
  {
   "cell_type": "code",
   "execution_count": 14,
   "id": "ab803fa5",
   "metadata": {},
   "outputs": [
    {
     "data": {
      "text/html": [
       "<div>\n",
       "<style scoped>\n",
       "    .dataframe tbody tr th:only-of-type {\n",
       "        vertical-align: middle;\n",
       "    }\n",
       "\n",
       "    .dataframe tbody tr th {\n",
       "        vertical-align: top;\n",
       "    }\n",
       "\n",
       "    .dataframe thead th {\n",
       "        text-align: right;\n",
       "    }\n",
       "</style>\n",
       "<table border=\"1\" class=\"dataframe\">\n",
       "  <thead>\n",
       "    <tr style=\"text-align: right;\">\n",
       "      <th></th>\n",
       "      <th>A</th>\n",
       "      <th>B</th>\n",
       "      <th>C</th>\n",
       "    </tr>\n",
       "  </thead>\n",
       "  <tbody>\n",
       "    <tr>\n",
       "      <th>count</th>\n",
       "      <td>8.000000</td>\n",
       "      <td>8.000000</td>\n",
       "      <td>8.000000</td>\n",
       "    </tr>\n",
       "    <tr>\n",
       "      <th>mean</th>\n",
       "      <td>-0.201237</td>\n",
       "      <td>-0.323280</td>\n",
       "      <td>0.176551</td>\n",
       "    </tr>\n",
       "    <tr>\n",
       "      <th>std</th>\n",
       "      <td>1.108459</td>\n",
       "      <td>1.095774</td>\n",
       "      <td>1.165206</td>\n",
       "    </tr>\n",
       "    <tr>\n",
       "      <th>min</th>\n",
       "      <td>-1.480373</td>\n",
       "      <td>-1.467085</td>\n",
       "      <td>-1.047629</td>\n",
       "    </tr>\n",
       "    <tr>\n",
       "      <th>25%</th>\n",
       "      <td>-0.876317</td>\n",
       "      <td>-0.918645</td>\n",
       "      <td>-0.797693</td>\n",
       "    </tr>\n",
       "    <tr>\n",
       "      <th>50%</th>\n",
       "      <td>-0.265497</td>\n",
       "      <td>-0.738198</td>\n",
       "      <td>-0.041068</td>\n",
       "    </tr>\n",
       "    <tr>\n",
       "      <th>75%</th>\n",
       "      <td>0.265426</td>\n",
       "      <td>-0.003248</td>\n",
       "      <td>0.883661</td>\n",
       "    </tr>\n",
       "    <tr>\n",
       "      <th>max</th>\n",
       "      <td>1.956259</td>\n",
       "      <td>1.692751</td>\n",
       "      <td>2.045119</td>\n",
       "    </tr>\n",
       "  </tbody>\n",
       "</table>\n",
       "</div>"
      ],
      "text/plain": [
       "              A         B         C\n",
       "count  8.000000  8.000000  8.000000\n",
       "mean  -0.201237 -0.323280  0.176551\n",
       "std    1.108459  1.095774  1.165206\n",
       "min   -1.480373 -1.467085 -1.047629\n",
       "25%   -0.876317 -0.918645 -0.797693\n",
       "50%   -0.265497 -0.738198 -0.041068\n",
       "75%    0.265426 -0.003248  0.883661\n",
       "max    1.956259  1.692751  2.045119"
      ]
     },
     "execution_count": 14,
     "metadata": {},
     "output_type": "execute_result"
    }
   ],
   "source": [
    "s.describe()\n",
    "df.describe()"
   ]
  },
  {
   "cell_type": "markdown",
   "id": "07732881",
   "metadata": {},
   "source": [
    "# 2. Indexing and selecting data "
   ]
  },
  {
   "cell_type": "code",
   "execution_count": 15,
   "id": "d2440e52",
   "metadata": {},
   "outputs": [
    {
     "data": {
      "text/html": [
       "<div>\n",
       "<style scoped>\n",
       "    .dataframe tbody tr th:only-of-type {\n",
       "        vertical-align: middle;\n",
       "    }\n",
       "\n",
       "    .dataframe tbody tr th {\n",
       "        vertical-align: top;\n",
       "    }\n",
       "\n",
       "    .dataframe thead th {\n",
       "        text-align: right;\n",
       "    }\n",
       "</style>\n",
       "<table border=\"1\" class=\"dataframe\">\n",
       "  <thead>\n",
       "    <tr style=\"text-align: right;\">\n",
       "      <th></th>\n",
       "      <th>A</th>\n",
       "      <th>B</th>\n",
       "      <th>C</th>\n",
       "    </tr>\n",
       "  </thead>\n",
       "  <tbody>\n",
       "    <tr>\n",
       "      <th>a</th>\n",
       "      <td>-0.595104</td>\n",
       "      <td>-0.735907</td>\n",
       "      <td>2.045119</td>\n",
       "    </tr>\n",
       "    <tr>\n",
       "      <th>b</th>\n",
       "      <td>0.269366</td>\n",
       "      <td>1.692751</td>\n",
       "      <td>1.544135</td>\n",
       "    </tr>\n",
       "    <tr>\n",
       "      <th>c</th>\n",
       "      <td>1.956259</td>\n",
       "      <td>-1.152488</td>\n",
       "      <td>-1.047629</td>\n",
       "    </tr>\n",
       "    <tr>\n",
       "      <th>d</th>\n",
       "      <td>0.264113</td>\n",
       "      <td>-1.467085</td>\n",
       "      <td>-0.320092</td>\n",
       "    </tr>\n",
       "    <tr>\n",
       "      <th>e</th>\n",
       "      <td>-1.379760</td>\n",
       "      <td>-0.335331</td>\n",
       "      <td>-0.970484</td>\n",
       "    </tr>\n",
       "    <tr>\n",
       "      <th>f</th>\n",
       "      <td>-0.708503</td>\n",
       "      <td>0.993003</td>\n",
       "      <td>0.663502</td>\n",
       "    </tr>\n",
       "    <tr>\n",
       "      <th>g</th>\n",
       "      <td>0.064109</td>\n",
       "      <td>-0.740489</td>\n",
       "      <td>-0.740096</td>\n",
       "    </tr>\n",
       "    <tr>\n",
       "      <th>h</th>\n",
       "      <td>-1.480373</td>\n",
       "      <td>-0.840697</td>\n",
       "      <td>0.237957</td>\n",
       "    </tr>\n",
       "  </tbody>\n",
       "</table>\n",
       "</div>"
      ],
      "text/plain": [
       "          A         B         C\n",
       "a -0.595104 -0.735907  2.045119\n",
       "b  0.269366  1.692751  1.544135\n",
       "c  1.956259 -1.152488 -1.047629\n",
       "d  0.264113 -1.467085 -0.320092\n",
       "e -1.379760 -0.335331 -0.970484\n",
       "f -0.708503  0.993003  0.663502\n",
       "g  0.064109 -0.740489 -0.740096\n",
       "h -1.480373 -0.840697  0.237957"
      ]
     },
     "execution_count": 15,
     "metadata": {},
     "output_type": "execute_result"
    }
   ],
   "source": [
    "df"
   ]
  },
  {
   "cell_type": "markdown",
   "id": "482d775e",
   "metadata": {},
   "source": [
    "## 2.1 []"
   ]
  },
  {
   "cell_type": "code",
   "execution_count": 16,
   "id": "18898071",
   "metadata": {},
   "outputs": [
    {
     "data": {
      "text/plain": [
       "a   -0.595104\n",
       "b    0.269366\n",
       "c    1.956259\n",
       "d    0.264113\n",
       "e   -1.379760\n",
       "f   -0.708503\n",
       "g    0.064109\n",
       "h   -1.480373\n",
       "Name: A, dtype: float64"
      ]
     },
     "execution_count": 16,
     "metadata": {},
     "output_type": "execute_result"
    }
   ],
   "source": [
    "df['A']"
   ]
  },
  {
   "cell_type": "code",
   "execution_count": 17,
   "id": "1b5d9ab6",
   "metadata": {},
   "outputs": [],
   "source": [
    "# df['a'] # KeyError"
   ]
  },
  {
   "cell_type": "code",
   "execution_count": 18,
   "id": "1ed41e6c",
   "metadata": {},
   "outputs": [
    {
     "data": {
      "text/plain": [
       "a   -0.595104\n",
       "b    0.269366\n",
       "c    1.956259\n",
       "d    0.264113\n",
       "e   -1.379760\n",
       "f   -0.708503\n",
       "g    0.064109\n",
       "h   -1.480373\n",
       "Name: A, dtype: float64"
      ]
     },
     "execution_count": 18,
     "metadata": {},
     "output_type": "execute_result"
    }
   ],
   "source": [
    "df.A"
   ]
  },
  {
   "cell_type": "code",
   "execution_count": 19,
   "id": "4bc3a9ee",
   "metadata": {},
   "outputs": [
    {
     "data": {
      "text/plain": [
       "-0.5951035075457793"
      ]
     },
     "execution_count": 19,
     "metadata": {},
     "output_type": "execute_result"
    }
   ],
   "source": [
    "df['A']['a']"
   ]
  },
  {
   "cell_type": "code",
   "execution_count": 20,
   "id": "8ac0c6bc",
   "metadata": {},
   "outputs": [
    {
     "data": {
      "text/plain": [
       "-0.5951035075457793"
      ]
     },
     "execution_count": 20,
     "metadata": {},
     "output_type": "execute_result"
    }
   ],
   "source": [
    "df['A'][0]"
   ]
  },
  {
   "cell_type": "markdown",
   "id": "f48345f6",
   "metadata": {},
   "source": [
    "## 2.2 .loc "
   ]
  },
  {
   "cell_type": "markdown",
   "id": "e8b22ee8",
   "metadata": {},
   "source": [
    "**Label based**, but may laso be used with a boolean array. ***.loc*** will raise KeyError when the items are not found. Allowed inputs are:  \n",
    "- A single label, e.g. 5 or 'a' (Note that 5 is interpreted as a label of the index. This use is not an integer position along the index).  \n",
    "- A list or array of labels ['a', 'b', 'c'].  \n",
    "- A slice object with labels ['a':'f'] (Note that contrary to usual Python slices, both the start and the stop are included, when present in the index.)   \n",
    "- A boolean array (any NA values will be treated as False).  \n",
    "- A callable function with one argument (the calling Series or DataFrame) and that returns valid output for indexing (one of the above).  \n",
    "- For multi-axes selection, axes left out of the specification are assumed to be **:**, e.g. p.loc['a'] is equivalent to p.loc['a', :]."
   ]
  },
  {
   "cell_type": "code",
   "execution_count": 21,
   "id": "261fe783",
   "metadata": {},
   "outputs": [
    {
     "data": {
      "text/plain": [
       "A   -0.595104\n",
       "B   -0.735907\n",
       "C    2.045119\n",
       "Name: a, dtype: float64"
      ]
     },
     "execution_count": 21,
     "metadata": {},
     "output_type": "execute_result"
    }
   ],
   "source": [
    "# df.loc[3] # KeyError\n",
    "df.loc['a']"
   ]
  },
  {
   "cell_type": "code",
   "execution_count": 22,
   "id": "9c74ac4f",
   "metadata": {},
   "outputs": [
    {
     "data": {
      "text/plain": [
       "a   -0.595104\n",
       "b    0.269366\n",
       "c    1.956259\n",
       "d    0.264113\n",
       "e   -1.379760\n",
       "f   -0.708503\n",
       "g    0.064109\n",
       "h   -1.480373\n",
       "Name: A, dtype: float64"
      ]
     },
     "execution_count": 22,
     "metadata": {},
     "output_type": "execute_result"
    }
   ],
   "source": [
    "# df.loc['A'] # KeyError\n",
    "df.loc[:, 'A'] # same with df['A']"
   ]
  },
  {
   "cell_type": "code",
   "execution_count": 23,
   "id": "db4c1a85",
   "metadata": {},
   "outputs": [
    {
     "data": {
      "text/plain": [
       "B   -0.735907\n",
       "C    2.045119\n",
       "Name: a, dtype: float64"
      ]
     },
     "execution_count": 23,
     "metadata": {},
     "output_type": "execute_result"
    }
   ],
   "source": [
    "df.loc['a', 'B':'C']"
   ]
  },
  {
   "cell_type": "code",
   "execution_count": 24,
   "id": "b5b707cc",
   "metadata": {},
   "outputs": [
    {
     "data": {
      "text/html": [
       "<div>\n",
       "<style scoped>\n",
       "    .dataframe tbody tr th:only-of-type {\n",
       "        vertical-align: middle;\n",
       "    }\n",
       "\n",
       "    .dataframe tbody tr th {\n",
       "        vertical-align: top;\n",
       "    }\n",
       "\n",
       "    .dataframe thead th {\n",
       "        text-align: right;\n",
       "    }\n",
       "</style>\n",
       "<table border=\"1\" class=\"dataframe\">\n",
       "  <thead>\n",
       "    <tr style=\"text-align: right;\">\n",
       "      <th></th>\n",
       "      <th>A</th>\n",
       "      <th>B</th>\n",
       "      <th>C</th>\n",
       "    </tr>\n",
       "  </thead>\n",
       "  <tbody>\n",
       "    <tr>\n",
       "      <th>a</th>\n",
       "      <td>-0.595104</td>\n",
       "      <td>-0.735907</td>\n",
       "      <td>2.045119</td>\n",
       "    </tr>\n",
       "    <tr>\n",
       "      <th>b</th>\n",
       "      <td>0.269366</td>\n",
       "      <td>1.692751</td>\n",
       "      <td>1.544135</td>\n",
       "    </tr>\n",
       "  </tbody>\n",
       "</table>\n",
       "</div>"
      ],
      "text/plain": [
       "          A         B         C\n",
       "a -0.595104 -0.735907  2.045119\n",
       "b  0.269366  1.692751  1.544135"
      ]
     },
     "execution_count": 24,
     "metadata": {},
     "output_type": "execute_result"
    }
   ],
   "source": [
    "df.loc['a':'b'] # same with df.loc['a':'b', :]"
   ]
  },
  {
   "cell_type": "code",
   "execution_count": 25,
   "id": "334a31a4",
   "metadata": {},
   "outputs": [
    {
     "data": {
      "text/html": [
       "<div>\n",
       "<style scoped>\n",
       "    .dataframe tbody tr th:only-of-type {\n",
       "        vertical-align: middle;\n",
       "    }\n",
       "\n",
       "    .dataframe tbody tr th {\n",
       "        vertical-align: top;\n",
       "    }\n",
       "\n",
       "    .dataframe thead th {\n",
       "        text-align: right;\n",
       "    }\n",
       "</style>\n",
       "<table border=\"1\" class=\"dataframe\">\n",
       "  <thead>\n",
       "    <tr style=\"text-align: right;\">\n",
       "      <th></th>\n",
       "      <th>A</th>\n",
       "      <th>B</th>\n",
       "      <th>C</th>\n",
       "    </tr>\n",
       "  </thead>\n",
       "  <tbody>\n",
       "    <tr>\n",
       "      <th>a</th>\n",
       "      <td>-0.595104</td>\n",
       "      <td>-0.735907</td>\n",
       "      <td>2.045119</td>\n",
       "    </tr>\n",
       "    <tr>\n",
       "      <th>b</th>\n",
       "      <td>0.269366</td>\n",
       "      <td>1.692751</td>\n",
       "      <td>1.544135</td>\n",
       "    </tr>\n",
       "    <tr>\n",
       "      <th>c</th>\n",
       "      <td>1.956259</td>\n",
       "      <td>-1.152488</td>\n",
       "      <td>-1.047629</td>\n",
       "    </tr>\n",
       "    <tr>\n",
       "      <th>d</th>\n",
       "      <td>0.264113</td>\n",
       "      <td>-1.467085</td>\n",
       "      <td>-0.320092</td>\n",
       "    </tr>\n",
       "    <tr>\n",
       "      <th>e</th>\n",
       "      <td>-1.379760</td>\n",
       "      <td>-0.335331</td>\n",
       "      <td>-0.970484</td>\n",
       "    </tr>\n",
       "    <tr>\n",
       "      <th>f</th>\n",
       "      <td>-0.708503</td>\n",
       "      <td>0.993003</td>\n",
       "      <td>0.663502</td>\n",
       "    </tr>\n",
       "    <tr>\n",
       "      <th>g</th>\n",
       "      <td>0.064109</td>\n",
       "      <td>-0.740489</td>\n",
       "      <td>-0.740096</td>\n",
       "    </tr>\n",
       "    <tr>\n",
       "      <th>h</th>\n",
       "      <td>-1.480373</td>\n",
       "      <td>-0.840697</td>\n",
       "      <td>0.237957</td>\n",
       "    </tr>\n",
       "  </tbody>\n",
       "</table>\n",
       "</div>"
      ],
      "text/plain": [
       "          A         B         C\n",
       "a -0.595104 -0.735907  2.045119\n",
       "b  0.269366  1.692751  1.544135\n",
       "c  1.956259 -1.152488 -1.047629\n",
       "d  0.264113 -1.467085 -0.320092\n",
       "e -1.379760 -0.335331 -0.970484\n",
       "f -0.708503  0.993003  0.663502\n",
       "g  0.064109 -0.740489 -0.740096\n",
       "h -1.480373 -0.840697  0.237957"
      ]
     },
     "execution_count": 25,
     "metadata": {},
     "output_type": "execute_result"
    }
   ],
   "source": [
    "df.loc['a':'z']"
   ]
  },
  {
   "cell_type": "code",
   "execution_count": 26,
   "id": "4cbee22c",
   "metadata": {},
   "outputs": [
    {
     "name": "stdout",
     "output_type": "stream",
     "text": [
      "a     True\n",
      "b    False\n",
      "c    False\n",
      "d    False\n",
      "e     True\n",
      "f     True\n",
      "g    False\n",
      "h     True\n",
      "Name: A, dtype: bool\n"
     ]
    },
    {
     "data": {
      "text/html": [
       "<div>\n",
       "<style scoped>\n",
       "    .dataframe tbody tr th:only-of-type {\n",
       "        vertical-align: middle;\n",
       "    }\n",
       "\n",
       "    .dataframe tbody tr th {\n",
       "        vertical-align: top;\n",
       "    }\n",
       "\n",
       "    .dataframe thead th {\n",
       "        text-align: right;\n",
       "    }\n",
       "</style>\n",
       "<table border=\"1\" class=\"dataframe\">\n",
       "  <thead>\n",
       "    <tr style=\"text-align: right;\">\n",
       "      <th></th>\n",
       "      <th>A</th>\n",
       "      <th>B</th>\n",
       "      <th>C</th>\n",
       "    </tr>\n",
       "  </thead>\n",
       "  <tbody>\n",
       "    <tr>\n",
       "      <th>a</th>\n",
       "      <td>-0.595104</td>\n",
       "      <td>-0.735907</td>\n",
       "      <td>2.045119</td>\n",
       "    </tr>\n",
       "    <tr>\n",
       "      <th>e</th>\n",
       "      <td>-1.379760</td>\n",
       "      <td>-0.335331</td>\n",
       "      <td>-0.970484</td>\n",
       "    </tr>\n",
       "    <tr>\n",
       "      <th>f</th>\n",
       "      <td>-0.708503</td>\n",
       "      <td>0.993003</td>\n",
       "      <td>0.663502</td>\n",
       "    </tr>\n",
       "    <tr>\n",
       "      <th>h</th>\n",
       "      <td>-1.480373</td>\n",
       "      <td>-0.840697</td>\n",
       "      <td>0.237957</td>\n",
       "    </tr>\n",
       "  </tbody>\n",
       "</table>\n",
       "</div>"
      ],
      "text/plain": [
       "          A         B         C\n",
       "a -0.595104 -0.735907  2.045119\n",
       "e -1.379760 -0.335331 -0.970484\n",
       "f -0.708503  0.993003  0.663502\n",
       "h -1.480373 -0.840697  0.237957"
      ]
     },
     "execution_count": 26,
     "metadata": {},
     "output_type": "execute_result"
    }
   ],
   "source": [
    "# Selection by boolean array\n",
    "print(df.loc[:, 'A'] < 0)\n",
    "df.loc[df.loc[:, 'A'] < 0] # same with df.log[df.loc[:, 'A'] < 0, :]"
   ]
  },
  {
   "cell_type": "code",
   "execution_count": 27,
   "id": "9be0c89e",
   "metadata": {},
   "outputs": [
    {
     "name": "stdout",
     "output_type": "stream",
     "text": [
      "<BooleanArray>\n",
      "[True, False, True, False, True, False, True, <NA>]\n",
      "Length: 8, dtype: boolean\n"
     ]
    },
    {
     "data": {
      "text/html": [
       "<div>\n",
       "<style scoped>\n",
       "    .dataframe tbody tr th:only-of-type {\n",
       "        vertical-align: middle;\n",
       "    }\n",
       "\n",
       "    .dataframe tbody tr th {\n",
       "        vertical-align: top;\n",
       "    }\n",
       "\n",
       "    .dataframe thead th {\n",
       "        text-align: right;\n",
       "    }\n",
       "</style>\n",
       "<table border=\"1\" class=\"dataframe\">\n",
       "  <thead>\n",
       "    <tr style=\"text-align: right;\">\n",
       "      <th></th>\n",
       "      <th>A</th>\n",
       "      <th>B</th>\n",
       "      <th>C</th>\n",
       "    </tr>\n",
       "  </thead>\n",
       "  <tbody>\n",
       "    <tr>\n",
       "      <th>a</th>\n",
       "      <td>-0.595104</td>\n",
       "      <td>-0.735907</td>\n",
       "      <td>2.045119</td>\n",
       "    </tr>\n",
       "    <tr>\n",
       "      <th>c</th>\n",
       "      <td>1.956259</td>\n",
       "      <td>-1.152488</td>\n",
       "      <td>-1.047629</td>\n",
       "    </tr>\n",
       "    <tr>\n",
       "      <th>e</th>\n",
       "      <td>-1.379760</td>\n",
       "      <td>-0.335331</td>\n",
       "      <td>-0.970484</td>\n",
       "    </tr>\n",
       "    <tr>\n",
       "      <th>g</th>\n",
       "      <td>0.064109</td>\n",
       "      <td>-0.740489</td>\n",
       "      <td>-0.740096</td>\n",
       "    </tr>\n",
       "  </tbody>\n",
       "</table>\n",
       "</div>"
      ],
      "text/plain": [
       "          A         B         C\n",
       "a -0.595104 -0.735907  2.045119\n",
       "c  1.956259 -1.152488 -1.047629\n",
       "e -1.379760 -0.335331 -0.970484\n",
       "g  0.064109 -0.740489 -0.740096"
      ]
     },
     "execution_count": 27,
     "metadata": {},
     "output_type": "execute_result"
    }
   ],
   "source": [
    "mask = pd.array([True, False, True, False, True, False, True, pd.NA])\n",
    "print(mask)\n",
    "df.loc[pd.array(mask)]"
   ]
  },
  {
   "cell_type": "code",
   "execution_count": 28,
   "id": "094094f2",
   "metadata": {},
   "outputs": [
    {
     "data": {
      "text/html": [
       "<div>\n",
       "<style scoped>\n",
       "    .dataframe tbody tr th:only-of-type {\n",
       "        vertical-align: middle;\n",
       "    }\n",
       "\n",
       "    .dataframe tbody tr th {\n",
       "        vertical-align: top;\n",
       "    }\n",
       "\n",
       "    .dataframe thead th {\n",
       "        text-align: right;\n",
       "    }\n",
       "</style>\n",
       "<table border=\"1\" class=\"dataframe\">\n",
       "  <thead>\n",
       "    <tr style=\"text-align: right;\">\n",
       "      <th></th>\n",
       "      <th>A</th>\n",
       "      <th>B</th>\n",
       "      <th>C</th>\n",
       "    </tr>\n",
       "  </thead>\n",
       "  <tbody>\n",
       "    <tr>\n",
       "      <th>a</th>\n",
       "      <td>-0.595104</td>\n",
       "      <td>-0.735907</td>\n",
       "      <td>2.045119</td>\n",
       "    </tr>\n",
       "    <tr>\n",
       "      <th>e</th>\n",
       "      <td>-1.379760</td>\n",
       "      <td>-0.335331</td>\n",
       "      <td>-0.970484</td>\n",
       "    </tr>\n",
       "    <tr>\n",
       "      <th>f</th>\n",
       "      <td>-0.708503</td>\n",
       "      <td>0.993003</td>\n",
       "      <td>0.663502</td>\n",
       "    </tr>\n",
       "    <tr>\n",
       "      <th>h</th>\n",
       "      <td>-1.480373</td>\n",
       "      <td>-0.840697</td>\n",
       "      <td>0.237957</td>\n",
       "    </tr>\n",
       "  </tbody>\n",
       "</table>\n",
       "</div>"
      ],
      "text/plain": [
       "          A         B         C\n",
       "a -0.595104 -0.735907  2.045119\n",
       "e -1.379760 -0.335331 -0.970484\n",
       "f -0.708503  0.993003  0.663502\n",
       "h -1.480373 -0.840697  0.237957"
      ]
     },
     "execution_count": 28,
     "metadata": {},
     "output_type": "execute_result"
    }
   ],
   "source": [
    "# Selection by callable\n",
    "df.loc[lambda df: df['A'] < 0] # callable returns a boolean array"
   ]
  },
  {
   "cell_type": "code",
   "execution_count": 29,
   "id": "c9b94b54",
   "metadata": {},
   "outputs": [
    {
     "data": {
      "text/html": [
       "<div>\n",
       "<style scoped>\n",
       "    .dataframe tbody tr th:only-of-type {\n",
       "        vertical-align: middle;\n",
       "    }\n",
       "\n",
       "    .dataframe tbody tr th {\n",
       "        vertical-align: top;\n",
       "    }\n",
       "\n",
       "    .dataframe thead th {\n",
       "        text-align: right;\n",
       "    }\n",
       "</style>\n",
       "<table border=\"1\" class=\"dataframe\">\n",
       "  <thead>\n",
       "    <tr style=\"text-align: right;\">\n",
       "      <th></th>\n",
       "      <th>A</th>\n",
       "      <th>C</th>\n",
       "    </tr>\n",
       "  </thead>\n",
       "  <tbody>\n",
       "    <tr>\n",
       "      <th>a</th>\n",
       "      <td>-0.595104</td>\n",
       "      <td>2.045119</td>\n",
       "    </tr>\n",
       "    <tr>\n",
       "      <th>b</th>\n",
       "      <td>0.269366</td>\n",
       "      <td>1.544135</td>\n",
       "    </tr>\n",
       "    <tr>\n",
       "      <th>c</th>\n",
       "      <td>1.956259</td>\n",
       "      <td>-1.047629</td>\n",
       "    </tr>\n",
       "    <tr>\n",
       "      <th>d</th>\n",
       "      <td>0.264113</td>\n",
       "      <td>-0.320092</td>\n",
       "    </tr>\n",
       "    <tr>\n",
       "      <th>e</th>\n",
       "      <td>-1.379760</td>\n",
       "      <td>-0.970484</td>\n",
       "    </tr>\n",
       "    <tr>\n",
       "      <th>f</th>\n",
       "      <td>-0.708503</td>\n",
       "      <td>0.663502</td>\n",
       "    </tr>\n",
       "    <tr>\n",
       "      <th>g</th>\n",
       "      <td>0.064109</td>\n",
       "      <td>-0.740096</td>\n",
       "    </tr>\n",
       "    <tr>\n",
       "      <th>h</th>\n",
       "      <td>-1.480373</td>\n",
       "      <td>0.237957</td>\n",
       "    </tr>\n",
       "  </tbody>\n",
       "</table>\n",
       "</div>"
      ],
      "text/plain": [
       "          A         C\n",
       "a -0.595104  2.045119\n",
       "b  0.269366  1.544135\n",
       "c  1.956259 -1.047629\n",
       "d  0.264113 -0.320092\n",
       "e -1.379760 -0.970484\n",
       "f -0.708503  0.663502\n",
       "g  0.064109 -0.740096\n",
       "h -1.480373  0.237957"
      ]
     },
     "execution_count": 29,
     "metadata": {},
     "output_type": "execute_result"
    }
   ],
   "source": [
    "df.loc[:, lambda df: ['A', 'C']] # callable returns a list of labels"
   ]
  },
  {
   "cell_type": "code",
   "execution_count": 30,
   "id": "077dae1c",
   "metadata": {},
   "outputs": [
    {
     "data": {
      "text/html": [
       "<div>\n",
       "<style scoped>\n",
       "    .dataframe tbody tr th:only-of-type {\n",
       "        vertical-align: middle;\n",
       "    }\n",
       "\n",
       "    .dataframe tbody tr th {\n",
       "        vertical-align: top;\n",
       "    }\n",
       "\n",
       "    .dataframe thead th {\n",
       "        text-align: right;\n",
       "    }\n",
       "</style>\n",
       "<table border=\"1\" class=\"dataframe\">\n",
       "  <thead>\n",
       "    <tr style=\"text-align: right;\">\n",
       "      <th></th>\n",
       "      <th>A</th>\n",
       "      <th>B</th>\n",
       "      <th>C</th>\n",
       "    </tr>\n",
       "  </thead>\n",
       "  <tbody>\n",
       "    <tr>\n",
       "      <th>a</th>\n",
       "      <td>-0.595104</td>\n",
       "      <td>-0.735907</td>\n",
       "      <td>2.045119</td>\n",
       "    </tr>\n",
       "    <tr>\n",
       "      <th>b</th>\n",
       "      <td>0.269366</td>\n",
       "      <td>1.692751</td>\n",
       "      <td>1.544135</td>\n",
       "    </tr>\n",
       "    <tr>\n",
       "      <th>c</th>\n",
       "      <td>1.956259</td>\n",
       "      <td>-1.152488</td>\n",
       "      <td>-1.047629</td>\n",
       "    </tr>\n",
       "    <tr>\n",
       "      <th>d</th>\n",
       "      <td>0.264113</td>\n",
       "      <td>-1.467085</td>\n",
       "      <td>-0.320092</td>\n",
       "    </tr>\n",
       "    <tr>\n",
       "      <th>e</th>\n",
       "      <td>-1.379760</td>\n",
       "      <td>-0.335331</td>\n",
       "      <td>-0.970484</td>\n",
       "    </tr>\n",
       "  </tbody>\n",
       "</table>\n",
       "</div>"
      ],
      "text/plain": [
       "          A         B         C\n",
       "a -0.595104 -0.735907  2.045119\n",
       "b  0.269366  1.692751  1.544135\n",
       "c  1.956259 -1.152488 -1.047629\n",
       "d  0.264113 -1.467085 -0.320092\n",
       "e -1.379760 -0.335331 -0.970484"
      ]
     },
     "execution_count": 30,
     "metadata": {},
     "output_type": "execute_result"
    }
   ],
   "source": [
    "df.loc[lambda df:list('abcde'), :] # callable returns a list of labels"
   ]
  },
  {
   "cell_type": "code",
   "execution_count": 31,
   "id": "f0bd15c6",
   "metadata": {},
   "outputs": [
    {
     "data": {
      "text/plain": [
       "2.0451188326994862"
      ]
     },
     "execution_count": 31,
     "metadata": {},
     "output_type": "execute_result"
    }
   ],
   "source": [
    "# return an element\n",
    "df.loc['a']['C']"
   ]
  },
  {
   "cell_type": "markdown",
   "id": "cfd95e07",
   "metadata": {},
   "source": [
    "## 2.3 .iloc "
   ]
  },
  {
   "cell_type": "markdown",
   "id": "e5018c4b",
   "metadata": {},
   "source": [
    "**Integer position based** (from 0 to length-1 of the axis), but may also be used with a boolean array. ***.iloc*** will raise IndexError if a requested indexer is out-of-bounds, except slice indexers which allow out-of-bounds indexing (this conforms with Python/NumPy slice semantics). Allowed inputs are (similar to ***.loc***):  \n",
    "- An integer e.g. 5.\n",
    "- A list or array of integers [4, 3, 0]\n",
    "- A slice object with ints 1:7.\n",
    "- A boolean array (any NA values will be treated as False).\n",
    "- A callable function with one argument (the calling Series or DataFrame) and that returns valid output for indexing (one of the above).\n",
    "- For multi-axes selection, axes left out of the specification are assumed to be :, e.g. p.loc['a'] is equivalent to p.loc['a', :]."
   ]
  },
  {
   "cell_type": "code",
   "execution_count": 32,
   "id": "be12c528",
   "metadata": {},
   "outputs": [
    {
     "data": {
      "text/html": [
       "<div>\n",
       "<style scoped>\n",
       "    .dataframe tbody tr th:only-of-type {\n",
       "        vertical-align: middle;\n",
       "    }\n",
       "\n",
       "    .dataframe tbody tr th {\n",
       "        vertical-align: top;\n",
       "    }\n",
       "\n",
       "    .dataframe thead th {\n",
       "        text-align: right;\n",
       "    }\n",
       "</style>\n",
       "<table border=\"1\" class=\"dataframe\">\n",
       "  <thead>\n",
       "    <tr style=\"text-align: right;\">\n",
       "      <th></th>\n",
       "      <th>A</th>\n",
       "      <th>B</th>\n",
       "      <th>C</th>\n",
       "    </tr>\n",
       "  </thead>\n",
       "  <tbody>\n",
       "    <tr>\n",
       "      <th>a</th>\n",
       "      <td>-0.595104</td>\n",
       "      <td>-0.735907</td>\n",
       "      <td>2.045119</td>\n",
       "    </tr>\n",
       "    <tr>\n",
       "      <th>b</th>\n",
       "      <td>0.269366</td>\n",
       "      <td>1.692751</td>\n",
       "      <td>1.544135</td>\n",
       "    </tr>\n",
       "    <tr>\n",
       "      <th>c</th>\n",
       "      <td>1.956259</td>\n",
       "      <td>-1.152488</td>\n",
       "      <td>-1.047629</td>\n",
       "    </tr>\n",
       "    <tr>\n",
       "      <th>d</th>\n",
       "      <td>0.264113</td>\n",
       "      <td>-1.467085</td>\n",
       "      <td>-0.320092</td>\n",
       "    </tr>\n",
       "    <tr>\n",
       "      <th>e</th>\n",
       "      <td>-1.379760</td>\n",
       "      <td>-0.335331</td>\n",
       "      <td>-0.970484</td>\n",
       "    </tr>\n",
       "    <tr>\n",
       "      <th>f</th>\n",
       "      <td>-0.708503</td>\n",
       "      <td>0.993003</td>\n",
       "      <td>0.663502</td>\n",
       "    </tr>\n",
       "    <tr>\n",
       "      <th>g</th>\n",
       "      <td>0.064109</td>\n",
       "      <td>-0.740489</td>\n",
       "      <td>-0.740096</td>\n",
       "    </tr>\n",
       "    <tr>\n",
       "      <th>h</th>\n",
       "      <td>-1.480373</td>\n",
       "      <td>-0.840697</td>\n",
       "      <td>0.237957</td>\n",
       "    </tr>\n",
       "  </tbody>\n",
       "</table>\n",
       "</div>"
      ],
      "text/plain": [
       "          A         B         C\n",
       "a -0.595104 -0.735907  2.045119\n",
       "b  0.269366  1.692751  1.544135\n",
       "c  1.956259 -1.152488 -1.047629\n",
       "d  0.264113 -1.467085 -0.320092\n",
       "e -1.379760 -0.335331 -0.970484\n",
       "f -0.708503  0.993003  0.663502\n",
       "g  0.064109 -0.740489 -0.740096\n",
       "h -1.480373 -0.840697  0.237957"
      ]
     },
     "execution_count": 32,
     "metadata": {},
     "output_type": "execute_result"
    }
   ],
   "source": [
    "df"
   ]
  },
  {
   "cell_type": "code",
   "execution_count": 33,
   "id": "b963fb77",
   "metadata": {},
   "outputs": [
    {
     "data": {
      "text/plain": [
       "A    1.956259\n",
       "B   -1.152488\n",
       "C   -1.047629\n",
       "Name: c, dtype: float64"
      ]
     },
     "execution_count": 33,
     "metadata": {},
     "output_type": "execute_result"
    }
   ],
   "source": [
    "df.iloc[2]"
   ]
  },
  {
   "cell_type": "code",
   "execution_count": 34,
   "id": "c0675193",
   "metadata": {},
   "outputs": [
    {
     "data": {
      "text/html": [
       "<div>\n",
       "<style scoped>\n",
       "    .dataframe tbody tr th:only-of-type {\n",
       "        vertical-align: middle;\n",
       "    }\n",
       "\n",
       "    .dataframe tbody tr th {\n",
       "        vertical-align: top;\n",
       "    }\n",
       "\n",
       "    .dataframe thead th {\n",
       "        text-align: right;\n",
       "    }\n",
       "</style>\n",
       "<table border=\"1\" class=\"dataframe\">\n",
       "  <thead>\n",
       "    <tr style=\"text-align: right;\">\n",
       "      <th></th>\n",
       "      <th>A</th>\n",
       "      <th>B</th>\n",
       "      <th>C</th>\n",
       "    </tr>\n",
       "  </thead>\n",
       "  <tbody>\n",
       "    <tr>\n",
       "      <th>f</th>\n",
       "      <td>-0.708503</td>\n",
       "      <td>0.993003</td>\n",
       "      <td>0.663502</td>\n",
       "    </tr>\n",
       "    <tr>\n",
       "      <th>d</th>\n",
       "      <td>0.264113</td>\n",
       "      <td>-1.467085</td>\n",
       "      <td>-0.320092</td>\n",
       "    </tr>\n",
       "    <tr>\n",
       "      <th>b</th>\n",
       "      <td>0.269366</td>\n",
       "      <td>1.692751</td>\n",
       "      <td>1.544135</td>\n",
       "    </tr>\n",
       "  </tbody>\n",
       "</table>\n",
       "</div>"
      ],
      "text/plain": [
       "          A         B         C\n",
       "f -0.708503  0.993003  0.663502\n",
       "d  0.264113 -1.467085 -0.320092\n",
       "b  0.269366  1.692751  1.544135"
      ]
     },
     "execution_count": 34,
     "metadata": {},
     "output_type": "execute_result"
    }
   ],
   "source": [
    "df.iloc[[5, 3, 1]]"
   ]
  },
  {
   "cell_type": "code",
   "execution_count": 35,
   "id": "998d1f8e",
   "metadata": {},
   "outputs": [
    {
     "data": {
      "text/html": [
       "<div>\n",
       "<style scoped>\n",
       "    .dataframe tbody tr th:only-of-type {\n",
       "        vertical-align: middle;\n",
       "    }\n",
       "\n",
       "    .dataframe tbody tr th {\n",
       "        vertical-align: top;\n",
       "    }\n",
       "\n",
       "    .dataframe thead th {\n",
       "        text-align: right;\n",
       "    }\n",
       "</style>\n",
       "<table border=\"1\" class=\"dataframe\">\n",
       "  <thead>\n",
       "    <tr style=\"text-align: right;\">\n",
       "      <th></th>\n",
       "      <th>B</th>\n",
       "      <th>C</th>\n",
       "    </tr>\n",
       "  </thead>\n",
       "  <tbody>\n",
       "    <tr>\n",
       "      <th>d</th>\n",
       "      <td>-1.467085</td>\n",
       "      <td>-0.320092</td>\n",
       "    </tr>\n",
       "    <tr>\n",
       "      <th>e</th>\n",
       "      <td>-0.335331</td>\n",
       "      <td>-0.970484</td>\n",
       "    </tr>\n",
       "  </tbody>\n",
       "</table>\n",
       "</div>"
      ],
      "text/plain": [
       "          B         C\n",
       "d -1.467085 -0.320092\n",
       "e -0.335331 -0.970484"
      ]
     },
     "execution_count": 35,
     "metadata": {},
     "output_type": "execute_result"
    }
   ],
   "source": [
    "df.iloc[3:5, 1:]"
   ]
  },
  {
   "cell_type": "code",
   "execution_count": 36,
   "id": "741480d6",
   "metadata": {},
   "outputs": [
    {
     "data": {
      "text/html": [
       "<div>\n",
       "<style scoped>\n",
       "    .dataframe tbody tr th:only-of-type {\n",
       "        vertical-align: middle;\n",
       "    }\n",
       "\n",
       "    .dataframe tbody tr th {\n",
       "        vertical-align: top;\n",
       "    }\n",
       "\n",
       "    .dataframe thead th {\n",
       "        text-align: right;\n",
       "    }\n",
       "</style>\n",
       "<table border=\"1\" class=\"dataframe\">\n",
       "  <thead>\n",
       "    <tr style=\"text-align: right;\">\n",
       "      <th></th>\n",
       "      <th>A</th>\n",
       "      <th>C</th>\n",
       "    </tr>\n",
       "  </thead>\n",
       "  <tbody>\n",
       "    <tr>\n",
       "      <th>a</th>\n",
       "      <td>-0.595104</td>\n",
       "      <td>2.045119</td>\n",
       "    </tr>\n",
       "    <tr>\n",
       "      <th>b</th>\n",
       "      <td>0.269366</td>\n",
       "      <td>1.544135</td>\n",
       "    </tr>\n",
       "    <tr>\n",
       "      <th>c</th>\n",
       "      <td>1.956259</td>\n",
       "      <td>-1.047629</td>\n",
       "    </tr>\n",
       "    <tr>\n",
       "      <th>d</th>\n",
       "      <td>0.264113</td>\n",
       "      <td>-0.320092</td>\n",
       "    </tr>\n",
       "    <tr>\n",
       "      <th>e</th>\n",
       "      <td>-1.379760</td>\n",
       "      <td>-0.970484</td>\n",
       "    </tr>\n",
       "    <tr>\n",
       "      <th>f</th>\n",
       "      <td>-0.708503</td>\n",
       "      <td>0.663502</td>\n",
       "    </tr>\n",
       "    <tr>\n",
       "      <th>g</th>\n",
       "      <td>0.064109</td>\n",
       "      <td>-0.740096</td>\n",
       "    </tr>\n",
       "    <tr>\n",
       "      <th>h</th>\n",
       "      <td>-1.480373</td>\n",
       "      <td>0.237957</td>\n",
       "    </tr>\n",
       "  </tbody>\n",
       "</table>\n",
       "</div>"
      ],
      "text/plain": [
       "          A         C\n",
       "a -0.595104  2.045119\n",
       "b  0.269366  1.544135\n",
       "c  1.956259 -1.047629\n",
       "d  0.264113 -0.320092\n",
       "e -1.379760 -0.970484\n",
       "f -0.708503  0.663502\n",
       "g  0.064109 -0.740096\n",
       "h -1.480373  0.237957"
      ]
     },
     "execution_count": 36,
     "metadata": {},
     "output_type": "execute_result"
    }
   ],
   "source": [
    "df.iloc[:, [True, False, True]]"
   ]
  },
  {
   "cell_type": "code",
   "execution_count": 37,
   "id": "f6c10d91",
   "metadata": {},
   "outputs": [
    {
     "name": "stdout",
     "output_type": "stream",
     "text": [
      "a    False\n",
      "b     True\n",
      "c    False\n",
      "d    False\n",
      "e    False\n",
      "f     True\n",
      "g    False\n",
      "h    False\n",
      "Name: B, dtype: bool\n",
      "<BooleanArray>\n",
      "[True, False, True, False, True, False, <NA>, <NA>]\n",
      "Length: 8, dtype: boolean\n"
     ]
    },
    {
     "data": {
      "text/html": [
       "<div>\n",
       "<style scoped>\n",
       "    .dataframe tbody tr th:only-of-type {\n",
       "        vertical-align: middle;\n",
       "    }\n",
       "\n",
       "    .dataframe tbody tr th {\n",
       "        vertical-align: top;\n",
       "    }\n",
       "\n",
       "    .dataframe thead th {\n",
       "        text-align: right;\n",
       "    }\n",
       "</style>\n",
       "<table border=\"1\" class=\"dataframe\">\n",
       "  <thead>\n",
       "    <tr style=\"text-align: right;\">\n",
       "      <th></th>\n",
       "      <th>A</th>\n",
       "      <th>B</th>\n",
       "      <th>C</th>\n",
       "    </tr>\n",
       "  </thead>\n",
       "  <tbody>\n",
       "    <tr>\n",
       "      <th>a</th>\n",
       "      <td>-0.595104</td>\n",
       "      <td>-0.735907</td>\n",
       "      <td>2.045119</td>\n",
       "    </tr>\n",
       "    <tr>\n",
       "      <th>c</th>\n",
       "      <td>1.956259</td>\n",
       "      <td>-1.152488</td>\n",
       "      <td>-1.047629</td>\n",
       "    </tr>\n",
       "    <tr>\n",
       "      <th>e</th>\n",
       "      <td>-1.379760</td>\n",
       "      <td>-0.335331</td>\n",
       "      <td>-0.970484</td>\n",
       "    </tr>\n",
       "  </tbody>\n",
       "</table>\n",
       "</div>"
      ],
      "text/plain": [
       "          A         B         C\n",
       "a -0.595104 -0.735907  2.045119\n",
       "c  1.956259 -1.152488 -1.047629\n",
       "e -1.379760 -0.335331 -0.970484"
      ]
     },
     "execution_count": 37,
     "metadata": {},
     "output_type": "execute_result"
    }
   ],
   "source": [
    "print(df.B > 0)\n",
    "# df.iloc[df.B > 0] #ValueError: iLocation based boolean indexing cannot use an indexable as a mask\n",
    "mask = pd.array([True, False, True, False, True, False, pd.NA, pd.NA])\n",
    "print(mask)\n",
    "df.iloc[mask]"
   ]
  },
  {
   "cell_type": "code",
   "execution_count": 38,
   "id": "0b18c2cd",
   "metadata": {},
   "outputs": [
    {
     "data": {
      "text/html": [
       "<div>\n",
       "<style scoped>\n",
       "    .dataframe tbody tr th:only-of-type {\n",
       "        vertical-align: middle;\n",
       "    }\n",
       "\n",
       "    .dataframe tbody tr th {\n",
       "        vertical-align: top;\n",
       "    }\n",
       "\n",
       "    .dataframe thead th {\n",
       "        text-align: right;\n",
       "    }\n",
       "</style>\n",
       "<table border=\"1\" class=\"dataframe\">\n",
       "  <thead>\n",
       "    <tr style=\"text-align: right;\">\n",
       "      <th></th>\n",
       "      <th>A</th>\n",
       "      <th>B</th>\n",
       "      <th>C</th>\n",
       "    </tr>\n",
       "  </thead>\n",
       "  <tbody>\n",
       "    <tr>\n",
       "      <th>e</th>\n",
       "      <td>-1.379760</td>\n",
       "      <td>-0.335331</td>\n",
       "      <td>-0.970484</td>\n",
       "    </tr>\n",
       "    <tr>\n",
       "      <th>f</th>\n",
       "      <td>-0.708503</td>\n",
       "      <td>0.993003</td>\n",
       "      <td>0.663502</td>\n",
       "    </tr>\n",
       "    <tr>\n",
       "      <th>g</th>\n",
       "      <td>0.064109</td>\n",
       "      <td>-0.740489</td>\n",
       "      <td>-0.740096</td>\n",
       "    </tr>\n",
       "  </tbody>\n",
       "</table>\n",
       "</div>"
      ],
      "text/plain": [
       "          A         B         C\n",
       "e -1.379760 -0.335331 -0.970484\n",
       "f -0.708503  0.993003  0.663502\n",
       "g  0.064109 -0.740489 -0.740096"
      ]
     },
     "execution_count": 38,
     "metadata": {},
     "output_type": "execute_result"
    }
   ],
   "source": [
    "# Selection by callable\n",
    "df.iloc[lambda df: [4, 5, 6]]"
   ]
  },
  {
   "cell_type": "code",
   "execution_count": 39,
   "id": "5219d0dc",
   "metadata": {},
   "outputs": [
    {
     "data": {
      "text/html": [
       "<div>\n",
       "<style scoped>\n",
       "    .dataframe tbody tr th:only-of-type {\n",
       "        vertical-align: middle;\n",
       "    }\n",
       "\n",
       "    .dataframe tbody tr th {\n",
       "        vertical-align: top;\n",
       "    }\n",
       "\n",
       "    .dataframe thead th {\n",
       "        text-align: right;\n",
       "    }\n",
       "</style>\n",
       "<table border=\"1\" class=\"dataframe\">\n",
       "  <thead>\n",
       "    <tr style=\"text-align: right;\">\n",
       "      <th></th>\n",
       "      <th>C</th>\n",
       "      <th>B</th>\n",
       "    </tr>\n",
       "  </thead>\n",
       "  <tbody>\n",
       "    <tr>\n",
       "      <th>e</th>\n",
       "      <td>-0.970484</td>\n",
       "      <td>-0.335331</td>\n",
       "    </tr>\n",
       "    <tr>\n",
       "      <th>f</th>\n",
       "      <td>0.663502</td>\n",
       "      <td>0.993003</td>\n",
       "    </tr>\n",
       "    <tr>\n",
       "      <th>g</th>\n",
       "      <td>-0.740096</td>\n",
       "      <td>-0.740489</td>\n",
       "    </tr>\n",
       "  </tbody>\n",
       "</table>\n",
       "</div>"
      ],
      "text/plain": [
       "          C         B\n",
       "e -0.970484 -0.335331\n",
       "f  0.663502  0.993003\n",
       "g -0.740096 -0.740489"
      ]
     },
     "execution_count": 39,
     "metadata": {},
     "output_type": "execute_result"
    }
   ],
   "source": [
    "df.iloc[lambda df: [4, 5, 6], lambda df: [2, 1]]"
   ]
  },
  {
   "cell_type": "markdown",
   "id": "4f22fa41",
   "metadata": {},
   "source": [
    "## 2.4 Selecting random samples "
   ]
  },
  {
   "cell_type": "markdown",
   "id": "f640e658",
   "metadata": {},
   "source": [
    "Use ***sample()*** method to select random rows or columns from a Series or DataFrame. \n",
    "  \n",
    "***DataFrame.sample(n=1, frac=None, replace=False, weights=None, random_state=None, axis=None, ignore_index=False)***    \n",
    "**Parameters:**\n",
    "- **n**: int, optional. Number of items from axis to return. Default = 1.\n",
    "- **frac**: float, optional. Fraction of axis items to return.\n",
    "- **replace**: bool, default False. With or without replacement. Allow or disallow sampling of the same row more than once.\n",
    "- **weights**: str or ndarray-like, optional. Default 'None' results in equal probability weighting. If called on DataFrame and axis=0, can accept the name of a column as the weights array. Otherwise, accept ndarray-like. If passed a Series as weights, will align with target object on index. Index values in weights not found in sampled object will be ignored and index values in sampled object not in weights will be assigned weights of zero. Unless weights are a Series, weights must be same length as axis being sampled. If weights do not sum to 1, they will be normalized to sum to 1. \n",
    "- **random_state**: int (as a seed) or a Numpy RandomState object. Random number generator.\n",
    "- **axis**: 0 or 'index', 1 or 'columns'. Axis to sample. Default is index for DataFrame."
   ]
  },
  {
   "cell_type": "code",
   "execution_count": 40,
   "id": "9f7f199a",
   "metadata": {},
   "outputs": [
    {
     "data": {
      "text/html": [
       "<div>\n",
       "<style scoped>\n",
       "    .dataframe tbody tr th:only-of-type {\n",
       "        vertical-align: middle;\n",
       "    }\n",
       "\n",
       "    .dataframe tbody tr th {\n",
       "        vertical-align: top;\n",
       "    }\n",
       "\n",
       "    .dataframe thead th {\n",
       "        text-align: right;\n",
       "    }\n",
       "</style>\n",
       "<table border=\"1\" class=\"dataframe\">\n",
       "  <thead>\n",
       "    <tr style=\"text-align: right;\">\n",
       "      <th></th>\n",
       "      <th>A</th>\n",
       "      <th>B</th>\n",
       "      <th>C</th>\n",
       "    </tr>\n",
       "  </thead>\n",
       "  <tbody>\n",
       "    <tr>\n",
       "      <th>a</th>\n",
       "      <td>-0.595104</td>\n",
       "      <td>-0.735907</td>\n",
       "      <td>2.045119</td>\n",
       "    </tr>\n",
       "    <tr>\n",
       "      <th>b</th>\n",
       "      <td>0.269366</td>\n",
       "      <td>1.692751</td>\n",
       "      <td>1.544135</td>\n",
       "    </tr>\n",
       "    <tr>\n",
       "      <th>c</th>\n",
       "      <td>1.956259</td>\n",
       "      <td>-1.152488</td>\n",
       "      <td>-1.047629</td>\n",
       "    </tr>\n",
       "    <tr>\n",
       "      <th>d</th>\n",
       "      <td>0.264113</td>\n",
       "      <td>-1.467085</td>\n",
       "      <td>-0.320092</td>\n",
       "    </tr>\n",
       "    <tr>\n",
       "      <th>e</th>\n",
       "      <td>-1.379760</td>\n",
       "      <td>-0.335331</td>\n",
       "      <td>-0.970484</td>\n",
       "    </tr>\n",
       "    <tr>\n",
       "      <th>f</th>\n",
       "      <td>-0.708503</td>\n",
       "      <td>0.993003</td>\n",
       "      <td>0.663502</td>\n",
       "    </tr>\n",
       "    <tr>\n",
       "      <th>g</th>\n",
       "      <td>0.064109</td>\n",
       "      <td>-0.740489</td>\n",
       "      <td>-0.740096</td>\n",
       "    </tr>\n",
       "    <tr>\n",
       "      <th>h</th>\n",
       "      <td>-1.480373</td>\n",
       "      <td>-0.840697</td>\n",
       "      <td>0.237957</td>\n",
       "    </tr>\n",
       "  </tbody>\n",
       "</table>\n",
       "</div>"
      ],
      "text/plain": [
       "          A         B         C\n",
       "a -0.595104 -0.735907  2.045119\n",
       "b  0.269366  1.692751  1.544135\n",
       "c  1.956259 -1.152488 -1.047629\n",
       "d  0.264113 -1.467085 -0.320092\n",
       "e -1.379760 -0.335331 -0.970484\n",
       "f -0.708503  0.993003  0.663502\n",
       "g  0.064109 -0.740489 -0.740096\n",
       "h -1.480373 -0.840697  0.237957"
      ]
     },
     "execution_count": 40,
     "metadata": {},
     "output_type": "execute_result"
    }
   ],
   "source": [
    "df"
   ]
  },
  {
   "cell_type": "code",
   "execution_count": 41,
   "id": "334d8f20",
   "metadata": {},
   "outputs": [
    {
     "data": {
      "text/html": [
       "<div>\n",
       "<style scoped>\n",
       "    .dataframe tbody tr th:only-of-type {\n",
       "        vertical-align: middle;\n",
       "    }\n",
       "\n",
       "    .dataframe tbody tr th {\n",
       "        vertical-align: top;\n",
       "    }\n",
       "\n",
       "    .dataframe thead th {\n",
       "        text-align: right;\n",
       "    }\n",
       "</style>\n",
       "<table border=\"1\" class=\"dataframe\">\n",
       "  <thead>\n",
       "    <tr style=\"text-align: right;\">\n",
       "      <th></th>\n",
       "      <th>A</th>\n",
       "      <th>B</th>\n",
       "      <th>C</th>\n",
       "    </tr>\n",
       "  </thead>\n",
       "  <tbody>\n",
       "    <tr>\n",
       "      <th>f</th>\n",
       "      <td>-0.708503</td>\n",
       "      <td>0.993003</td>\n",
       "      <td>0.663502</td>\n",
       "    </tr>\n",
       "  </tbody>\n",
       "</table>\n",
       "</div>"
      ],
      "text/plain": [
       "          A         B         C\n",
       "f -0.708503  0.993003  0.663502"
      ]
     },
     "execution_count": 41,
     "metadata": {},
     "output_type": "execute_result"
    }
   ],
   "source": [
    "df.sample()"
   ]
  },
  {
   "cell_type": "code",
   "execution_count": 42,
   "id": "5d5667de",
   "metadata": {},
   "outputs": [
    {
     "data": {
      "text/html": [
       "<div>\n",
       "<style scoped>\n",
       "    .dataframe tbody tr th:only-of-type {\n",
       "        vertical-align: middle;\n",
       "    }\n",
       "\n",
       "    .dataframe tbody tr th {\n",
       "        vertical-align: top;\n",
       "    }\n",
       "\n",
       "    .dataframe thead th {\n",
       "        text-align: right;\n",
       "    }\n",
       "</style>\n",
       "<table border=\"1\" class=\"dataframe\">\n",
       "  <thead>\n",
       "    <tr style=\"text-align: right;\">\n",
       "      <th></th>\n",
       "      <th>A</th>\n",
       "      <th>B</th>\n",
       "      <th>C</th>\n",
       "    </tr>\n",
       "  </thead>\n",
       "  <tbody>\n",
       "    <tr>\n",
       "      <th>e</th>\n",
       "      <td>-1.379760</td>\n",
       "      <td>-0.335331</td>\n",
       "      <td>-0.970484</td>\n",
       "    </tr>\n",
       "    <tr>\n",
       "      <th>h</th>\n",
       "      <td>-1.480373</td>\n",
       "      <td>-0.840697</td>\n",
       "      <td>0.237957</td>\n",
       "    </tr>\n",
       "    <tr>\n",
       "      <th>d</th>\n",
       "      <td>0.264113</td>\n",
       "      <td>-1.467085</td>\n",
       "      <td>-0.320092</td>\n",
       "    </tr>\n",
       "  </tbody>\n",
       "</table>\n",
       "</div>"
      ],
      "text/plain": [
       "          A         B         C\n",
       "e -1.379760 -0.335331 -0.970484\n",
       "h -1.480373 -0.840697  0.237957\n",
       "d  0.264113 -1.467085 -0.320092"
      ]
     },
     "execution_count": 42,
     "metadata": {},
     "output_type": "execute_result"
    }
   ],
   "source": [
    "df.sample(3, random_state=4)"
   ]
  },
  {
   "cell_type": "code",
   "execution_count": 43,
   "id": "f5bfa9b5",
   "metadata": {},
   "outputs": [
    {
     "data": {
      "text/html": [
       "<div>\n",
       "<style scoped>\n",
       "    .dataframe tbody tr th:only-of-type {\n",
       "        vertical-align: middle;\n",
       "    }\n",
       "\n",
       "    .dataframe tbody tr th {\n",
       "        vertical-align: top;\n",
       "    }\n",
       "\n",
       "    .dataframe thead th {\n",
       "        text-align: right;\n",
       "    }\n",
       "</style>\n",
       "<table border=\"1\" class=\"dataframe\">\n",
       "  <thead>\n",
       "    <tr style=\"text-align: right;\">\n",
       "      <th></th>\n",
       "      <th>A</th>\n",
       "      <th>B</th>\n",
       "      <th>C</th>\n",
       "    </tr>\n",
       "  </thead>\n",
       "  <tbody>\n",
       "    <tr>\n",
       "      <th>e</th>\n",
       "      <td>-1.379760</td>\n",
       "      <td>-0.335331</td>\n",
       "      <td>-0.970484</td>\n",
       "    </tr>\n",
       "    <tr>\n",
       "      <th>h</th>\n",
       "      <td>-1.480373</td>\n",
       "      <td>-0.840697</td>\n",
       "      <td>0.237957</td>\n",
       "    </tr>\n",
       "    <tr>\n",
       "      <th>d</th>\n",
       "      <td>0.264113</td>\n",
       "      <td>-1.467085</td>\n",
       "      <td>-0.320092</td>\n",
       "    </tr>\n",
       "  </tbody>\n",
       "</table>\n",
       "</div>"
      ],
      "text/plain": [
       "          A         B         C\n",
       "e -1.379760 -0.335331 -0.970484\n",
       "h -1.480373 -0.840697  0.237957\n",
       "d  0.264113 -1.467085 -0.320092"
      ]
     },
     "execution_count": 43,
     "metadata": {},
     "output_type": "execute_result"
    }
   ],
   "source": [
    "df.sample(3, random_state=4)"
   ]
  },
  {
   "cell_type": "code",
   "execution_count": 44,
   "id": "acc8bb11",
   "metadata": {},
   "outputs": [
    {
     "data": {
      "text/html": [
       "<div>\n",
       "<style scoped>\n",
       "    .dataframe tbody tr th:only-of-type {\n",
       "        vertical-align: middle;\n",
       "    }\n",
       "\n",
       "    .dataframe tbody tr th {\n",
       "        vertical-align: top;\n",
       "    }\n",
       "\n",
       "    .dataframe thead th {\n",
       "        text-align: right;\n",
       "    }\n",
       "</style>\n",
       "<table border=\"1\" class=\"dataframe\">\n",
       "  <thead>\n",
       "    <tr style=\"text-align: right;\">\n",
       "      <th></th>\n",
       "      <th>A</th>\n",
       "      <th>B</th>\n",
       "      <th>C</th>\n",
       "    </tr>\n",
       "  </thead>\n",
       "  <tbody>\n",
       "    <tr>\n",
       "      <th>c</th>\n",
       "      <td>1.956259</td>\n",
       "      <td>-1.152488</td>\n",
       "      <td>-1.047629</td>\n",
       "    </tr>\n",
       "    <tr>\n",
       "      <th>h</th>\n",
       "      <td>-1.480373</td>\n",
       "      <td>-0.840697</td>\n",
       "      <td>0.237957</td>\n",
       "    </tr>\n",
       "    <tr>\n",
       "      <th>d</th>\n",
       "      <td>0.264113</td>\n",
       "      <td>-1.467085</td>\n",
       "      <td>-0.320092</td>\n",
       "    </tr>\n",
       "    <tr>\n",
       "      <th>e</th>\n",
       "      <td>-1.379760</td>\n",
       "      <td>-0.335331</td>\n",
       "      <td>-0.970484</td>\n",
       "    </tr>\n",
       "  </tbody>\n",
       "</table>\n",
       "</div>"
      ],
      "text/plain": [
       "          A         B         C\n",
       "c  1.956259 -1.152488 -1.047629\n",
       "h -1.480373 -0.840697  0.237957\n",
       "d  0.264113 -1.467085 -0.320092\n",
       "e -1.379760 -0.335331 -0.970484"
      ]
     },
     "execution_count": 44,
     "metadata": {},
     "output_type": "execute_result"
    }
   ],
   "source": [
    "df.sample(frac=0.5)"
   ]
  },
  {
   "cell_type": "code",
   "execution_count": 45,
   "id": "766342f1",
   "metadata": {},
   "outputs": [
    {
     "data": {
      "text/html": [
       "<div>\n",
       "<style scoped>\n",
       "    .dataframe tbody tr th:only-of-type {\n",
       "        vertical-align: middle;\n",
       "    }\n",
       "\n",
       "    .dataframe tbody tr th {\n",
       "        vertical-align: top;\n",
       "    }\n",
       "\n",
       "    .dataframe thead th {\n",
       "        text-align: right;\n",
       "    }\n",
       "</style>\n",
       "<table border=\"1\" class=\"dataframe\">\n",
       "  <thead>\n",
       "    <tr style=\"text-align: right;\">\n",
       "      <th></th>\n",
       "      <th>A</th>\n",
       "      <th>A</th>\n",
       "      <th>A</th>\n",
       "    </tr>\n",
       "  </thead>\n",
       "  <tbody>\n",
       "    <tr>\n",
       "      <th>a</th>\n",
       "      <td>-0.595104</td>\n",
       "      <td>-0.595104</td>\n",
       "      <td>-0.595104</td>\n",
       "    </tr>\n",
       "    <tr>\n",
       "      <th>b</th>\n",
       "      <td>0.269366</td>\n",
       "      <td>0.269366</td>\n",
       "      <td>0.269366</td>\n",
       "    </tr>\n",
       "    <tr>\n",
       "      <th>c</th>\n",
       "      <td>1.956259</td>\n",
       "      <td>1.956259</td>\n",
       "      <td>1.956259</td>\n",
       "    </tr>\n",
       "    <tr>\n",
       "      <th>d</th>\n",
       "      <td>0.264113</td>\n",
       "      <td>0.264113</td>\n",
       "      <td>0.264113</td>\n",
       "    </tr>\n",
       "    <tr>\n",
       "      <th>e</th>\n",
       "      <td>-1.379760</td>\n",
       "      <td>-1.379760</td>\n",
       "      <td>-1.379760</td>\n",
       "    </tr>\n",
       "    <tr>\n",
       "      <th>f</th>\n",
       "      <td>-0.708503</td>\n",
       "      <td>-0.708503</td>\n",
       "      <td>-0.708503</td>\n",
       "    </tr>\n",
       "    <tr>\n",
       "      <th>g</th>\n",
       "      <td>0.064109</td>\n",
       "      <td>0.064109</td>\n",
       "      <td>0.064109</td>\n",
       "    </tr>\n",
       "    <tr>\n",
       "      <th>h</th>\n",
       "      <td>-1.480373</td>\n",
       "      <td>-1.480373</td>\n",
       "      <td>-1.480373</td>\n",
       "    </tr>\n",
       "  </tbody>\n",
       "</table>\n",
       "</div>"
      ],
      "text/plain": [
       "          A         A         A\n",
       "a -0.595104 -0.595104 -0.595104\n",
       "b  0.269366  0.269366  0.269366\n",
       "c  1.956259  1.956259  1.956259\n",
       "d  0.264113  0.264113  0.264113\n",
       "e -1.379760 -1.379760 -1.379760\n",
       "f -0.708503 -0.708503 -0.708503\n",
       "g  0.064109  0.064109  0.064109\n",
       "h -1.480373 -1.480373 -1.480373"
      ]
     },
     "execution_count": 45,
     "metadata": {},
     "output_type": "execute_result"
    }
   ],
   "source": [
    "df.sample(n=3, axis=1, replace=True, weights=[1,0,0])"
   ]
  },
  {
   "cell_type": "markdown",
   "id": "a3021cc1",
   "metadata": {},
   "source": [
    "# 3. Merge, join, concatenate"
   ]
  },
  {
   "cell_type": "markdown",
   "id": "be0780d6",
   "metadata": {},
   "source": [
    "We use ***pandas.concat*** to concatenate pandas objects along a paticular axis and allow optional set logic along the other axes. Can also add a layer of hierarchical indexing on the concatenation axis, which may be useful if the labels are the same (or overlapping) on the passed axis number.  \n",
    "***pandas.concat(objs, *, axis=0, join='outer', ignore_index=False, keys=None, levels=None, names=None, verify_integrity=False, sort=False, copy=None)***  \n",
    "**Parameters:**\n",
    "- **objs**: a sequence or mapping of Series or DataFrame objects.\n",
    "- **axis**: {0/'index', 1/'columns'}, default 0\n",
    "- **join**: {'inner', 'outer'}, default 'outer'\n",
    "- **ignore_index**: bool, default False. If True, do not use the index values along the concatenation axis. The resulting axis will be labeled 0,...,n-1.\n",
    "- **keys**: sequence, default None. Construct hierarchical index using the passed keys as the outermost level.  \n",
    "  \n",
    "**Returns:**  \n",
    "When concatenating all Series along the index (axis=0), a Series is returned. When objs contains at least one DataFrame, a DataFrame is returned. When concatenating along the columns (axis=1), a DataFrame is returned."
   ]
  },
  {
   "cell_type": "code",
   "execution_count": 46,
   "id": "0cc8dfad",
   "metadata": {},
   "outputs": [],
   "source": [
    "df1 = pd.DataFrame({\n",
    "    'A': ['A0', 'A1', 'A2', 'A3'],\n",
    "    'B': ['B0', 'B1', 'B2', 'B3'],\n",
    "    'C': ['C0', 'C1', 'C2', 'C3']}, index=[0, 1, 2, 3])\n",
    "df2 = pd.DataFrame({\n",
    "    'A': ['A4', 'A5', 'A6'],\n",
    "    'B': ['B4', 'B5', 'B6'],\n",
    "    'C': ['C4', 'C5', 'C6']}, index=[4, 5, 6])\n",
    "df3 = pd.DataFrame({\n",
    "    'B': ['B2', 'B3', 'B6'],\n",
    "    'D': ['D2', 'D3', 'D6'],\n",
    "    'F': ['F2', 'F3', 'F6']}, index=[2, 3, 6])"
   ]
  },
  {
   "cell_type": "code",
   "execution_count": 47,
   "id": "ebe87572",
   "metadata": {},
   "outputs": [
    {
     "data": {
      "text/html": [
       "<div>\n",
       "<style scoped>\n",
       "    .dataframe tbody tr th:only-of-type {\n",
       "        vertical-align: middle;\n",
       "    }\n",
       "\n",
       "    .dataframe tbody tr th {\n",
       "        vertical-align: top;\n",
       "    }\n",
       "\n",
       "    .dataframe thead th {\n",
       "        text-align: right;\n",
       "    }\n",
       "</style>\n",
       "<table border=\"1\" class=\"dataframe\">\n",
       "  <thead>\n",
       "    <tr style=\"text-align: right;\">\n",
       "      <th></th>\n",
       "      <th>A</th>\n",
       "      <th>B</th>\n",
       "      <th>C</th>\n",
       "    </tr>\n",
       "  </thead>\n",
       "  <tbody>\n",
       "    <tr>\n",
       "      <th>0</th>\n",
       "      <td>A0</td>\n",
       "      <td>B0</td>\n",
       "      <td>C0</td>\n",
       "    </tr>\n",
       "    <tr>\n",
       "      <th>1</th>\n",
       "      <td>A1</td>\n",
       "      <td>B1</td>\n",
       "      <td>C1</td>\n",
       "    </tr>\n",
       "    <tr>\n",
       "      <th>2</th>\n",
       "      <td>A2</td>\n",
       "      <td>B2</td>\n",
       "      <td>C2</td>\n",
       "    </tr>\n",
       "    <tr>\n",
       "      <th>3</th>\n",
       "      <td>A3</td>\n",
       "      <td>B3</td>\n",
       "      <td>C3</td>\n",
       "    </tr>\n",
       "  </tbody>\n",
       "</table>\n",
       "</div>"
      ],
      "text/plain": [
       "    A   B   C\n",
       "0  A0  B0  C0\n",
       "1  A1  B1  C1\n",
       "2  A2  B2  C2\n",
       "3  A3  B3  C3"
      ]
     },
     "execution_count": 47,
     "metadata": {},
     "output_type": "execute_result"
    }
   ],
   "source": [
    "df1"
   ]
  },
  {
   "cell_type": "code",
   "execution_count": 48,
   "id": "6a354061",
   "metadata": {},
   "outputs": [
    {
     "data": {
      "text/html": [
       "<div>\n",
       "<style scoped>\n",
       "    .dataframe tbody tr th:only-of-type {\n",
       "        vertical-align: middle;\n",
       "    }\n",
       "\n",
       "    .dataframe tbody tr th {\n",
       "        vertical-align: top;\n",
       "    }\n",
       "\n",
       "    .dataframe thead th {\n",
       "        text-align: right;\n",
       "    }\n",
       "</style>\n",
       "<table border=\"1\" class=\"dataframe\">\n",
       "  <thead>\n",
       "    <tr style=\"text-align: right;\">\n",
       "      <th></th>\n",
       "      <th>A</th>\n",
       "      <th>B</th>\n",
       "      <th>C</th>\n",
       "    </tr>\n",
       "  </thead>\n",
       "  <tbody>\n",
       "    <tr>\n",
       "      <th>4</th>\n",
       "      <td>A4</td>\n",
       "      <td>B4</td>\n",
       "      <td>C4</td>\n",
       "    </tr>\n",
       "    <tr>\n",
       "      <th>5</th>\n",
       "      <td>A5</td>\n",
       "      <td>B5</td>\n",
       "      <td>C5</td>\n",
       "    </tr>\n",
       "    <tr>\n",
       "      <th>6</th>\n",
       "      <td>A6</td>\n",
       "      <td>B6</td>\n",
       "      <td>C6</td>\n",
       "    </tr>\n",
       "  </tbody>\n",
       "</table>\n",
       "</div>"
      ],
      "text/plain": [
       "    A   B   C\n",
       "4  A4  B4  C4\n",
       "5  A5  B5  C5\n",
       "6  A6  B6  C6"
      ]
     },
     "execution_count": 48,
     "metadata": {},
     "output_type": "execute_result"
    }
   ],
   "source": [
    "df2"
   ]
  },
  {
   "cell_type": "code",
   "execution_count": 49,
   "id": "14e521e2",
   "metadata": {},
   "outputs": [
    {
     "data": {
      "text/html": [
       "<div>\n",
       "<style scoped>\n",
       "    .dataframe tbody tr th:only-of-type {\n",
       "        vertical-align: middle;\n",
       "    }\n",
       "\n",
       "    .dataframe tbody tr th {\n",
       "        vertical-align: top;\n",
       "    }\n",
       "\n",
       "    .dataframe thead th {\n",
       "        text-align: right;\n",
       "    }\n",
       "</style>\n",
       "<table border=\"1\" class=\"dataframe\">\n",
       "  <thead>\n",
       "    <tr style=\"text-align: right;\">\n",
       "      <th></th>\n",
       "      <th>A</th>\n",
       "      <th>B</th>\n",
       "      <th>C</th>\n",
       "    </tr>\n",
       "  </thead>\n",
       "  <tbody>\n",
       "    <tr>\n",
       "      <th>0</th>\n",
       "      <td>A0</td>\n",
       "      <td>B0</td>\n",
       "      <td>C0</td>\n",
       "    </tr>\n",
       "    <tr>\n",
       "      <th>1</th>\n",
       "      <td>A1</td>\n",
       "      <td>B1</td>\n",
       "      <td>C1</td>\n",
       "    </tr>\n",
       "    <tr>\n",
       "      <th>2</th>\n",
       "      <td>A2</td>\n",
       "      <td>B2</td>\n",
       "      <td>C2</td>\n",
       "    </tr>\n",
       "    <tr>\n",
       "      <th>3</th>\n",
       "      <td>A3</td>\n",
       "      <td>B3</td>\n",
       "      <td>C3</td>\n",
       "    </tr>\n",
       "    <tr>\n",
       "      <th>4</th>\n",
       "      <td>A4</td>\n",
       "      <td>B4</td>\n",
       "      <td>C4</td>\n",
       "    </tr>\n",
       "    <tr>\n",
       "      <th>5</th>\n",
       "      <td>A5</td>\n",
       "      <td>B5</td>\n",
       "      <td>C5</td>\n",
       "    </tr>\n",
       "    <tr>\n",
       "      <th>6</th>\n",
       "      <td>A6</td>\n",
       "      <td>B6</td>\n",
       "      <td>C6</td>\n",
       "    </tr>\n",
       "  </tbody>\n",
       "</table>\n",
       "</div>"
      ],
      "text/plain": [
       "    A   B   C\n",
       "0  A0  B0  C0\n",
       "1  A1  B1  C1\n",
       "2  A2  B2  C2\n",
       "3  A3  B3  C3\n",
       "4  A4  B4  C4\n",
       "5  A5  B5  C5\n",
       "6  A6  B6  C6"
      ]
     },
     "execution_count": 49,
     "metadata": {},
     "output_type": "execute_result"
    }
   ],
   "source": [
    "pd.concat([df1, df2])"
   ]
  },
  {
   "cell_type": "code",
   "execution_count": 50,
   "id": "59da17c5",
   "metadata": {},
   "outputs": [
    {
     "data": {
      "text/html": [
       "<div>\n",
       "<style scoped>\n",
       "    .dataframe tbody tr th:only-of-type {\n",
       "        vertical-align: middle;\n",
       "    }\n",
       "\n",
       "    .dataframe tbody tr th {\n",
       "        vertical-align: top;\n",
       "    }\n",
       "\n",
       "    .dataframe thead th {\n",
       "        text-align: right;\n",
       "    }\n",
       "</style>\n",
       "<table border=\"1\" class=\"dataframe\">\n",
       "  <thead>\n",
       "    <tr style=\"text-align: right;\">\n",
       "      <th></th>\n",
       "      <th>A</th>\n",
       "      <th>B</th>\n",
       "      <th>C</th>\n",
       "      <th>A</th>\n",
       "      <th>B</th>\n",
       "      <th>C</th>\n",
       "    </tr>\n",
       "  </thead>\n",
       "  <tbody>\n",
       "    <tr>\n",
       "      <th>0</th>\n",
       "      <td>A0</td>\n",
       "      <td>B0</td>\n",
       "      <td>C0</td>\n",
       "      <td>NaN</td>\n",
       "      <td>NaN</td>\n",
       "      <td>NaN</td>\n",
       "    </tr>\n",
       "    <tr>\n",
       "      <th>1</th>\n",
       "      <td>A1</td>\n",
       "      <td>B1</td>\n",
       "      <td>C1</td>\n",
       "      <td>NaN</td>\n",
       "      <td>NaN</td>\n",
       "      <td>NaN</td>\n",
       "    </tr>\n",
       "    <tr>\n",
       "      <th>2</th>\n",
       "      <td>A2</td>\n",
       "      <td>B2</td>\n",
       "      <td>C2</td>\n",
       "      <td>NaN</td>\n",
       "      <td>NaN</td>\n",
       "      <td>NaN</td>\n",
       "    </tr>\n",
       "    <tr>\n",
       "      <th>3</th>\n",
       "      <td>A3</td>\n",
       "      <td>B3</td>\n",
       "      <td>C3</td>\n",
       "      <td>NaN</td>\n",
       "      <td>NaN</td>\n",
       "      <td>NaN</td>\n",
       "    </tr>\n",
       "    <tr>\n",
       "      <th>4</th>\n",
       "      <td>NaN</td>\n",
       "      <td>NaN</td>\n",
       "      <td>NaN</td>\n",
       "      <td>A4</td>\n",
       "      <td>B4</td>\n",
       "      <td>C4</td>\n",
       "    </tr>\n",
       "    <tr>\n",
       "      <th>5</th>\n",
       "      <td>NaN</td>\n",
       "      <td>NaN</td>\n",
       "      <td>NaN</td>\n",
       "      <td>A5</td>\n",
       "      <td>B5</td>\n",
       "      <td>C5</td>\n",
       "    </tr>\n",
       "    <tr>\n",
       "      <th>6</th>\n",
       "      <td>NaN</td>\n",
       "      <td>NaN</td>\n",
       "      <td>NaN</td>\n",
       "      <td>A6</td>\n",
       "      <td>B6</td>\n",
       "      <td>C6</td>\n",
       "    </tr>\n",
       "  </tbody>\n",
       "</table>\n",
       "</div>"
      ],
      "text/plain": [
       "     A    B    C    A    B    C\n",
       "0   A0   B0   C0  NaN  NaN  NaN\n",
       "1   A1   B1   C1  NaN  NaN  NaN\n",
       "2   A2   B2   C2  NaN  NaN  NaN\n",
       "3   A3   B3   C3  NaN  NaN  NaN\n",
       "4  NaN  NaN  NaN   A4   B4   C4\n",
       "5  NaN  NaN  NaN   A5   B5   C5\n",
       "6  NaN  NaN  NaN   A6   B6   C6"
      ]
     },
     "execution_count": 50,
     "metadata": {},
     "output_type": "execute_result"
    }
   ],
   "source": [
    "pd.concat([df1, df2], axis=1)"
   ]
  },
  {
   "cell_type": "code",
   "execution_count": 51,
   "id": "ca3c8bec",
   "metadata": {},
   "outputs": [
    {
     "data": {
      "text/html": [
       "<div>\n",
       "<style scoped>\n",
       "    .dataframe tbody tr th:only-of-type {\n",
       "        vertical-align: middle;\n",
       "    }\n",
       "\n",
       "    .dataframe tbody tr th {\n",
       "        vertical-align: top;\n",
       "    }\n",
       "\n",
       "    .dataframe thead th {\n",
       "        text-align: right;\n",
       "    }\n",
       "</style>\n",
       "<table border=\"1\" class=\"dataframe\">\n",
       "  <thead>\n",
       "    <tr style=\"text-align: right;\">\n",
       "      <th></th>\n",
       "      <th>B</th>\n",
       "      <th>D</th>\n",
       "      <th>F</th>\n",
       "    </tr>\n",
       "  </thead>\n",
       "  <tbody>\n",
       "    <tr>\n",
       "      <th>2</th>\n",
       "      <td>B2</td>\n",
       "      <td>D2</td>\n",
       "      <td>F2</td>\n",
       "    </tr>\n",
       "    <tr>\n",
       "      <th>3</th>\n",
       "      <td>B3</td>\n",
       "      <td>D3</td>\n",
       "      <td>F3</td>\n",
       "    </tr>\n",
       "    <tr>\n",
       "      <th>6</th>\n",
       "      <td>B6</td>\n",
       "      <td>D6</td>\n",
       "      <td>F6</td>\n",
       "    </tr>\n",
       "  </tbody>\n",
       "</table>\n",
       "</div>"
      ],
      "text/plain": [
       "    B   D   F\n",
       "2  B2  D2  F2\n",
       "3  B3  D3  F3\n",
       "6  B6  D6  F6"
      ]
     },
     "execution_count": 51,
     "metadata": {},
     "output_type": "execute_result"
    }
   ],
   "source": [
    "df3"
   ]
  },
  {
   "cell_type": "code",
   "execution_count": 52,
   "id": "cb6b21e1",
   "metadata": {},
   "outputs": [
    {
     "data": {
      "text/html": [
       "<div>\n",
       "<style scoped>\n",
       "    .dataframe tbody tr th:only-of-type {\n",
       "        vertical-align: middle;\n",
       "    }\n",
       "\n",
       "    .dataframe tbody tr th {\n",
       "        vertical-align: top;\n",
       "    }\n",
       "\n",
       "    .dataframe thead th {\n",
       "        text-align: right;\n",
       "    }\n",
       "</style>\n",
       "<table border=\"1\" class=\"dataframe\">\n",
       "  <thead>\n",
       "    <tr style=\"text-align: right;\">\n",
       "      <th></th>\n",
       "      <th>A</th>\n",
       "      <th>B</th>\n",
       "      <th>C</th>\n",
       "      <th>B</th>\n",
       "      <th>D</th>\n",
       "      <th>F</th>\n",
       "    </tr>\n",
       "  </thead>\n",
       "  <tbody>\n",
       "    <tr>\n",
       "      <th>2</th>\n",
       "      <td>A2</td>\n",
       "      <td>B2</td>\n",
       "      <td>C2</td>\n",
       "      <td>B2</td>\n",
       "      <td>D2</td>\n",
       "      <td>F2</td>\n",
       "    </tr>\n",
       "    <tr>\n",
       "      <th>3</th>\n",
       "      <td>A3</td>\n",
       "      <td>B3</td>\n",
       "      <td>C3</td>\n",
       "      <td>B3</td>\n",
       "      <td>D3</td>\n",
       "      <td>F3</td>\n",
       "    </tr>\n",
       "  </tbody>\n",
       "</table>\n",
       "</div>"
      ],
      "text/plain": [
       "    A   B   C   B   D   F\n",
       "2  A2  B2  C2  B2  D2  F2\n",
       "3  A3  B3  C3  B3  D3  F3"
      ]
     },
     "execution_count": 52,
     "metadata": {},
     "output_type": "execute_result"
    }
   ],
   "source": [
    "pd.concat([df1, df3], join='inner', axis=1)"
   ]
  },
  {
   "cell_type": "code",
   "execution_count": 53,
   "id": "84573766",
   "metadata": {},
   "outputs": [
    {
     "data": {
      "text/html": [
       "<div>\n",
       "<style scoped>\n",
       "    .dataframe tbody tr th:only-of-type {\n",
       "        vertical-align: middle;\n",
       "    }\n",
       "\n",
       "    .dataframe tbody tr th {\n",
       "        vertical-align: top;\n",
       "    }\n",
       "\n",
       "    .dataframe thead tr th {\n",
       "        text-align: left;\n",
       "    }\n",
       "</style>\n",
       "<table border=\"1\" class=\"dataframe\">\n",
       "  <thead>\n",
       "    <tr>\n",
       "      <th></th>\n",
       "      <th colspan=\"3\" halign=\"left\">x</th>\n",
       "      <th colspan=\"3\" halign=\"left\">y</th>\n",
       "    </tr>\n",
       "    <tr>\n",
       "      <th></th>\n",
       "      <th>A</th>\n",
       "      <th>B</th>\n",
       "      <th>C</th>\n",
       "      <th>B</th>\n",
       "      <th>D</th>\n",
       "      <th>F</th>\n",
       "    </tr>\n",
       "  </thead>\n",
       "  <tbody>\n",
       "    <tr>\n",
       "      <th>2</th>\n",
       "      <td>A2</td>\n",
       "      <td>B2</td>\n",
       "      <td>C2</td>\n",
       "      <td>B2</td>\n",
       "      <td>D2</td>\n",
       "      <td>F2</td>\n",
       "    </tr>\n",
       "    <tr>\n",
       "      <th>3</th>\n",
       "      <td>A3</td>\n",
       "      <td>B3</td>\n",
       "      <td>C3</td>\n",
       "      <td>B3</td>\n",
       "      <td>D3</td>\n",
       "      <td>F3</td>\n",
       "    </tr>\n",
       "  </tbody>\n",
       "</table>\n",
       "</div>"
      ],
      "text/plain": [
       "    x           y        \n",
       "    A   B   C   B   D   F\n",
       "2  A2  B2  C2  B2  D2  F2\n",
       "3  A3  B3  C3  B3  D3  F3"
      ]
     },
     "execution_count": 53,
     "metadata": {},
     "output_type": "execute_result"
    }
   ],
   "source": [
    "result = pd.concat([df1, df3], axis=1, join='inner', keys=['x', 'y'])\n",
    "result"
   ]
  },
  {
   "cell_type": "code",
   "execution_count": 54,
   "id": "4335c4f8",
   "metadata": {},
   "outputs": [
    {
     "data": {
      "text/html": [
       "<div>\n",
       "<style scoped>\n",
       "    .dataframe tbody tr th:only-of-type {\n",
       "        vertical-align: middle;\n",
       "    }\n",
       "\n",
       "    .dataframe tbody tr th {\n",
       "        vertical-align: top;\n",
       "    }\n",
       "\n",
       "    .dataframe thead tr th {\n",
       "        text-align: left;\n",
       "    }\n",
       "</style>\n",
       "<table border=\"1\" class=\"dataframe\">\n",
       "  <thead>\n",
       "    <tr>\n",
       "      <th></th>\n",
       "      <th colspan=\"3\" halign=\"left\">x</th>\n",
       "      <th colspan=\"3\" halign=\"left\">y</th>\n",
       "    </tr>\n",
       "    <tr>\n",
       "      <th></th>\n",
       "      <th>A</th>\n",
       "      <th>B</th>\n",
       "      <th>C</th>\n",
       "      <th>B</th>\n",
       "      <th>D</th>\n",
       "      <th>F</th>\n",
       "    </tr>\n",
       "  </thead>\n",
       "  <tbody>\n",
       "    <tr>\n",
       "      <th>2</th>\n",
       "      <td>A2</td>\n",
       "      <td>B2</td>\n",
       "      <td>C2</td>\n",
       "      <td>B2</td>\n",
       "      <td>D2</td>\n",
       "      <td>F2</td>\n",
       "    </tr>\n",
       "    <tr>\n",
       "      <th>3</th>\n",
       "      <td>A3</td>\n",
       "      <td>B3</td>\n",
       "      <td>C3</td>\n",
       "      <td>B3</td>\n",
       "      <td>D3</td>\n",
       "      <td>F3</td>\n",
       "    </tr>\n",
       "  </tbody>\n",
       "</table>\n",
       "</div>"
      ],
      "text/plain": [
       "    x           y        \n",
       "    A   B   C   B   D   F\n",
       "2  A2  B2  C2  B2  D2  F2\n",
       "3  A3  B3  C3  B3  D3  F3"
      ]
     },
     "execution_count": 54,
     "metadata": {},
     "output_type": "execute_result"
    }
   ],
   "source": [
    "result = pd.concat({'x': df1, 'y': df3}, axis=1, join='inner') # the same with above cell\n",
    "result"
   ]
  },
  {
   "cell_type": "code",
   "execution_count": 55,
   "id": "243f0e7a",
   "metadata": {},
   "outputs": [
    {
     "data": {
      "text/plain": [
       "'B2'"
      ]
     },
     "execution_count": 55,
     "metadata": {},
     "output_type": "execute_result"
    }
   ],
   "source": [
    "result.x.loc[2, 'B']"
   ]
  },
  {
   "cell_type": "code",
   "execution_count": 56,
   "id": "f459a57a",
   "metadata": {},
   "outputs": [
    {
     "data": {
      "text/html": [
       "<div>\n",
       "<style scoped>\n",
       "    .dataframe tbody tr th:only-of-type {\n",
       "        vertical-align: middle;\n",
       "    }\n",
       "\n",
       "    .dataframe tbody tr th {\n",
       "        vertical-align: top;\n",
       "    }\n",
       "\n",
       "    .dataframe thead th {\n",
       "        text-align: right;\n",
       "    }\n",
       "</style>\n",
       "<table border=\"1\" class=\"dataframe\">\n",
       "  <thead>\n",
       "    <tr style=\"text-align: right;\">\n",
       "      <th></th>\n",
       "      <th>A</th>\n",
       "      <th>B</th>\n",
       "      <th>C</th>\n",
       "    </tr>\n",
       "  </thead>\n",
       "  <tbody>\n",
       "    <tr>\n",
       "      <th>0</th>\n",
       "      <td>A0</td>\n",
       "      <td>B0</td>\n",
       "      <td>C0</td>\n",
       "    </tr>\n",
       "    <tr>\n",
       "      <th>1</th>\n",
       "      <td>A1</td>\n",
       "      <td>B1</td>\n",
       "      <td>C1</td>\n",
       "    </tr>\n",
       "    <tr>\n",
       "      <th>2</th>\n",
       "      <td>A2</td>\n",
       "      <td>B2</td>\n",
       "      <td>C2</td>\n",
       "    </tr>\n",
       "    <tr>\n",
       "      <th>3</th>\n",
       "      <td>A3</td>\n",
       "      <td>B3</td>\n",
       "      <td>C3</td>\n",
       "    </tr>\n",
       "  </tbody>\n",
       "</table>\n",
       "</div>"
      ],
      "text/plain": [
       "    A   B   C\n",
       "0  A0  B0  C0\n",
       "1  A1  B1  C1\n",
       "2  A2  B2  C2\n",
       "3  A3  B3  C3"
      ]
     },
     "execution_count": 56,
     "metadata": {},
     "output_type": "execute_result"
    }
   ],
   "source": [
    "df1"
   ]
  },
  {
   "cell_type": "code",
   "execution_count": 57,
   "id": "6e68b800",
   "metadata": {},
   "outputs": [
    {
     "data": {
      "text/html": [
       "<div>\n",
       "<style scoped>\n",
       "    .dataframe tbody tr th:only-of-type {\n",
       "        vertical-align: middle;\n",
       "    }\n",
       "\n",
       "    .dataframe tbody tr th {\n",
       "        vertical-align: top;\n",
       "    }\n",
       "\n",
       "    .dataframe thead th {\n",
       "        text-align: right;\n",
       "    }\n",
       "</style>\n",
       "<table border=\"1\" class=\"dataframe\">\n",
       "  <thead>\n",
       "    <tr style=\"text-align: right;\">\n",
       "      <th></th>\n",
       "      <th>A</th>\n",
       "      <th>B</th>\n",
       "      <th>C</th>\n",
       "    </tr>\n",
       "  </thead>\n",
       "  <tbody>\n",
       "    <tr>\n",
       "      <th>0</th>\n",
       "      <td>A0</td>\n",
       "      <td>B0</td>\n",
       "      <td>C0</td>\n",
       "    </tr>\n",
       "    <tr>\n",
       "      <th>1</th>\n",
       "      <td>A1</td>\n",
       "      <td>B1</td>\n",
       "      <td>C1</td>\n",
       "    </tr>\n",
       "    <tr>\n",
       "      <th>2</th>\n",
       "      <td>A2</td>\n",
       "      <td>B2</td>\n",
       "      <td>C2</td>\n",
       "    </tr>\n",
       "    <tr>\n",
       "      <th>3</th>\n",
       "      <td>A3</td>\n",
       "      <td>B3</td>\n",
       "      <td>C3</td>\n",
       "    </tr>\n",
       "    <tr>\n",
       "      <th>4</th>\n",
       "      <td>A4</td>\n",
       "      <td>B4</td>\n",
       "      <td>C4</td>\n",
       "    </tr>\n",
       "  </tbody>\n",
       "</table>\n",
       "</div>"
      ],
      "text/plain": [
       "    A   B   C\n",
       "0  A0  B0  C0\n",
       "1  A1  B1  C1\n",
       "2  A2  B2  C2\n",
       "3  A3  B3  C3\n",
       "4  A4  B4  C4"
      ]
     },
     "execution_count": 57,
     "metadata": {},
     "output_type": "execute_result"
    }
   ],
   "source": [
    "# Append rows to a DataFrame\n",
    "s2 = pd.Series(['A4', 'B4', 'C4'], index=['A', 'B', 'C'])\n",
    "pd.concat([df1, s2.to_frame().T], ignore_index=True)"
   ]
  },
  {
   "cell_type": "markdown",
   "id": "cd24a55c",
   "metadata": {},
   "source": [
    "# 4. Group by: split-apply-combine"
   ]
  },
  {
   "cell_type": "markdown",
   "id": "36f13642",
   "metadata": {},
   "source": [
    "By “group by” we are referring to a process involving one or more of the following steps:\n",
    "- **Splitting** the data into groups based on some criteria.\n",
    "- **Applying** a function to each group independently.\n",
    "- **Combining** the results into a data structure."
   ]
  },
  {
   "cell_type": "markdown",
   "id": "a6c65ef7",
   "metadata": {},
   "source": [
    "## 4.1 Splitting data into groups"
   ]
  },
  {
   "cell_type": "markdown",
   "id": "78a18923",
   "metadata": {},
   "source": [
    "### 4.1.1 groupby function\n",
    "Group DataFrame using a mapper or by a Series of columns.  \n",
    "***DataFrame.groupby(by=None, axis=0, level=None, as_index=True, sort=True, group_keys=True, observed=False, dropna=True)***  \n",
    "**Parameters:** \n",
    "- **by**: **mapping, function, label, pd.Grouper or list of such**. If by is a function, it's called on each value of the object's index. If a dict or Series is passed, the Series or dict VALUES will be used to determine the groups. If a list or ndarray of length equal to the selected axis is passed, the values are used as-is to determine the groups. A label or list of labels may be passed to group by the columns in self.\n",
    "- **axis**: **{0/'index', 1/'columns'}, default 0**. Split along rows (0) or columns (1).\n",
    "- **level**: **int, level name, or sequence of such, default None**. If the axis is a MultiIndex (hierarchical), group by a particular level or levels. Do not specify both by and level.\n",
    "- **sort**: **bool, default True**. Sort group keys. Get better performance by turining this off. Note this does not influence the order of observations within each group. Groupby preserves the order of rows within each group.\n",
    "- **dropna**: **bool, default True**. If True, and if group keys contain NA values, NA values together with row/column will be dropped. If False, NA values will also be treated as the key in groups.  \n",
    "  \n",
    "Series also has groupby function."
   ]
  },
  {
   "cell_type": "code",
   "execution_count": 59,
   "id": "772a226c",
   "metadata": {},
   "outputs": [
    {
     "data": {
      "text/html": [
       "<div>\n",
       "<style scoped>\n",
       "    .dataframe tbody tr th:only-of-type {\n",
       "        vertical-align: middle;\n",
       "    }\n",
       "\n",
       "    .dataframe tbody tr th {\n",
       "        vertical-align: top;\n",
       "    }\n",
       "\n",
       "    .dataframe thead th {\n",
       "        text-align: right;\n",
       "    }\n",
       "</style>\n",
       "<table border=\"1\" class=\"dataframe\">\n",
       "  <thead>\n",
       "    <tr style=\"text-align: right;\">\n",
       "      <th></th>\n",
       "      <th>A</th>\n",
       "      <th>B</th>\n",
       "      <th>C</th>\n",
       "      <th>D</th>\n",
       "    </tr>\n",
       "  </thead>\n",
       "  <tbody>\n",
       "    <tr>\n",
       "      <th>0</th>\n",
       "      <td>foo</td>\n",
       "      <td>one</td>\n",
       "      <td>-1.170722</td>\n",
       "      <td>-0.276401</td>\n",
       "    </tr>\n",
       "    <tr>\n",
       "      <th>1</th>\n",
       "      <td>bar</td>\n",
       "      <td>one</td>\n",
       "      <td>0.026203</td>\n",
       "      <td>-0.991155</td>\n",
       "    </tr>\n",
       "    <tr>\n",
       "      <th>2</th>\n",
       "      <td>foo</td>\n",
       "      <td>two</td>\n",
       "      <td>-1.002403</td>\n",
       "      <td>-1.501484</td>\n",
       "    </tr>\n",
       "    <tr>\n",
       "      <th>3</th>\n",
       "      <td>bar</td>\n",
       "      <td>three</td>\n",
       "      <td>-0.232708</td>\n",
       "      <td>-0.063161</td>\n",
       "    </tr>\n",
       "    <tr>\n",
       "      <th>4</th>\n",
       "      <td>foo</td>\n",
       "      <td>two</td>\n",
       "      <td>-0.169243</td>\n",
       "      <td>-0.940424</td>\n",
       "    </tr>\n",
       "    <tr>\n",
       "      <th>5</th>\n",
       "      <td>bar</td>\n",
       "      <td>two</td>\n",
       "      <td>-0.674804</td>\n",
       "      <td>0.876703</td>\n",
       "    </tr>\n",
       "    <tr>\n",
       "      <th>6</th>\n",
       "      <td>foo</td>\n",
       "      <td>one</td>\n",
       "      <td>-1.337081</td>\n",
       "      <td>-0.732849</td>\n",
       "    </tr>\n",
       "    <tr>\n",
       "      <th>7</th>\n",
       "      <td>foo</td>\n",
       "      <td>three</td>\n",
       "      <td>-0.056083</td>\n",
       "      <td>0.708644</td>\n",
       "    </tr>\n",
       "  </tbody>\n",
       "</table>\n",
       "</div>"
      ],
      "text/plain": [
       "     A      B         C         D\n",
       "0  foo    one -1.170722 -0.276401\n",
       "1  bar    one  0.026203 -0.991155\n",
       "2  foo    two -1.002403 -1.501484\n",
       "3  bar  three -0.232708 -0.063161\n",
       "4  foo    two -0.169243 -0.940424\n",
       "5  bar    two -0.674804  0.876703\n",
       "6  foo    one -1.337081 -0.732849\n",
       "7  foo  three -0.056083  0.708644"
      ]
     },
     "execution_count": 59,
     "metadata": {},
     "output_type": "execute_result"
    }
   ],
   "source": [
    "df = pd.DataFrame(\n",
    "    {\n",
    "        \"A\": [\"foo\", \"bar\", \"foo\", \"bar\", \"foo\", \"bar\", \"foo\", \"foo\"],\n",
    "        \"B\": [\"one\", \"one\", \"two\", \"three\", \"two\", \"two\", \"one\", \"three\"],\n",
    "        \"C\": np.random.randn(8),\n",
    "        \"D\": np.random.randn(8),\n",
    "    })\n",
    "df"
   ]
  },
  {
   "cell_type": "code",
   "execution_count": 99,
   "id": "86243a3b",
   "metadata": {},
   "outputs": [],
   "source": [
    "# Iterate and print through groups\n",
    "def print_groups(grouped):\n",
    "    for name, group in grouped:\n",
    "        print(name)\n",
    "        print(group)"
   ]
  },
  {
   "cell_type": "code",
   "execution_count": 129,
   "id": "39241879",
   "metadata": {},
   "outputs": [
    {
     "name": "stdout",
     "output_type": "stream",
     "text": [
      "bar\n",
      "     A      B         C         D\n",
      "1  bar    one  0.026203 -0.991155\n",
      "3  bar  three -0.232708 -0.063161\n",
      "5  bar    two -0.674804  0.876703\n",
      "foo\n",
      "     A      B         C         D\n",
      "0  foo    one -1.170722 -0.276401\n",
      "2  foo    two -1.002403 -1.501484\n",
      "4  foo    two -0.169243 -0.940424\n",
      "6  foo    one -1.337081 -0.732849\n",
      "7  foo  three -0.056083  0.708644\n"
     ]
    }
   ],
   "source": [
    "# Group by a column label\n",
    "print_groups(df.groupby('A'))"
   ]
  },
  {
   "cell_type": "code",
   "execution_count": 113,
   "id": "1e242c1f",
   "metadata": {},
   "outputs": [
    {
     "name": "stdout",
     "output_type": "stream",
     "text": [
      "('bar', 'one')\n",
      "     A    B         C         D\n",
      "1  bar  one  0.026203 -0.991155\n",
      "('bar', 'three')\n",
      "     A      B         C         D\n",
      "3  bar  three -0.232708 -0.063161\n",
      "('bar', 'two')\n",
      "     A    B         C         D\n",
      "5  bar  two -0.674804  0.876703\n",
      "('foo', 'one')\n",
      "     A    B         C         D\n",
      "0  foo  one -1.170722 -0.276401\n",
      "6  foo  one -1.337081 -0.732849\n",
      "('foo', 'three')\n",
      "     A      B         C         D\n",
      "7  foo  three -0.056083  0.708644\n",
      "('foo', 'two')\n",
      "     A    B         C         D\n",
      "2  foo  two -1.002403 -1.501484\n",
      "4  foo  two -0.169243 -0.940424\n"
     ]
    }
   ],
   "source": [
    "# Group by a list of labels\n",
    "print_groups(df.groupby(['A', 'B']))"
   ]
  },
  {
   "cell_type": "code",
   "execution_count": 149,
   "id": "938a47fd",
   "metadata": {},
   "outputs": [
    {
     "data": {
      "text/html": [
       "<div>\n",
       "<style scoped>\n",
       "    .dataframe tbody tr th:only-of-type {\n",
       "        vertical-align: middle;\n",
       "    }\n",
       "\n",
       "    .dataframe tbody tr th {\n",
       "        vertical-align: top;\n",
       "    }\n",
       "\n",
       "    .dataframe thead th {\n",
       "        text-align: right;\n",
       "    }\n",
       "</style>\n",
       "<table border=\"1\" class=\"dataframe\">\n",
       "  <thead>\n",
       "    <tr style=\"text-align: right;\">\n",
       "      <th></th>\n",
       "      <th></th>\n",
       "      <th>C</th>\n",
       "      <th>D</th>\n",
       "    </tr>\n",
       "    <tr>\n",
       "      <th>A</th>\n",
       "      <th>B</th>\n",
       "      <th></th>\n",
       "      <th></th>\n",
       "    </tr>\n",
       "  </thead>\n",
       "  <tbody>\n",
       "    <tr>\n",
       "      <th rowspan=\"3\" valign=\"top\">bar</th>\n",
       "      <th>one</th>\n",
       "      <td>0.026203</td>\n",
       "      <td>-0.991155</td>\n",
       "    </tr>\n",
       "    <tr>\n",
       "      <th>three</th>\n",
       "      <td>-0.232708</td>\n",
       "      <td>-0.063161</td>\n",
       "    </tr>\n",
       "    <tr>\n",
       "      <th>two</th>\n",
       "      <td>-0.674804</td>\n",
       "      <td>0.876703</td>\n",
       "    </tr>\n",
       "    <tr>\n",
       "      <th rowspan=\"3\" valign=\"top\">foo</th>\n",
       "      <th>one</th>\n",
       "      <td>-1.253902</td>\n",
       "      <td>-0.504625</td>\n",
       "    </tr>\n",
       "    <tr>\n",
       "      <th>three</th>\n",
       "      <td>-0.056083</td>\n",
       "      <td>0.708644</td>\n",
       "    </tr>\n",
       "    <tr>\n",
       "      <th>two</th>\n",
       "      <td>-0.585823</td>\n",
       "      <td>-1.220954</td>\n",
       "    </tr>\n",
       "  </tbody>\n",
       "</table>\n",
       "</div>"
      ],
      "text/plain": [
       "                  C         D\n",
       "A   B                        \n",
       "bar one    0.026203 -0.991155\n",
       "    three -0.232708 -0.063161\n",
       "    two   -0.674804  0.876703\n",
       "foo one   -1.253902 -0.504625\n",
       "    three -0.056083  0.708644\n",
       "    two   -0.585823 -1.220954"
      ]
     },
     "execution_count": 149,
     "metadata": {},
     "output_type": "execute_result"
    }
   ],
   "source": [
    "df.groupby(['A', 'B']).mean()"
   ]
  },
  {
   "cell_type": "code",
   "execution_count": 101,
   "id": "f5387b20",
   "metadata": {},
   "outputs": [
    {
     "name": "stdout",
     "output_type": "stream",
     "text": [
      "0\n",
      "     A    B         C         D\n",
      "0  foo  one -1.170722 -0.276401\n",
      "2  foo  two -1.002403 -1.501484\n",
      "4  foo  two -0.169243 -0.940424\n",
      "6  foo  one -1.337081 -0.732849\n",
      "1\n",
      "     A      B         C         D\n",
      "1  bar    one  0.026203 -0.991155\n",
      "3  bar  three -0.232708 -0.063161\n",
      "5  bar    two -0.674804  0.876703\n",
      "7  foo  three -0.056083  0.708644\n"
     ]
    }
   ],
   "source": [
    "# Group by function\n",
    "print_groups(df.groupby(lambda x: x % 2)) # the function is called on each value of the index of selected axis."
   ]
  },
  {
   "cell_type": "code",
   "execution_count": 102,
   "id": "ca280706",
   "metadata": {},
   "outputs": [
    {
     "name": "stdout",
     "output_type": "stream",
     "text": [
      "consonant\n",
      "       B         C         D\n",
      "0    one -1.170722 -0.276401\n",
      "1    one  0.026203 -0.991155\n",
      "2    two -1.002403 -1.501484\n",
      "3  three -0.232708 -0.063161\n",
      "4    two -0.169243 -0.940424\n",
      "5    two -0.674804  0.876703\n",
      "6    one -1.337081 -0.732849\n",
      "7  three -0.056083  0.708644\n",
      "vowel\n",
      "     A\n",
      "0  foo\n",
      "1  bar\n",
      "2  foo\n",
      "3  bar\n",
      "4  foo\n",
      "5  bar\n",
      "6  foo\n",
      "7  foo\n"
     ]
    }
   ],
   "source": [
    "# Group columns by function\n",
    "def get_letter_type(letter):\n",
    "    if letter.lower() in 'aeiou':\n",
    "        return 'vowel'\n",
    "    else:\n",
    "        return 'consonant'\n",
    "print_groups(df.groupby(get_letter_type, axis=1))"
   ]
  },
  {
   "cell_type": "code",
   "execution_count": 107,
   "id": "ffe44393",
   "metadata": {},
   "outputs": [
    {
     "name": "stdout",
     "output_type": "stream",
     "text": [
      "0\n",
      "       B         C\n",
      "0    one -1.170722\n",
      "1    one  0.026203\n",
      "2    two -1.002403\n",
      "3  three -0.232708\n",
      "4    two -0.169243\n",
      "5    two -0.674804\n",
      "6    one -1.337081\n",
      "7  three -0.056083\n",
      "1\n",
      "     A         D\n",
      "0  foo -0.276401\n",
      "1  bar -0.991155\n",
      "2  foo -1.501484\n",
      "3  bar -0.063161\n",
      "4  foo -0.940424\n",
      "5  bar  0.876703\n",
      "6  foo -0.732849\n",
      "7  foo  0.708644\n"
     ]
    }
   ],
   "source": [
    "# Group by list or ndarray of the same length\n",
    "print_groups(df.groupby([1, 0, 0, 1], axis=1))"
   ]
  },
  {
   "cell_type": "code",
   "execution_count": 127,
   "id": "4e7a8c64",
   "metadata": {},
   "outputs": [
    {
     "name": "stdout",
     "output_type": "stream",
     "text": [
      "1\n",
      "     A    B         C         D\n",
      "0  foo  one -1.170722 -0.276401\n",
      "2  foo  two -1.002403 -1.501484\n",
      "4  foo  two -0.169243 -0.940424\n",
      "5  bar  two -0.674804  0.876703\n",
      "2\n",
      "     A    B         C         D\n",
      "1  bar  one  0.026203 -0.991155\n",
      "6  foo  one -1.337081 -0.732849\n",
      "3\n",
      "     A      B         C         D\n",
      "3  bar  three -0.232708 -0.063161\n",
      "7  foo  three -0.056083  0.708644\n",
      "aa\n",
      "     A         D\n",
      "0  foo -0.276401\n",
      "1  bar -0.991155\n",
      "2  foo -1.501484\n",
      "3  bar -0.063161\n",
      "4  foo -0.940424\n",
      "5  bar  0.876703\n",
      "6  foo -0.732849\n",
      "7  foo  0.708644\n",
      "bb\n",
      "       B         C\n",
      "0    one -1.170722\n",
      "1    one  0.026203\n",
      "2    two -1.002403\n",
      "3  three -0.232708\n",
      "4    two -0.169243\n",
      "5    two -0.674804\n",
      "6    one -1.337081\n",
      "7  three -0.056083\n"
     ]
    }
   ],
   "source": [
    "# Optional\n",
    "# Group by series\n",
    "print_groups(df.groupby(pd.Series([1,2,1,3,1,1,2,3], index=np.arange(8))))\n",
    "# Group by dict\n",
    "print_groups(df.groupby({'A':'aa', 'B':'bb', 'C':'bb', 'D':'aa'}, axis=1))"
   ]
  },
  {
   "cell_type": "code",
   "execution_count": 133,
   "id": "131579c4",
   "metadata": {},
   "outputs": [
    {
     "data": {
      "text/html": [
       "<div>\n",
       "<style scoped>\n",
       "    .dataframe tbody tr th:only-of-type {\n",
       "        vertical-align: middle;\n",
       "    }\n",
       "\n",
       "    .dataframe tbody tr th {\n",
       "        vertical-align: top;\n",
       "    }\n",
       "\n",
       "    .dataframe thead th {\n",
       "        text-align: right;\n",
       "    }\n",
       "</style>\n",
       "<table border=\"1\" class=\"dataframe\">\n",
       "  <thead>\n",
       "    <tr style=\"text-align: right;\">\n",
       "      <th></th>\n",
       "      <th>a</th>\n",
       "      <th>b</th>\n",
       "      <th>c</th>\n",
       "    </tr>\n",
       "  </thead>\n",
       "  <tbody>\n",
       "    <tr>\n",
       "      <th>0</th>\n",
       "      <td>1</td>\n",
       "      <td>2.0</td>\n",
       "      <td>3</td>\n",
       "    </tr>\n",
       "    <tr>\n",
       "      <th>1</th>\n",
       "      <td>1</td>\n",
       "      <td>NaN</td>\n",
       "      <td>4</td>\n",
       "    </tr>\n",
       "    <tr>\n",
       "      <th>2</th>\n",
       "      <td>2</td>\n",
       "      <td>1.0</td>\n",
       "      <td>3</td>\n",
       "    </tr>\n",
       "    <tr>\n",
       "      <th>3</th>\n",
       "      <td>1</td>\n",
       "      <td>2.0</td>\n",
       "      <td>2</td>\n",
       "    </tr>\n",
       "  </tbody>\n",
       "</table>\n",
       "</div>"
      ],
      "text/plain": [
       "   a    b  c\n",
       "0  1  2.0  3\n",
       "1  1  NaN  4\n",
       "2  2  1.0  3\n",
       "3  1  2.0  2"
      ]
     },
     "execution_count": 133,
     "metadata": {},
     "output_type": "execute_result"
    }
   ],
   "source": [
    "# GroupBy dropna\n",
    "df_list = [[1, 2, 3], [1, None, 4], [2, 1, 3], [1, 2, 2]]\n",
    "df_dropna = pd.DataFrame(df_list, columns=['a', 'b', 'c'])\n",
    "df_dropna"
   ]
  },
  {
   "cell_type": "code",
   "execution_count": 134,
   "id": "b018dd79",
   "metadata": {},
   "outputs": [
    {
     "name": "stdout",
     "output_type": "stream",
     "text": [
      "1.0\n",
      "   a    b  c\n",
      "2  2  1.0  3\n",
      "2.0\n",
      "   a    b  c\n",
      "0  1  2.0  3\n",
      "3  1  2.0  2\n"
     ]
    }
   ],
   "source": [
    "print_groups(df_dropna.groupby('b', dropna=True))"
   ]
  },
  {
   "cell_type": "markdown",
   "id": "9bf7d01b",
   "metadata": {},
   "source": [
    "### 4.1.2 Selecting a group"
   ]
  },
  {
   "cell_type": "code",
   "execution_count": 131,
   "id": "c27f25a4",
   "metadata": {},
   "outputs": [
    {
     "data": {
      "text/plain": [
       "{'bar': [1, 3, 5], 'foo': [0, 2, 4, 6, 7]}"
      ]
     },
     "execution_count": 131,
     "metadata": {},
     "output_type": "execute_result"
    }
   ],
   "source": [
    "grouped = df.groupby('A')\n",
    "grouped.groups"
   ]
  },
  {
   "cell_type": "code",
   "execution_count": 132,
   "id": "ebd15103",
   "metadata": {},
   "outputs": [
    {
     "data": {
      "text/html": [
       "<div>\n",
       "<style scoped>\n",
       "    .dataframe tbody tr th:only-of-type {\n",
       "        vertical-align: middle;\n",
       "    }\n",
       "\n",
       "    .dataframe tbody tr th {\n",
       "        vertical-align: top;\n",
       "    }\n",
       "\n",
       "    .dataframe thead th {\n",
       "        text-align: right;\n",
       "    }\n",
       "</style>\n",
       "<table border=\"1\" class=\"dataframe\">\n",
       "  <thead>\n",
       "    <tr style=\"text-align: right;\">\n",
       "      <th></th>\n",
       "      <th>A</th>\n",
       "      <th>B</th>\n",
       "      <th>C</th>\n",
       "      <th>D</th>\n",
       "    </tr>\n",
       "  </thead>\n",
       "  <tbody>\n",
       "    <tr>\n",
       "      <th>1</th>\n",
       "      <td>bar</td>\n",
       "      <td>one</td>\n",
       "      <td>0.026203</td>\n",
       "      <td>-0.991155</td>\n",
       "    </tr>\n",
       "    <tr>\n",
       "      <th>3</th>\n",
       "      <td>bar</td>\n",
       "      <td>three</td>\n",
       "      <td>-0.232708</td>\n",
       "      <td>-0.063161</td>\n",
       "    </tr>\n",
       "    <tr>\n",
       "      <th>5</th>\n",
       "      <td>bar</td>\n",
       "      <td>two</td>\n",
       "      <td>-0.674804</td>\n",
       "      <td>0.876703</td>\n",
       "    </tr>\n",
       "  </tbody>\n",
       "</table>\n",
       "</div>"
      ],
      "text/plain": [
       "     A      B         C         D\n",
       "1  bar    one  0.026203 -0.991155\n",
       "3  bar  three -0.232708 -0.063161\n",
       "5  bar    two -0.674804  0.876703"
      ]
     },
     "execution_count": 132,
     "metadata": {},
     "output_type": "execute_result"
    }
   ],
   "source": [
    "grouped.get_group('bar')"
   ]
  },
  {
   "cell_type": "markdown",
   "id": "792777f0",
   "metadata": {},
   "source": [
    "## 4.2 Aggregation "
   ]
  },
  {
   "cell_type": "markdown",
   "id": "7cf8b3c4",
   "metadata": {},
   "source": [
    "An aggregation is a GroupBy operation that reduces the dimension of the grouping object. The result of an aggregation is, or at least is treated as, a scalar value for each column in a group."
   ]
  },
  {
   "cell_type": "code",
   "execution_count": 136,
   "id": "5f1a4aec",
   "metadata": {},
   "outputs": [
    {
     "data": {
      "text/html": [
       "<div>\n",
       "<style scoped>\n",
       "    .dataframe tbody tr th:only-of-type {\n",
       "        vertical-align: middle;\n",
       "    }\n",
       "\n",
       "    .dataframe tbody tr th {\n",
       "        vertical-align: top;\n",
       "    }\n",
       "\n",
       "    .dataframe thead th {\n",
       "        text-align: right;\n",
       "    }\n",
       "</style>\n",
       "<table border=\"1\" class=\"dataframe\">\n",
       "  <thead>\n",
       "    <tr style=\"text-align: right;\">\n",
       "      <th></th>\n",
       "      <th>kind</th>\n",
       "      <th>height</th>\n",
       "      <th>weight</th>\n",
       "    </tr>\n",
       "  </thead>\n",
       "  <tbody>\n",
       "    <tr>\n",
       "      <th>0</th>\n",
       "      <td>cat</td>\n",
       "      <td>9.1</td>\n",
       "      <td>7.9</td>\n",
       "    </tr>\n",
       "    <tr>\n",
       "      <th>1</th>\n",
       "      <td>dog</td>\n",
       "      <td>6.0</td>\n",
       "      <td>7.5</td>\n",
       "    </tr>\n",
       "    <tr>\n",
       "      <th>2</th>\n",
       "      <td>cat</td>\n",
       "      <td>9.5</td>\n",
       "      <td>9.9</td>\n",
       "    </tr>\n",
       "    <tr>\n",
       "      <th>3</th>\n",
       "      <td>dog</td>\n",
       "      <td>34.0</td>\n",
       "      <td>198.0</td>\n",
       "    </tr>\n",
       "  </tbody>\n",
       "</table>\n",
       "</div>"
      ],
      "text/plain": [
       "  kind  height  weight\n",
       "0  cat     9.1     7.9\n",
       "1  dog     6.0     7.5\n",
       "2  cat     9.5     9.9\n",
       "3  dog    34.0   198.0"
      ]
     },
     "execution_count": 136,
     "metadata": {},
     "output_type": "execute_result"
    }
   ],
   "source": [
    "animals = pd.DataFrame({'kind': ['cat', 'dog', 'cat', 'dog'], 'height': [9.1, 6.0, 9.5, 34.0], 'weight': [7.9, 7.5, 9.9, 198.0]})\n",
    "animals"
   ]
  },
  {
   "cell_type": "code",
   "execution_count": 158,
   "id": "f5fc099d",
   "metadata": {},
   "outputs": [
    {
     "data": {
      "text/html": [
       "<div>\n",
       "<style scoped>\n",
       "    .dataframe tbody tr th:only-of-type {\n",
       "        vertical-align: middle;\n",
       "    }\n",
       "\n",
       "    .dataframe tbody tr th {\n",
       "        vertical-align: top;\n",
       "    }\n",
       "\n",
       "    .dataframe thead th {\n",
       "        text-align: right;\n",
       "    }\n",
       "</style>\n",
       "<table border=\"1\" class=\"dataframe\">\n",
       "  <thead>\n",
       "    <tr style=\"text-align: right;\">\n",
       "      <th></th>\n",
       "      <th>height</th>\n",
       "      <th>weight</th>\n",
       "    </tr>\n",
       "    <tr>\n",
       "      <th>kind</th>\n",
       "      <th></th>\n",
       "      <th></th>\n",
       "    </tr>\n",
       "  </thead>\n",
       "  <tbody>\n",
       "    <tr>\n",
       "      <th>cat</th>\n",
       "      <td>9.3</td>\n",
       "      <td>8.90</td>\n",
       "    </tr>\n",
       "    <tr>\n",
       "      <th>dog</th>\n",
       "      <td>20.0</td>\n",
       "      <td>102.75</td>\n",
       "    </tr>\n",
       "  </tbody>\n",
       "</table>\n",
       "</div>"
      ],
      "text/plain": [
       "      height  weight\n",
       "kind                \n",
       "cat      9.3    8.90\n",
       "dog     20.0  102.75"
      ]
     },
     "execution_count": 158,
     "metadata": {},
     "output_type": "execute_result"
    }
   ],
   "source": [
    "grouped = animals.groupby('kind')\n",
    "gmean = grouped.mean()"
   ]
  },
  {
   "cell_type": "code",
   "execution_count": 145,
   "id": "7decc1db",
   "metadata": {},
   "outputs": [
    {
     "data": {
      "text/plain": [
       "kind\n",
       "cat    2\n",
       "dog    3\n",
       "Name: height, dtype: int64"
      ]
     },
     "execution_count": 145,
     "metadata": {},
     "output_type": "execute_result"
    }
   ],
   "source": [
    "grouped['height'].idxmax()"
   ]
  },
  {
   "cell_type": "code",
   "execution_count": 146,
   "id": "e9591956",
   "metadata": {},
   "outputs": [
    {
     "data": {
      "text/html": [
       "<div>\n",
       "<style scoped>\n",
       "    .dataframe tbody tr th:only-of-type {\n",
       "        vertical-align: middle;\n",
       "    }\n",
       "\n",
       "    .dataframe tbody tr th {\n",
       "        vertical-align: top;\n",
       "    }\n",
       "\n",
       "    .dataframe thead th {\n",
       "        text-align: right;\n",
       "    }\n",
       "</style>\n",
       "<table border=\"1\" class=\"dataframe\">\n",
       "  <thead>\n",
       "    <tr style=\"text-align: right;\">\n",
       "      <th></th>\n",
       "      <th>kind</th>\n",
       "      <th>height</th>\n",
       "      <th>weight</th>\n",
       "    </tr>\n",
       "  </thead>\n",
       "  <tbody>\n",
       "    <tr>\n",
       "      <th>2</th>\n",
       "      <td>cat</td>\n",
       "      <td>9.5</td>\n",
       "      <td>9.9</td>\n",
       "    </tr>\n",
       "    <tr>\n",
       "      <th>3</th>\n",
       "      <td>dog</td>\n",
       "      <td>34.0</td>\n",
       "      <td>198.0</td>\n",
       "    </tr>\n",
       "  </tbody>\n",
       "</table>\n",
       "</div>"
      ],
      "text/plain": [
       "  kind  height  weight\n",
       "2  cat     9.5     9.9\n",
       "3  dog    34.0   198.0"
      ]
     },
     "execution_count": 146,
     "metadata": {},
     "output_type": "execute_result"
    }
   ],
   "source": [
    "animals.iloc[grouped['height'].idxmax().array]"
   ]
  },
  {
   "cell_type": "code",
   "execution_count": 147,
   "id": "df76ccc3",
   "metadata": {},
   "outputs": [
    {
     "data": {
      "text/html": [
       "<div>\n",
       "<style scoped>\n",
       "    .dataframe tbody tr th:only-of-type {\n",
       "        vertical-align: middle;\n",
       "    }\n",
       "\n",
       "    .dataframe tbody tr th {\n",
       "        vertical-align: top;\n",
       "    }\n",
       "\n",
       "    .dataframe thead th {\n",
       "        text-align: right;\n",
       "    }\n",
       "</style>\n",
       "<table border=\"1\" class=\"dataframe\">\n",
       "  <thead>\n",
       "    <tr style=\"text-align: right;\">\n",
       "      <th></th>\n",
       "      <th>kind</th>\n",
       "      <th>height</th>\n",
       "      <th>weight</th>\n",
       "    </tr>\n",
       "  </thead>\n",
       "  <tbody>\n",
       "    <tr>\n",
       "      <th>2</th>\n",
       "      <td>cat</td>\n",
       "      <td>9.5</td>\n",
       "      <td>9.9</td>\n",
       "    </tr>\n",
       "    <tr>\n",
       "      <th>3</th>\n",
       "      <td>dog</td>\n",
       "      <td>34.0</td>\n",
       "      <td>198.0</td>\n",
       "    </tr>\n",
       "  </tbody>\n",
       "</table>\n",
       "</div>"
      ],
      "text/plain": [
       "  kind  height  weight\n",
       "2  cat     9.5     9.9\n",
       "3  dog    34.0   198.0"
      ]
     },
     "execution_count": 147,
     "metadata": {},
     "output_type": "execute_result"
    }
   ],
   "source": [
    "animals.iloc[grouped['height'].idxmax().to_numpy()]"
   ]
  },
  {
   "cell_type": "code",
   "execution_count": 148,
   "id": "1bac2d5e",
   "metadata": {},
   "outputs": [
    {
     "data": {
      "text/html": [
       "<div>\n",
       "<style scoped>\n",
       "    .dataframe tbody tr th:only-of-type {\n",
       "        vertical-align: middle;\n",
       "    }\n",
       "\n",
       "    .dataframe tbody tr th {\n",
       "        vertical-align: top;\n",
       "    }\n",
       "\n",
       "    .dataframe thead tr th {\n",
       "        text-align: left;\n",
       "    }\n",
       "\n",
       "    .dataframe thead tr:last-of-type th {\n",
       "        text-align: right;\n",
       "    }\n",
       "</style>\n",
       "<table border=\"1\" class=\"dataframe\">\n",
       "  <thead>\n",
       "    <tr>\n",
       "      <th></th>\n",
       "      <th colspan=\"8\" halign=\"left\">height</th>\n",
       "      <th colspan=\"8\" halign=\"left\">weight</th>\n",
       "    </tr>\n",
       "    <tr>\n",
       "      <th></th>\n",
       "      <th>count</th>\n",
       "      <th>mean</th>\n",
       "      <th>std</th>\n",
       "      <th>min</th>\n",
       "      <th>25%</th>\n",
       "      <th>50%</th>\n",
       "      <th>75%</th>\n",
       "      <th>max</th>\n",
       "      <th>count</th>\n",
       "      <th>mean</th>\n",
       "      <th>std</th>\n",
       "      <th>min</th>\n",
       "      <th>25%</th>\n",
       "      <th>50%</th>\n",
       "      <th>75%</th>\n",
       "      <th>max</th>\n",
       "    </tr>\n",
       "    <tr>\n",
       "      <th>kind</th>\n",
       "      <th></th>\n",
       "      <th></th>\n",
       "      <th></th>\n",
       "      <th></th>\n",
       "      <th></th>\n",
       "      <th></th>\n",
       "      <th></th>\n",
       "      <th></th>\n",
       "      <th></th>\n",
       "      <th></th>\n",
       "      <th></th>\n",
       "      <th></th>\n",
       "      <th></th>\n",
       "      <th></th>\n",
       "      <th></th>\n",
       "      <th></th>\n",
       "    </tr>\n",
       "  </thead>\n",
       "  <tbody>\n",
       "    <tr>\n",
       "      <th>cat</th>\n",
       "      <td>2.0</td>\n",
       "      <td>9.3</td>\n",
       "      <td>0.282843</td>\n",
       "      <td>9.1</td>\n",
       "      <td>9.2</td>\n",
       "      <td>9.3</td>\n",
       "      <td>9.4</td>\n",
       "      <td>9.5</td>\n",
       "      <td>2.0</td>\n",
       "      <td>8.90</td>\n",
       "      <td>1.414214</td>\n",
       "      <td>7.9</td>\n",
       "      <td>8.400</td>\n",
       "      <td>8.90</td>\n",
       "      <td>9.400</td>\n",
       "      <td>9.9</td>\n",
       "    </tr>\n",
       "    <tr>\n",
       "      <th>dog</th>\n",
       "      <td>2.0</td>\n",
       "      <td>20.0</td>\n",
       "      <td>19.798990</td>\n",
       "      <td>6.0</td>\n",
       "      <td>13.0</td>\n",
       "      <td>20.0</td>\n",
       "      <td>27.0</td>\n",
       "      <td>34.0</td>\n",
       "      <td>2.0</td>\n",
       "      <td>102.75</td>\n",
       "      <td>134.703842</td>\n",
       "      <td>7.5</td>\n",
       "      <td>55.125</td>\n",
       "      <td>102.75</td>\n",
       "      <td>150.375</td>\n",
       "      <td>198.0</td>\n",
       "    </tr>\n",
       "  </tbody>\n",
       "</table>\n",
       "</div>"
      ],
      "text/plain": [
       "     height                                               weight           \n",
       "      count  mean        std  min   25%   50%   75%   max  count    mean   \n",
       "kind                                                                       \n",
       "cat     2.0   9.3   0.282843  9.1   9.2   9.3   9.4   9.5    2.0    8.90  \\\n",
       "dog     2.0  20.0  19.798990  6.0  13.0  20.0  27.0  34.0    2.0  102.75   \n",
       "\n",
       "                                                       \n",
       "             std  min     25%     50%      75%    max  \n",
       "kind                                                   \n",
       "cat     1.414214  7.9   8.400    8.90    9.400    9.9  \n",
       "dog   134.703842  7.5  55.125  102.75  150.375  198.0  "
      ]
     },
     "execution_count": 148,
     "metadata": {},
     "output_type": "execute_result"
    }
   ],
   "source": [
    "grouped.describe()"
   ]
  },
  {
   "cell_type": "code",
   "execution_count": 150,
   "id": "83d0aabe",
   "metadata": {},
   "outputs": [
    {
     "data": {
      "text/html": [
       "<div>\n",
       "<style scoped>\n",
       "    .dataframe tbody tr th:only-of-type {\n",
       "        vertical-align: middle;\n",
       "    }\n",
       "\n",
       "    .dataframe tbody tr th {\n",
       "        vertical-align: top;\n",
       "    }\n",
       "\n",
       "    .dataframe thead th {\n",
       "        text-align: right;\n",
       "    }\n",
       "</style>\n",
       "<table border=\"1\" class=\"dataframe\">\n",
       "  <thead>\n",
       "    <tr style=\"text-align: right;\">\n",
       "      <th></th>\n",
       "      <th>kind</th>\n",
       "      <th>height</th>\n",
       "      <th>weight</th>\n",
       "    </tr>\n",
       "  </thead>\n",
       "  <tbody>\n",
       "    <tr>\n",
       "      <th>0</th>\n",
       "      <td>cat</td>\n",
       "      <td>9.1</td>\n",
       "      <td>7.9</td>\n",
       "    </tr>\n",
       "    <tr>\n",
       "      <th>1</th>\n",
       "      <td>dog</td>\n",
       "      <td>6.0</td>\n",
       "      <td>7.5</td>\n",
       "    </tr>\n",
       "    <tr>\n",
       "      <th>2</th>\n",
       "      <td>cat</td>\n",
       "      <td>9.5</td>\n",
       "      <td>9.9</td>\n",
       "    </tr>\n",
       "    <tr>\n",
       "      <th>3</th>\n",
       "      <td>dog</td>\n",
       "      <td>34.0</td>\n",
       "      <td>198.0</td>\n",
       "    </tr>\n",
       "  </tbody>\n",
       "</table>\n",
       "</div>"
      ],
      "text/plain": [
       "  kind  height  weight\n",
       "0  cat     9.1     7.9\n",
       "1  dog     6.0     7.5\n",
       "2  cat     9.5     9.9\n",
       "3  dog    34.0   198.0"
      ]
     },
     "execution_count": 150,
     "metadata": {},
     "output_type": "execute_result"
    }
   ],
   "source": [
    "# Aggregation with user-defined functions\n",
    "animals"
   ]
  },
  {
   "cell_type": "code",
   "execution_count": 152,
   "id": "1d1e085b",
   "metadata": {},
   "outputs": [
    {
     "data": {
      "text/plain": [
       "kind\n",
       "cat     {9.1, 9.5}\n",
       "dog    {34.0, 6.0}\n",
       "Name: height, dtype: object"
      ]
     },
     "execution_count": 152,
     "metadata": {},
     "output_type": "execute_result"
    }
   ],
   "source": [
    "animals.groupby('kind')['height'].agg(lambda x:set(x))"
   ]
  },
  {
   "cell_type": "code",
   "execution_count": 153,
   "id": "bb22c934",
   "metadata": {},
   "outputs": [
    {
     "data": {
      "text/html": [
       "<div>\n",
       "<style scoped>\n",
       "    .dataframe tbody tr th:only-of-type {\n",
       "        vertical-align: middle;\n",
       "    }\n",
       "\n",
       "    .dataframe tbody tr th {\n",
       "        vertical-align: top;\n",
       "    }\n",
       "\n",
       "    .dataframe thead th {\n",
       "        text-align: right;\n",
       "    }\n",
       "</style>\n",
       "<table border=\"1\" class=\"dataframe\">\n",
       "  <thead>\n",
       "    <tr style=\"text-align: right;\">\n",
       "      <th></th>\n",
       "      <th>weight</th>\n",
       "      <th>height</th>\n",
       "    </tr>\n",
       "    <tr>\n",
       "      <th>kind</th>\n",
       "      <th></th>\n",
       "      <th></th>\n",
       "    </tr>\n",
       "  </thead>\n",
       "  <tbody>\n",
       "    <tr>\n",
       "      <th>cat</th>\n",
       "      <td>16</td>\n",
       "      <td>18</td>\n",
       "    </tr>\n",
       "    <tr>\n",
       "      <th>dog</th>\n",
       "      <td>205</td>\n",
       "      <td>40</td>\n",
       "    </tr>\n",
       "  </tbody>\n",
       "</table>\n",
       "</div>"
      ],
      "text/plain": [
       "      weight  height\n",
       "kind                \n",
       "cat       16      18\n",
       "dog      205      40"
      ]
     },
     "execution_count": 153,
     "metadata": {},
     "output_type": "execute_result"
    }
   ],
   "source": [
    "animals.groupby('kind')[['weight', 'height']].agg(lambda x: x.astype(int).sum())"
   ]
  },
  {
   "cell_type": "code",
   "execution_count": 154,
   "id": "c37407bf",
   "metadata": {},
   "outputs": [
    {
     "data": {
      "text/html": [
       "<div>\n",
       "<style scoped>\n",
       "    .dataframe tbody tr th:only-of-type {\n",
       "        vertical-align: middle;\n",
       "    }\n",
       "\n",
       "    .dataframe tbody tr th {\n",
       "        vertical-align: top;\n",
       "    }\n",
       "\n",
       "    .dataframe thead tr th {\n",
       "        text-align: left;\n",
       "    }\n",
       "\n",
       "    .dataframe thead tr:last-of-type th {\n",
       "        text-align: right;\n",
       "    }\n",
       "</style>\n",
       "<table border=\"1\" class=\"dataframe\">\n",
       "  <thead>\n",
       "    <tr>\n",
       "      <th></th>\n",
       "      <th colspan=\"3\" halign=\"left\">height</th>\n",
       "      <th colspan=\"3\" halign=\"left\">weight</th>\n",
       "    </tr>\n",
       "    <tr>\n",
       "      <th></th>\n",
       "      <th>sum</th>\n",
       "      <th>mean</th>\n",
       "      <th>std</th>\n",
       "      <th>sum</th>\n",
       "      <th>mean</th>\n",
       "      <th>std</th>\n",
       "    </tr>\n",
       "    <tr>\n",
       "      <th>kind</th>\n",
       "      <th></th>\n",
       "      <th></th>\n",
       "      <th></th>\n",
       "      <th></th>\n",
       "      <th></th>\n",
       "      <th></th>\n",
       "    </tr>\n",
       "  </thead>\n",
       "  <tbody>\n",
       "    <tr>\n",
       "      <th>cat</th>\n",
       "      <td>18.6</td>\n",
       "      <td>9.3</td>\n",
       "      <td>0.282843</td>\n",
       "      <td>17.8</td>\n",
       "      <td>8.90</td>\n",
       "      <td>1.414214</td>\n",
       "    </tr>\n",
       "    <tr>\n",
       "      <th>dog</th>\n",
       "      <td>40.0</td>\n",
       "      <td>20.0</td>\n",
       "      <td>19.798990</td>\n",
       "      <td>205.5</td>\n",
       "      <td>102.75</td>\n",
       "      <td>134.703842</td>\n",
       "    </tr>\n",
       "  </tbody>\n",
       "</table>\n",
       "</div>"
      ],
      "text/plain": [
       "     height                  weight                    \n",
       "        sum  mean        std    sum    mean         std\n",
       "kind                                                   \n",
       "cat    18.6   9.3   0.282843   17.8    8.90    1.414214\n",
       "dog    40.0  20.0  19.798990  205.5  102.75  134.703842"
      ]
     },
     "execution_count": 154,
     "metadata": {},
     "output_type": "execute_result"
    }
   ],
   "source": [
    "# Applying multiple functions at once\n",
    "animals.groupby('kind').agg(['sum', 'mean', 'std'])"
   ]
  },
  {
   "cell_type": "markdown",
   "id": "b8c9bcd5",
   "metadata": {},
   "source": [
    "## 4.3 Flexible ***apply***"
   ]
  },
  {
   "cell_type": "code",
   "execution_count": 193,
   "id": "a38ba0b0",
   "metadata": {},
   "outputs": [
    {
     "data": {
      "text/html": [
       "<div>\n",
       "<style scoped>\n",
       "    .dataframe tbody tr th:only-of-type {\n",
       "        vertical-align: middle;\n",
       "    }\n",
       "\n",
       "    .dataframe tbody tr th {\n",
       "        vertical-align: top;\n",
       "    }\n",
       "\n",
       "    .dataframe thead th {\n",
       "        text-align: right;\n",
       "    }\n",
       "</style>\n",
       "<table border=\"1\" class=\"dataframe\">\n",
       "  <thead>\n",
       "    <tr style=\"text-align: right;\">\n",
       "      <th></th>\n",
       "      <th></th>\n",
       "      <th>height</th>\n",
       "      <th>weight</th>\n",
       "    </tr>\n",
       "    <tr>\n",
       "      <th>kind</th>\n",
       "      <th></th>\n",
       "      <th></th>\n",
       "      <th></th>\n",
       "    </tr>\n",
       "  </thead>\n",
       "  <tbody>\n",
       "    <tr>\n",
       "      <th rowspan=\"2\" valign=\"top\">cat</th>\n",
       "      <th>0</th>\n",
       "      <td>False</td>\n",
       "      <td>False</td>\n",
       "    </tr>\n",
       "    <tr>\n",
       "      <th>2</th>\n",
       "      <td>True</td>\n",
       "      <td>True</td>\n",
       "    </tr>\n",
       "    <tr>\n",
       "      <th rowspan=\"2\" valign=\"top\">dog</th>\n",
       "      <th>1</th>\n",
       "      <td>False</td>\n",
       "      <td>False</td>\n",
       "    </tr>\n",
       "    <tr>\n",
       "      <th>3</th>\n",
       "      <td>True</td>\n",
       "      <td>True</td>\n",
       "    </tr>\n",
       "  </tbody>\n",
       "</table>\n",
       "</div>"
      ],
      "text/plain": [
       "        height  weight\n",
       "kind                  \n",
       "cat  0   False   False\n",
       "     2    True    True\n",
       "dog  1   False   False\n",
       "     3    True    True"
      ]
     },
     "execution_count": 193,
     "metadata": {},
     "output_type": "execute_result"
    }
   ],
   "source": [
    "animals.groupby('kind').apply(lambda x: x > x.mean())"
   ]
  },
  {
   "cell_type": "code",
   "execution_count": 204,
   "id": "0902e590",
   "metadata": {},
   "outputs": [
    {
     "data": {
      "text/html": [
       "<div>\n",
       "<style scoped>\n",
       "    .dataframe tbody tr th:only-of-type {\n",
       "        vertical-align: middle;\n",
       "    }\n",
       "\n",
       "    .dataframe tbody tr th {\n",
       "        vertical-align: top;\n",
       "    }\n",
       "\n",
       "    .dataframe thead th {\n",
       "        text-align: right;\n",
       "    }\n",
       "</style>\n",
       "<table border=\"1\" class=\"dataframe\">\n",
       "  <thead>\n",
       "    <tr style=\"text-align: right;\">\n",
       "      <th></th>\n",
       "      <th></th>\n",
       "      <th>kind</th>\n",
       "      <th>height</th>\n",
       "      <th>weight</th>\n",
       "    </tr>\n",
       "    <tr>\n",
       "      <th>kind</th>\n",
       "      <th></th>\n",
       "      <th></th>\n",
       "      <th></th>\n",
       "      <th></th>\n",
       "    </tr>\n",
       "  </thead>\n",
       "  <tbody>\n",
       "    <tr>\n",
       "      <th>cat</th>\n",
       "      <th>2</th>\n",
       "      <td>cat</td>\n",
       "      <td>9.5</td>\n",
       "      <td>9.9</td>\n",
       "    </tr>\n",
       "    <tr>\n",
       "      <th>dog</th>\n",
       "      <th>3</th>\n",
       "      <td>dog</td>\n",
       "      <td>34.0</td>\n",
       "      <td>198.0</td>\n",
       "    </tr>\n",
       "  </tbody>\n",
       "</table>\n",
       "</div>"
      ],
      "text/plain": [
       "       kind  height  weight\n",
       "kind                       \n",
       "cat  2  cat     9.5     9.9\n",
       "dog  3  dog    34.0   198.0"
      ]
     },
     "execution_count": 204,
     "metadata": {},
     "output_type": "execute_result"
    }
   ],
   "source": [
    "def select_higher_than_average(group): # the user defined function's \n",
    "    return group[group['height'] > group['height'].mean()]\n",
    "\n",
    "animals.groupby('kind').apply(select_higher_than_average)      "
   ]
  },
  {
   "cell_type": "code",
   "execution_count": null,
   "id": "193748a6",
   "metadata": {},
   "outputs": [],
   "source": []
  }
 ],
 "metadata": {
  "kernelspec": {
   "display_name": "Python 3 (ipykernel)",
   "language": "python",
   "name": "python3"
  },
  "language_info": {
   "codemirror_mode": {
    "name": "ipython",
    "version": 3
   },
   "file_extension": ".py",
   "mimetype": "text/x-python",
   "name": "python",
   "nbconvert_exporter": "python",
   "pygments_lexer": "ipython3",
   "version": "3.11.2"
  }
 },
 "nbformat": 4,
 "nbformat_minor": 5
}
